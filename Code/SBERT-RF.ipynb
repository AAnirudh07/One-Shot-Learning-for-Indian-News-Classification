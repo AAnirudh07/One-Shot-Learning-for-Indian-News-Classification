{
  "nbformat": 4,
  "nbformat_minor": 0,
  "metadata": {
    "colab": {
      "provenance": []
    },
    "kernelspec": {
      "name": "python3",
      "display_name": "Python 3"
    },
    "language_info": {
      "name": "python"
    },
    "widgets": {
      "application/vnd.jupyter.widget-state+json": {
        "51eb6f4f341244d19a511ebc13749099": {
          "model_module": "@jupyter-widgets/controls",
          "model_name": "HBoxModel",
          "model_module_version": "1.5.0",
          "state": {
            "_dom_classes": [],
            "_model_module": "@jupyter-widgets/controls",
            "_model_module_version": "1.5.0",
            "_model_name": "HBoxModel",
            "_view_count": null,
            "_view_module": "@jupyter-widgets/controls",
            "_view_module_version": "1.5.0",
            "_view_name": "HBoxView",
            "box_style": "",
            "children": [
              "IPY_MODEL_8400958f24304e55b5b7da1a97c5b95c",
              "IPY_MODEL_13004424d3a24f409aaf0bb656510a7d",
              "IPY_MODEL_5cdc095979ae44a5a210eb53c60597f8"
            ],
            "layout": "IPY_MODEL_691f81b8cf1e4e929d9a176fcff1ba1f"
          }
        },
        "8400958f24304e55b5b7da1a97c5b95c": {
          "model_module": "@jupyter-widgets/controls",
          "model_name": "HTMLModel",
          "model_module_version": "1.5.0",
          "state": {
            "_dom_classes": [],
            "_model_module": "@jupyter-widgets/controls",
            "_model_module_version": "1.5.0",
            "_model_name": "HTMLModel",
            "_view_count": null,
            "_view_module": "@jupyter-widgets/controls",
            "_view_module_version": "1.5.0",
            "_view_name": "HTMLView",
            "description": "",
            "description_tooltip": null,
            "layout": "IPY_MODEL_264c5d48988b4e3db2246ac7fddbf445",
            "placeholder": "​",
            "style": "IPY_MODEL_bd4fb465840545298cc81c1ea56461c6",
            "value": "Epoch: 100%"
          }
        },
        "13004424d3a24f409aaf0bb656510a7d": {
          "model_module": "@jupyter-widgets/controls",
          "model_name": "FloatProgressModel",
          "model_module_version": "1.5.0",
          "state": {
            "_dom_classes": [],
            "_model_module": "@jupyter-widgets/controls",
            "_model_module_version": "1.5.0",
            "_model_name": "FloatProgressModel",
            "_view_count": null,
            "_view_module": "@jupyter-widgets/controls",
            "_view_module_version": "1.5.0",
            "_view_name": "ProgressView",
            "bar_style": "success",
            "description": "",
            "description_tooltip": null,
            "layout": "IPY_MODEL_b67750ae82094f7bb013550391bcdcd3",
            "max": 1,
            "min": 0,
            "orientation": "horizontal",
            "style": "IPY_MODEL_a141e1478642400e8c224afdb85aa37b",
            "value": 1
          }
        },
        "5cdc095979ae44a5a210eb53c60597f8": {
          "model_module": "@jupyter-widgets/controls",
          "model_name": "HTMLModel",
          "model_module_version": "1.5.0",
          "state": {
            "_dom_classes": [],
            "_model_module": "@jupyter-widgets/controls",
            "_model_module_version": "1.5.0",
            "_model_name": "HTMLModel",
            "_view_count": null,
            "_view_module": "@jupyter-widgets/controls",
            "_view_module_version": "1.5.0",
            "_view_name": "HTMLView",
            "description": "",
            "description_tooltip": null,
            "layout": "IPY_MODEL_6087ce0c0f4a41c491d2bec95daa0ed2",
            "placeholder": "​",
            "style": "IPY_MODEL_b6f832d71a724f0db6679d7e1f46fd21",
            "value": " 1/1 [00:30&lt;00:00, 30.60s/it]"
          }
        },
        "691f81b8cf1e4e929d9a176fcff1ba1f": {
          "model_module": "@jupyter-widgets/base",
          "model_name": "LayoutModel",
          "model_module_version": "1.2.0",
          "state": {
            "_model_module": "@jupyter-widgets/base",
            "_model_module_version": "1.2.0",
            "_model_name": "LayoutModel",
            "_view_count": null,
            "_view_module": "@jupyter-widgets/base",
            "_view_module_version": "1.2.0",
            "_view_name": "LayoutView",
            "align_content": null,
            "align_items": null,
            "align_self": null,
            "border": null,
            "bottom": null,
            "display": null,
            "flex": null,
            "flex_flow": null,
            "grid_area": null,
            "grid_auto_columns": null,
            "grid_auto_flow": null,
            "grid_auto_rows": null,
            "grid_column": null,
            "grid_gap": null,
            "grid_row": null,
            "grid_template_areas": null,
            "grid_template_columns": null,
            "grid_template_rows": null,
            "height": null,
            "justify_content": null,
            "justify_items": null,
            "left": null,
            "margin": null,
            "max_height": null,
            "max_width": null,
            "min_height": null,
            "min_width": null,
            "object_fit": null,
            "object_position": null,
            "order": null,
            "overflow": null,
            "overflow_x": null,
            "overflow_y": null,
            "padding": null,
            "right": null,
            "top": null,
            "visibility": null,
            "width": null
          }
        },
        "264c5d48988b4e3db2246ac7fddbf445": {
          "model_module": "@jupyter-widgets/base",
          "model_name": "LayoutModel",
          "model_module_version": "1.2.0",
          "state": {
            "_model_module": "@jupyter-widgets/base",
            "_model_module_version": "1.2.0",
            "_model_name": "LayoutModel",
            "_view_count": null,
            "_view_module": "@jupyter-widgets/base",
            "_view_module_version": "1.2.0",
            "_view_name": "LayoutView",
            "align_content": null,
            "align_items": null,
            "align_self": null,
            "border": null,
            "bottom": null,
            "display": null,
            "flex": null,
            "flex_flow": null,
            "grid_area": null,
            "grid_auto_columns": null,
            "grid_auto_flow": null,
            "grid_auto_rows": null,
            "grid_column": null,
            "grid_gap": null,
            "grid_row": null,
            "grid_template_areas": null,
            "grid_template_columns": null,
            "grid_template_rows": null,
            "height": null,
            "justify_content": null,
            "justify_items": null,
            "left": null,
            "margin": null,
            "max_height": null,
            "max_width": null,
            "min_height": null,
            "min_width": null,
            "object_fit": null,
            "object_position": null,
            "order": null,
            "overflow": null,
            "overflow_x": null,
            "overflow_y": null,
            "padding": null,
            "right": null,
            "top": null,
            "visibility": null,
            "width": null
          }
        },
        "bd4fb465840545298cc81c1ea56461c6": {
          "model_module": "@jupyter-widgets/controls",
          "model_name": "DescriptionStyleModel",
          "model_module_version": "1.5.0",
          "state": {
            "_model_module": "@jupyter-widgets/controls",
            "_model_module_version": "1.5.0",
            "_model_name": "DescriptionStyleModel",
            "_view_count": null,
            "_view_module": "@jupyter-widgets/base",
            "_view_module_version": "1.2.0",
            "_view_name": "StyleView",
            "description_width": ""
          }
        },
        "b67750ae82094f7bb013550391bcdcd3": {
          "model_module": "@jupyter-widgets/base",
          "model_name": "LayoutModel",
          "model_module_version": "1.2.0",
          "state": {
            "_model_module": "@jupyter-widgets/base",
            "_model_module_version": "1.2.0",
            "_model_name": "LayoutModel",
            "_view_count": null,
            "_view_module": "@jupyter-widgets/base",
            "_view_module_version": "1.2.0",
            "_view_name": "LayoutView",
            "align_content": null,
            "align_items": null,
            "align_self": null,
            "border": null,
            "bottom": null,
            "display": null,
            "flex": null,
            "flex_flow": null,
            "grid_area": null,
            "grid_auto_columns": null,
            "grid_auto_flow": null,
            "grid_auto_rows": null,
            "grid_column": null,
            "grid_gap": null,
            "grid_row": null,
            "grid_template_areas": null,
            "grid_template_columns": null,
            "grid_template_rows": null,
            "height": null,
            "justify_content": null,
            "justify_items": null,
            "left": null,
            "margin": null,
            "max_height": null,
            "max_width": null,
            "min_height": null,
            "min_width": null,
            "object_fit": null,
            "object_position": null,
            "order": null,
            "overflow": null,
            "overflow_x": null,
            "overflow_y": null,
            "padding": null,
            "right": null,
            "top": null,
            "visibility": null,
            "width": null
          }
        },
        "a141e1478642400e8c224afdb85aa37b": {
          "model_module": "@jupyter-widgets/controls",
          "model_name": "ProgressStyleModel",
          "model_module_version": "1.5.0",
          "state": {
            "_model_module": "@jupyter-widgets/controls",
            "_model_module_version": "1.5.0",
            "_model_name": "ProgressStyleModel",
            "_view_count": null,
            "_view_module": "@jupyter-widgets/base",
            "_view_module_version": "1.2.0",
            "_view_name": "StyleView",
            "bar_color": null,
            "description_width": ""
          }
        },
        "6087ce0c0f4a41c491d2bec95daa0ed2": {
          "model_module": "@jupyter-widgets/base",
          "model_name": "LayoutModel",
          "model_module_version": "1.2.0",
          "state": {
            "_model_module": "@jupyter-widgets/base",
            "_model_module_version": "1.2.0",
            "_model_name": "LayoutModel",
            "_view_count": null,
            "_view_module": "@jupyter-widgets/base",
            "_view_module_version": "1.2.0",
            "_view_name": "LayoutView",
            "align_content": null,
            "align_items": null,
            "align_self": null,
            "border": null,
            "bottom": null,
            "display": null,
            "flex": null,
            "flex_flow": null,
            "grid_area": null,
            "grid_auto_columns": null,
            "grid_auto_flow": null,
            "grid_auto_rows": null,
            "grid_column": null,
            "grid_gap": null,
            "grid_row": null,
            "grid_template_areas": null,
            "grid_template_columns": null,
            "grid_template_rows": null,
            "height": null,
            "justify_content": null,
            "justify_items": null,
            "left": null,
            "margin": null,
            "max_height": null,
            "max_width": null,
            "min_height": null,
            "min_width": null,
            "object_fit": null,
            "object_position": null,
            "order": null,
            "overflow": null,
            "overflow_x": null,
            "overflow_y": null,
            "padding": null,
            "right": null,
            "top": null,
            "visibility": null,
            "width": null
          }
        },
        "b6f832d71a724f0db6679d7e1f46fd21": {
          "model_module": "@jupyter-widgets/controls",
          "model_name": "DescriptionStyleModel",
          "model_module_version": "1.5.0",
          "state": {
            "_model_module": "@jupyter-widgets/controls",
            "_model_module_version": "1.5.0",
            "_model_name": "DescriptionStyleModel",
            "_view_count": null,
            "_view_module": "@jupyter-widgets/base",
            "_view_module_version": "1.2.0",
            "_view_name": "StyleView",
            "description_width": ""
          }
        },
        "9f30e8ecaf8340eb8c442f6edbf89a31": {
          "model_module": "@jupyter-widgets/controls",
          "model_name": "HBoxModel",
          "model_module_version": "1.5.0",
          "state": {
            "_dom_classes": [],
            "_model_module": "@jupyter-widgets/controls",
            "_model_module_version": "1.5.0",
            "_model_name": "HBoxModel",
            "_view_count": null,
            "_view_module": "@jupyter-widgets/controls",
            "_view_module_version": "1.5.0",
            "_view_name": "HBoxView",
            "box_style": "",
            "children": [
              "IPY_MODEL_ce13c9a97c174254a788e341736106b8",
              "IPY_MODEL_abe70f6fac174c17b5bc08140d52372f",
              "IPY_MODEL_27a4021354f441a78fbc6821611f35eb"
            ],
            "layout": "IPY_MODEL_304f97acd3c148bd83da5f28bd137d49"
          }
        },
        "ce13c9a97c174254a788e341736106b8": {
          "model_module": "@jupyter-widgets/controls",
          "model_name": "HTMLModel",
          "model_module_version": "1.5.0",
          "state": {
            "_dom_classes": [],
            "_model_module": "@jupyter-widgets/controls",
            "_model_module_version": "1.5.0",
            "_model_name": "HTMLModel",
            "_view_count": null,
            "_view_module": "@jupyter-widgets/controls",
            "_view_module_version": "1.5.0",
            "_view_name": "HTMLView",
            "description": "",
            "description_tooltip": null,
            "layout": "IPY_MODEL_671d91e629de4eb79fa18e47faaa1ef7",
            "placeholder": "​",
            "style": "IPY_MODEL_6891565a73f04f8d9deee645622cd0c1",
            "value": "Iteration: 100%"
          }
        },
        "abe70f6fac174c17b5bc08140d52372f": {
          "model_module": "@jupyter-widgets/controls",
          "model_name": "FloatProgressModel",
          "model_module_version": "1.5.0",
          "state": {
            "_dom_classes": [],
            "_model_module": "@jupyter-widgets/controls",
            "_model_module_version": "1.5.0",
            "_model_name": "FloatProgressModel",
            "_view_count": null,
            "_view_module": "@jupyter-widgets/controls",
            "_view_module_version": "1.5.0",
            "_view_name": "ProgressView",
            "bar_style": "success",
            "description": "",
            "description_tooltip": null,
            "layout": "IPY_MODEL_e11222f514794ede809e0235974a27be",
            "max": 1,
            "min": 0,
            "orientation": "horizontal",
            "style": "IPY_MODEL_a76ab979001748abaa3dac4334c36bf3",
            "value": 1
          }
        },
        "27a4021354f441a78fbc6821611f35eb": {
          "model_module": "@jupyter-widgets/controls",
          "model_name": "HTMLModel",
          "model_module_version": "1.5.0",
          "state": {
            "_dom_classes": [],
            "_model_module": "@jupyter-widgets/controls",
            "_model_module_version": "1.5.0",
            "_model_name": "HTMLModel",
            "_view_count": null,
            "_view_module": "@jupyter-widgets/controls",
            "_view_module_version": "1.5.0",
            "_view_name": "HTMLView",
            "description": "",
            "description_tooltip": null,
            "layout": "IPY_MODEL_119f47dd4f344504814a63f5cc220a10",
            "placeholder": "​",
            "style": "IPY_MODEL_8fc67efe0fb141f0b0b04275e9c2b205",
            "value": " 1/1 [00:30&lt;00:00, 30.53s/it]"
          }
        },
        "304f97acd3c148bd83da5f28bd137d49": {
          "model_module": "@jupyter-widgets/base",
          "model_name": "LayoutModel",
          "model_module_version": "1.2.0",
          "state": {
            "_model_module": "@jupyter-widgets/base",
            "_model_module_version": "1.2.0",
            "_model_name": "LayoutModel",
            "_view_count": null,
            "_view_module": "@jupyter-widgets/base",
            "_view_module_version": "1.2.0",
            "_view_name": "LayoutView",
            "align_content": null,
            "align_items": null,
            "align_self": null,
            "border": null,
            "bottom": null,
            "display": null,
            "flex": null,
            "flex_flow": null,
            "grid_area": null,
            "grid_auto_columns": null,
            "grid_auto_flow": null,
            "grid_auto_rows": null,
            "grid_column": null,
            "grid_gap": null,
            "grid_row": null,
            "grid_template_areas": null,
            "grid_template_columns": null,
            "grid_template_rows": null,
            "height": null,
            "justify_content": null,
            "justify_items": null,
            "left": null,
            "margin": null,
            "max_height": null,
            "max_width": null,
            "min_height": null,
            "min_width": null,
            "object_fit": null,
            "object_position": null,
            "order": null,
            "overflow": null,
            "overflow_x": null,
            "overflow_y": null,
            "padding": null,
            "right": null,
            "top": null,
            "visibility": null,
            "width": null
          }
        },
        "671d91e629de4eb79fa18e47faaa1ef7": {
          "model_module": "@jupyter-widgets/base",
          "model_name": "LayoutModel",
          "model_module_version": "1.2.0",
          "state": {
            "_model_module": "@jupyter-widgets/base",
            "_model_module_version": "1.2.0",
            "_model_name": "LayoutModel",
            "_view_count": null,
            "_view_module": "@jupyter-widgets/base",
            "_view_module_version": "1.2.0",
            "_view_name": "LayoutView",
            "align_content": null,
            "align_items": null,
            "align_self": null,
            "border": null,
            "bottom": null,
            "display": null,
            "flex": null,
            "flex_flow": null,
            "grid_area": null,
            "grid_auto_columns": null,
            "grid_auto_flow": null,
            "grid_auto_rows": null,
            "grid_column": null,
            "grid_gap": null,
            "grid_row": null,
            "grid_template_areas": null,
            "grid_template_columns": null,
            "grid_template_rows": null,
            "height": null,
            "justify_content": null,
            "justify_items": null,
            "left": null,
            "margin": null,
            "max_height": null,
            "max_width": null,
            "min_height": null,
            "min_width": null,
            "object_fit": null,
            "object_position": null,
            "order": null,
            "overflow": null,
            "overflow_x": null,
            "overflow_y": null,
            "padding": null,
            "right": null,
            "top": null,
            "visibility": null,
            "width": null
          }
        },
        "6891565a73f04f8d9deee645622cd0c1": {
          "model_module": "@jupyter-widgets/controls",
          "model_name": "DescriptionStyleModel",
          "model_module_version": "1.5.0",
          "state": {
            "_model_module": "@jupyter-widgets/controls",
            "_model_module_version": "1.5.0",
            "_model_name": "DescriptionStyleModel",
            "_view_count": null,
            "_view_module": "@jupyter-widgets/base",
            "_view_module_version": "1.2.0",
            "_view_name": "StyleView",
            "description_width": ""
          }
        },
        "e11222f514794ede809e0235974a27be": {
          "model_module": "@jupyter-widgets/base",
          "model_name": "LayoutModel",
          "model_module_version": "1.2.0",
          "state": {
            "_model_module": "@jupyter-widgets/base",
            "_model_module_version": "1.2.0",
            "_model_name": "LayoutModel",
            "_view_count": null,
            "_view_module": "@jupyter-widgets/base",
            "_view_module_version": "1.2.0",
            "_view_name": "LayoutView",
            "align_content": null,
            "align_items": null,
            "align_self": null,
            "border": null,
            "bottom": null,
            "display": null,
            "flex": null,
            "flex_flow": null,
            "grid_area": null,
            "grid_auto_columns": null,
            "grid_auto_flow": null,
            "grid_auto_rows": null,
            "grid_column": null,
            "grid_gap": null,
            "grid_row": null,
            "grid_template_areas": null,
            "grid_template_columns": null,
            "grid_template_rows": null,
            "height": null,
            "justify_content": null,
            "justify_items": null,
            "left": null,
            "margin": null,
            "max_height": null,
            "max_width": null,
            "min_height": null,
            "min_width": null,
            "object_fit": null,
            "object_position": null,
            "order": null,
            "overflow": null,
            "overflow_x": null,
            "overflow_y": null,
            "padding": null,
            "right": null,
            "top": null,
            "visibility": null,
            "width": null
          }
        },
        "a76ab979001748abaa3dac4334c36bf3": {
          "model_module": "@jupyter-widgets/controls",
          "model_name": "ProgressStyleModel",
          "model_module_version": "1.5.0",
          "state": {
            "_model_module": "@jupyter-widgets/controls",
            "_model_module_version": "1.5.0",
            "_model_name": "ProgressStyleModel",
            "_view_count": null,
            "_view_module": "@jupyter-widgets/base",
            "_view_module_version": "1.2.0",
            "_view_name": "StyleView",
            "bar_color": null,
            "description_width": ""
          }
        },
        "119f47dd4f344504814a63f5cc220a10": {
          "model_module": "@jupyter-widgets/base",
          "model_name": "LayoutModel",
          "model_module_version": "1.2.0",
          "state": {
            "_model_module": "@jupyter-widgets/base",
            "_model_module_version": "1.2.0",
            "_model_name": "LayoutModel",
            "_view_count": null,
            "_view_module": "@jupyter-widgets/base",
            "_view_module_version": "1.2.0",
            "_view_name": "LayoutView",
            "align_content": null,
            "align_items": null,
            "align_self": null,
            "border": null,
            "bottom": null,
            "display": null,
            "flex": null,
            "flex_flow": null,
            "grid_area": null,
            "grid_auto_columns": null,
            "grid_auto_flow": null,
            "grid_auto_rows": null,
            "grid_column": null,
            "grid_gap": null,
            "grid_row": null,
            "grid_template_areas": null,
            "grid_template_columns": null,
            "grid_template_rows": null,
            "height": null,
            "justify_content": null,
            "justify_items": null,
            "left": null,
            "margin": null,
            "max_height": null,
            "max_width": null,
            "min_height": null,
            "min_width": null,
            "object_fit": null,
            "object_position": null,
            "order": null,
            "overflow": null,
            "overflow_x": null,
            "overflow_y": null,
            "padding": null,
            "right": null,
            "top": null,
            "visibility": null,
            "width": null
          }
        },
        "8fc67efe0fb141f0b0b04275e9c2b205": {
          "model_module": "@jupyter-widgets/controls",
          "model_name": "DescriptionStyleModel",
          "model_module_version": "1.5.0",
          "state": {
            "_model_module": "@jupyter-widgets/controls",
            "_model_module_version": "1.5.0",
            "_model_name": "DescriptionStyleModel",
            "_view_count": null,
            "_view_module": "@jupyter-widgets/base",
            "_view_module_version": "1.2.0",
            "_view_name": "StyleView",
            "description_width": ""
          }
        }
      }
    },
    "accelerator": "TPU",
    "gpuClass": "standard"
  },
  "cells": [
    {
      "cell_type": "code",
      "execution_count": 1,
      "metadata": {
        "id": "CyEcj6yQRDy9"
      },
      "outputs": [],
      "source": [
        "#Imports\n",
        "import re\n",
        "import os\n",
        "import nltk\n",
        "from nltk.corpus import stopwords\n",
        "import numpy as np\n",
        "import pandas as pd \n",
        "import sklearn\n",
        "import tensorflow\n",
        "from google.colab import drive\n",
        "from sklearn.model_selection import train_test_split\n",
        "from sklearn.feature_extraction.text import CountVectorizer, TfidfVectorizer\n",
        "from tensorflow.keras.models import Model, Sequential\n",
        "from tensorflow.keras import layers, utils, callbacks, optimizers, regularizers\n",
        "from tensorflow.keras.layers import LSTM, GRU\n",
        "from keras.layers.core import Dense, Activation, Dropout\n",
        "from sklearn.linear_model import LogisticRegression\n",
        "from sklearn.naive_bayes import MultinomialNB\n",
        "import xgboost as xgb\n",
        "from sklearn.svm import SVC\n",
        "from sklearn.metrics import classification_report,confusion_matrix\n"
      ]
    },
    {
      "cell_type": "code",
      "source": [
        "nltk.download('stopwords')"
      ],
      "metadata": {
        "colab": {
          "base_uri": "https://localhost:8080/"
        },
        "id": "Zfv_AYrBX_w0",
        "outputId": "daf4a0d3-7614-450b-8752-2dc18d6b3ad3"
      },
      "execution_count": 2,
      "outputs": [
        {
          "output_type": "stream",
          "name": "stderr",
          "text": [
            "[nltk_data] Downloading package stopwords to /root/nltk_data...\n",
            "[nltk_data]   Package stopwords is already up-to-date!\n"
          ]
        },
        {
          "output_type": "execute_result",
          "data": {
            "text/plain": [
              "True"
            ]
          },
          "metadata": {},
          "execution_count": 2
        }
      ]
    },
    {
      "cell_type": "code",
      "source": [
        "#Mount and access drive\n",
        "drive.mount('/content/drive',force_remount=True)\n",
        "os.chdir('/content/drive/My Drive/Few-Shot-Tamil')\n",
        "print(\"Change successful.\")"
      ],
      "metadata": {
        "colab": {
          "base_uri": "https://localhost:8080/"
        },
        "id": "1Y2BddeeXkxL",
        "outputId": "b25617ec-8fa8-4cee-e7db-5b7824a98b0d"
      },
      "execution_count": 3,
      "outputs": [
        {
          "output_type": "stream",
          "name": "stdout",
          "text": [
            "Mounted at /content/drive\n",
            "Change successful.\n"
          ]
        }
      ]
    },
    {
      "cell_type": "code",
      "source": [
        "def tokenize(data):\n",
        "  generated_token = list(data.split())\n",
        "  return generated_token"
      ],
      "metadata": {
        "id": "mncp9uleXuNE"
      },
      "execution_count": 4,
      "outputs": []
    },
    {
      "cell_type": "code",
      "source": [
        "ps = nltk.PorterStemmer()\n",
        "def stemming(list_of_words):\n",
        "  stemmed_list = [ps.stem(word) for word in list_of_words]\n",
        "  return stemmed_list"
      ],
      "metadata": {
        "id": "dIoVwfnAYIeG"
      },
      "execution_count": 5,
      "outputs": []
    },
    {
      "cell_type": "code",
      "source": [
        "#Apply TF-IDF\n",
        "def tfidf(data):\n",
        "    tfidf_vectorizer = TfidfVectorizer()\n",
        "    train = tfidf_vectorizer.fit_transform(data)\n",
        "    return train, tfidf_vectorizer"
      ],
      "metadata": {
        "id": "1jJDATswXy7Z"
      },
      "execution_count": 6,
      "outputs": []
    },
    {
      "cell_type": "code",
      "source": [
        "def tamil_preprocessing(dataframe):\n",
        "  #Remove punctuation symbols\n",
        "  dataframe['non_punc'] = dataframe['News'].apply(lambda x: re.sub(r'[\\'\\\"\\.?!‘]+', '', x.lower()))\n",
        "\n",
        "  #Tokenize the sentences\n",
        "  dataframe['tamil_tokenized_text'] = dataframe['non_punc'].apply(lambda x: tokenize(x))"
      ],
      "metadata": {
        "id": "Zc-9j_s7XxUr"
      },
      "execution_count": 7,
      "outputs": []
    },
    {
      "cell_type": "code",
      "source": [
        "#English translation preprocessing\n",
        "def eng_preprocessing(dataframe):\n",
        "  #Remove non-alphanumeric symbols\n",
        "  dataframe['only_alphanumeric'] = dataframe['English version'].apply(lambda x: re.sub(r'[^a-zA-Z ]+', '', x.lower()))\n",
        "\n",
        "  #Remove stop-words\n",
        "  dataframe['imp_text'] = dataframe['only_alphanumeric'].apply(lambda x : ' '.join([word for word in x.split() if not word in set(stopwords.words('english'))]))\n",
        "\n",
        "  #Tokenize the sentences\n",
        "  dataframe['tokenized_text'] = dataframe['imp_text'].apply(lambda x: tokenize(x))\n",
        "\n",
        "  #Apply stemming\n",
        "  dataframe['stemmed_text'] = dataframe['tokenized_text'].apply(lambda x: stemming(x))"
      ],
      "metadata": {
        "id": "vLBXfYliX2CE"
      },
      "execution_count": 8,
      "outputs": []
    },
    {
      "cell_type": "code",
      "source": [
        "#Load the datasets\n",
        "one_shot_real = pd.read_csv('one-shot-real.csv',  sep='\\t')\n",
        "one_shot_fake = pd.read_csv('one-shot-fake.csv',  sep='\\t')\n",
        "three_shot_real = pd.read_csv('three-shot-real.csv',  sep='\\t')\n",
        "three_shot_fake = pd.read_csv('three-shot-fake.csv',  sep='\\t')\n",
        "five_shot_real = pd.read_csv('five-shot-real.csv',  sep='\\t')\n",
        "five_shot_fake = pd.read_csv('five-shot-fake.csv',  sep='\\t')"
      ],
      "metadata": {
        "id": "KfXjERhLXtVI"
      },
      "execution_count": 9,
      "outputs": []
    },
    {
      "cell_type": "code",
      "source": [
        "#Combine the datasets\n",
        "one_shot = pd.concat([one_shot_real, one_shot_fake])\n",
        "three_shot = pd.concat([three_shot_real, three_shot_fake])\n",
        "five_shot = pd.concat([five_shot_real, five_shot_fake])"
      ],
      "metadata": {
        "id": "odi_YxLnYQ9V"
      },
      "execution_count": 10,
      "outputs": []
    },
    {
      "cell_type": "code",
      "source": [
        "one_shot['Authenticity'] = [0, 0, 0, 0, 0, 1, 1, 1 ,1, 1]\n",
        "three_shot['Authenticity'] = [0, 0, 0, 0, 0, 0, 0, 0, 0, 0, 0, 0, 0, 0, 0, 1, 1, 1 ,1, 1, 1, 1, 1 ,1, 1, 1, 1, 1 ,1, 1]\n",
        "five_shot['Authenticity'] = [0, 0, 0, 0, 0, 0, 0, 0, 0, 0, 0, 0, 0, 0, 0, 0, 0, 0, 0, 0, 0, 0, 0, 0, 0, 1, 1, 1 ,1, 1, 1, 1, 1 ,1, 1, 1, 1, 1 ,1, 1, 1, 1, 1 ,1, 1, 1, 1, 1 ,1, 1]"
      ],
      "metadata": {
        "id": "7a2NWtzgYTTj"
      },
      "execution_count": 11,
      "outputs": []
    },
    {
      "cell_type": "code",
      "source": [
        "#Take 10% of the original dataset for testing\n",
        "os.chdir('/content/drive/My Drive')\n",
        "news_df = pd.read_csv(filepath_or_buffer='news.csv')\n",
        "X = news_df['News']\n",
        "y = news_df['Authenticity']\n",
        "xtrain, xtest, ytrain, ytest = train_test_split(X, y, stratify=y, random_state=42, test_size=0.1,)"
      ],
      "metadata": {
        "id": "JFLyPCjOYViQ"
      },
      "execution_count": 12,
      "outputs": []
    },
    {
      "cell_type": "code",
      "source": [
        "xtest.reset_index(inplace = True, drop = True)"
      ],
      "metadata": {
        "id": "_e8JrWZEyawt"
      },
      "execution_count": 13,
      "outputs": []
    },
    {
      "cell_type": "markdown",
      "source": [
        "### One-Shot dataset"
      ],
      "metadata": {
        "id": "w8JkXRVuZoSg"
      }
    },
    {
      "cell_type": "code",
      "source": [
        "tamil_preprocessing(one_shot)\n",
        "eng_preprocessing(one_shot)\n",
        "one_shot.head()"
      ],
      "metadata": {
        "colab": {
          "base_uri": "https://localhost:8080/",
          "height": 669
        },
        "id": "HiTKsPjLYZKD",
        "outputId": "4b07a877-c710-4002-bfce-ac039079a97a"
      },
      "execution_count": 14,
      "outputs": [
        {
          "output_type": "execute_result",
          "data": {
            "text/plain": [
              "                                     English version              Label  \\\n",
              "0                        Actor Jayam Ravi has Corona  ['entertainment']   \n",
              "1            A football god about the 'hands of God'  ['miscellaneous']   \n",
              "2  Cameras mandatory in school buses: Tamil Nadu ...       ['politics']   \n",
              "3  36th National Games | 4 gold medals for Tamil ...          ['sport']   \n",
              "4  Introducing NoiseFit Core 2 Smartwatch: Amazin...           ['tech']   \n",
              "\n",
              "                                                News          Author  \\\n",
              "0                               நடிகர் ஜெயம் ரவிக்கு      தினத்தந்தி   \n",
              "1       ‘கடவுளின் கை’களைப் பற்றிய கால்பந்துக் கடவுள்             ஆதி   \n",
              "2   பள்ளி பேருந்துகளில் கேமரா கட்டாயம்: தமிழக அரச...  செய்திப்பிரிவு   \n",
              "3   36-வது தேசிய விளையாட்டு | ஒரே நாளில் தமிழகத்த...  செய்திப்பிரிவு   \n",
              "4   நாய்ஸ்ஃபிட் கோர் 2 ஸ்மார்ட்வாட்ச் அறிமுகம்: 5...  செய்திப்பிரிவு   \n",
              "\n",
              "               Date                                                URL  \\\n",
              "0  22-10-2022 02:53  https://www.dailythanthi.com/Cinema/CinemaNews...   \n",
              "1         01-Dec-20  https://www.hindutamil.in/news/supplements/ila...   \n",
              "2         21-Oct-22  https://www.hindutamil.in/news/tamilnadu/88576...   \n",
              "3         02-Oct-22  https://www.hindutamil.in/news/sports/877427-3...   \n",
              "4         22-Aug-22  https://www.hindutamil.in/news/technology/8467...   \n",
              "\n",
              "   Authenticity                                           non_punc  \\\n",
              "0             0                               நடிகர் ஜெயம் ரவிக்கு   \n",
              "1             0        கடவுளின் கை’களைப் பற்றிய கால்பந்துக் கடவுள்   \n",
              "2             0   பள்ளி பேருந்துகளில் கேமரா கட்டாயம்: தமிழக அரச...   \n",
              "3             0   36-வது தேசிய விளையாட்டு | ஒரே நாளில் தமிழகத்த...   \n",
              "4             0   நாய்ஸ்ஃபிட் கோர் 2 ஸ்மார்ட்வாட்ச் அறிமுகம்: 5...   \n",
              "\n",
              "                                tamil_tokenized_text  \\\n",
              "0                           [நடிகர், ஜெயம், ரவிக்கு]   \n",
              "1  [கடவுளின், கை’களைப், பற்றிய, கால்பந்துக், கடவுள்]   \n",
              "2  [பள்ளி, பேருந்துகளில், கேமரா, கட்டாயம்:, தமிழக...   \n",
              "3  [36-வது, தேசிய, விளையாட்டு, |, ஒரே, நாளில், தம...   \n",
              "4  [நாய்ஸ்ஃபிட், கோர், 2, ஸ்மார்ட்வாட்ச், அறிமுகம...   \n",
              "\n",
              "                                   only_alphanumeric  \\\n",
              "0                        actor jayam ravi has corona   \n",
              "1              a football god about the hands of god   \n",
              "2  cameras mandatory in school buses tamil nadu g...   \n",
              "3  th national games   gold medals for tamil nadu...   \n",
              "4  introducing noisefit core  smartwatch amazing ...   \n",
              "\n",
              "                                            imp_text  \\\n",
              "0                            actor jayam ravi corona   \n",
              "1                             football god hands god   \n",
              "2  cameras mandatory school buses tamil nadu gove...   \n",
              "3   th national games gold medals tamil nadu one day   \n",
              "4  introducing noisefit core smartwatch amazing f...   \n",
              "\n",
              "                                      tokenized_text  \\\n",
              "0                       [actor, jayam, ravi, corona]   \n",
              "1                        [football, god, hands, god]   \n",
              "2  [cameras, mandatory, school, buses, tamil, nad...   \n",
              "3  [th, national, games, gold, medals, tamil, nad...   \n",
              "4  [introducing, noisefit, core, smartwatch, amaz...   \n",
              "\n",
              "                                        stemmed_text  \n",
              "0                       [actor, jayam, ravi, corona]  \n",
              "1                          [footbal, god, hand, god]  \n",
              "2  [camera, mandatori, school, buse, tamil, nadu,...  \n",
              "3  [th, nation, game, gold, medal, tamil, nadu, o...  \n",
              "4  [introduc, noisefit, core, smartwatch, amaz, f...  "
            ],
            "text/html": [
              "\n",
              "  <div id=\"df-11f30793-32a3-4ea4-9403-4e658e700854\">\n",
              "    <div class=\"colab-df-container\">\n",
              "      <div>\n",
              "<style scoped>\n",
              "    .dataframe tbody tr th:only-of-type {\n",
              "        vertical-align: middle;\n",
              "    }\n",
              "\n",
              "    .dataframe tbody tr th {\n",
              "        vertical-align: top;\n",
              "    }\n",
              "\n",
              "    .dataframe thead th {\n",
              "        text-align: right;\n",
              "    }\n",
              "</style>\n",
              "<table border=\"1\" class=\"dataframe\">\n",
              "  <thead>\n",
              "    <tr style=\"text-align: right;\">\n",
              "      <th></th>\n",
              "      <th>English version</th>\n",
              "      <th>Label</th>\n",
              "      <th>News</th>\n",
              "      <th>Author</th>\n",
              "      <th>Date</th>\n",
              "      <th>URL</th>\n",
              "      <th>Authenticity</th>\n",
              "      <th>non_punc</th>\n",
              "      <th>tamil_tokenized_text</th>\n",
              "      <th>only_alphanumeric</th>\n",
              "      <th>imp_text</th>\n",
              "      <th>tokenized_text</th>\n",
              "      <th>stemmed_text</th>\n",
              "    </tr>\n",
              "  </thead>\n",
              "  <tbody>\n",
              "    <tr>\n",
              "      <th>0</th>\n",
              "      <td>Actor Jayam Ravi has Corona</td>\n",
              "      <td>['entertainment']</td>\n",
              "      <td>நடிகர் ஜெயம் ரவிக்கு</td>\n",
              "      <td>தினத்தந்தி</td>\n",
              "      <td>22-10-2022 02:53</td>\n",
              "      <td>https://www.dailythanthi.com/Cinema/CinemaNews...</td>\n",
              "      <td>0</td>\n",
              "      <td>நடிகர் ஜெயம் ரவிக்கு</td>\n",
              "      <td>[நடிகர், ஜெயம், ரவிக்கு]</td>\n",
              "      <td>actor jayam ravi has corona</td>\n",
              "      <td>actor jayam ravi corona</td>\n",
              "      <td>[actor, jayam, ravi, corona]</td>\n",
              "      <td>[actor, jayam, ravi, corona]</td>\n",
              "    </tr>\n",
              "    <tr>\n",
              "      <th>1</th>\n",
              "      <td>A football god about the 'hands of God'</td>\n",
              "      <td>['miscellaneous']</td>\n",
              "      <td>‘கடவுளின் கை’களைப் பற்றிய கால்பந்துக் கடவுள்</td>\n",
              "      <td>ஆதி</td>\n",
              "      <td>01-Dec-20</td>\n",
              "      <td>https://www.hindutamil.in/news/supplements/ila...</td>\n",
              "      <td>0</td>\n",
              "      <td>கடவுளின் கை’களைப் பற்றிய கால்பந்துக் கடவுள்</td>\n",
              "      <td>[கடவுளின், கை’களைப், பற்றிய, கால்பந்துக், கடவுள்]</td>\n",
              "      <td>a football god about the hands of god</td>\n",
              "      <td>football god hands god</td>\n",
              "      <td>[football, god, hands, god]</td>\n",
              "      <td>[footbal, god, hand, god]</td>\n",
              "    </tr>\n",
              "    <tr>\n",
              "      <th>2</th>\n",
              "      <td>Cameras mandatory in school buses: Tamil Nadu ...</td>\n",
              "      <td>['politics']</td>\n",
              "      <td>பள்ளி பேருந்துகளில் கேமரா கட்டாயம்: தமிழக அரச...</td>\n",
              "      <td>செய்திப்பிரிவு</td>\n",
              "      <td>21-Oct-22</td>\n",
              "      <td>https://www.hindutamil.in/news/tamilnadu/88576...</td>\n",
              "      <td>0</td>\n",
              "      <td>பள்ளி பேருந்துகளில் கேமரா கட்டாயம்: தமிழக அரச...</td>\n",
              "      <td>[பள்ளி, பேருந்துகளில், கேமரா, கட்டாயம்:, தமிழக...</td>\n",
              "      <td>cameras mandatory in school buses tamil nadu g...</td>\n",
              "      <td>cameras mandatory school buses tamil nadu gove...</td>\n",
              "      <td>[cameras, mandatory, school, buses, tamil, nad...</td>\n",
              "      <td>[camera, mandatori, school, buse, tamil, nadu,...</td>\n",
              "    </tr>\n",
              "    <tr>\n",
              "      <th>3</th>\n",
              "      <td>36th National Games | 4 gold medals for Tamil ...</td>\n",
              "      <td>['sport']</td>\n",
              "      <td>36-வது தேசிய விளையாட்டு | ஒரே நாளில் தமிழகத்த...</td>\n",
              "      <td>செய்திப்பிரிவு</td>\n",
              "      <td>02-Oct-22</td>\n",
              "      <td>https://www.hindutamil.in/news/sports/877427-3...</td>\n",
              "      <td>0</td>\n",
              "      <td>36-வது தேசிய விளையாட்டு | ஒரே நாளில் தமிழகத்த...</td>\n",
              "      <td>[36-வது, தேசிய, விளையாட்டு, |, ஒரே, நாளில், தம...</td>\n",
              "      <td>th national games   gold medals for tamil nadu...</td>\n",
              "      <td>th national games gold medals tamil nadu one day</td>\n",
              "      <td>[th, national, games, gold, medals, tamil, nad...</td>\n",
              "      <td>[th, nation, game, gold, medal, tamil, nadu, o...</td>\n",
              "    </tr>\n",
              "    <tr>\n",
              "      <th>4</th>\n",
              "      <td>Introducing NoiseFit Core 2 Smartwatch: Amazin...</td>\n",
              "      <td>['tech']</td>\n",
              "      <td>நாய்ஸ்ஃபிட் கோர் 2 ஸ்மார்ட்வாட்ச் அறிமுகம்: 5...</td>\n",
              "      <td>செய்திப்பிரிவு</td>\n",
              "      <td>22-Aug-22</td>\n",
              "      <td>https://www.hindutamil.in/news/technology/8467...</td>\n",
              "      <td>0</td>\n",
              "      <td>நாய்ஸ்ஃபிட் கோர் 2 ஸ்மார்ட்வாட்ச் அறிமுகம்: 5...</td>\n",
              "      <td>[நாய்ஸ்ஃபிட், கோர், 2, ஸ்மார்ட்வாட்ச், அறிமுகம...</td>\n",
              "      <td>introducing noisefit core  smartwatch amazing ...</td>\n",
              "      <td>introducing noisefit core smartwatch amazing f...</td>\n",
              "      <td>[introducing, noisefit, core, smartwatch, amaz...</td>\n",
              "      <td>[introduc, noisefit, core, smartwatch, amaz, f...</td>\n",
              "    </tr>\n",
              "  </tbody>\n",
              "</table>\n",
              "</div>\n",
              "      <button class=\"colab-df-convert\" onclick=\"convertToInteractive('df-11f30793-32a3-4ea4-9403-4e658e700854')\"\n",
              "              title=\"Convert this dataframe to an interactive table.\"\n",
              "              style=\"display:none;\">\n",
              "        \n",
              "  <svg xmlns=\"http://www.w3.org/2000/svg\" height=\"24px\"viewBox=\"0 0 24 24\"\n",
              "       width=\"24px\">\n",
              "    <path d=\"M0 0h24v24H0V0z\" fill=\"none\"/>\n",
              "    <path d=\"M18.56 5.44l.94 2.06.94-2.06 2.06-.94-2.06-.94-.94-2.06-.94 2.06-2.06.94zm-11 1L8.5 8.5l.94-2.06 2.06-.94-2.06-.94L8.5 2.5l-.94 2.06-2.06.94zm10 10l.94 2.06.94-2.06 2.06-.94-2.06-.94-.94-2.06-.94 2.06-2.06.94z\"/><path d=\"M17.41 7.96l-1.37-1.37c-.4-.4-.92-.59-1.43-.59-.52 0-1.04.2-1.43.59L10.3 9.45l-7.72 7.72c-.78.78-.78 2.05 0 2.83L4 21.41c.39.39.9.59 1.41.59.51 0 1.02-.2 1.41-.59l7.78-7.78 2.81-2.81c.8-.78.8-2.07 0-2.86zM5.41 20L4 18.59l7.72-7.72 1.47 1.35L5.41 20z\"/>\n",
              "  </svg>\n",
              "      </button>\n",
              "      \n",
              "  <style>\n",
              "    .colab-df-container {\n",
              "      display:flex;\n",
              "      flex-wrap:wrap;\n",
              "      gap: 12px;\n",
              "    }\n",
              "\n",
              "    .colab-df-convert {\n",
              "      background-color: #E8F0FE;\n",
              "      border: none;\n",
              "      border-radius: 50%;\n",
              "      cursor: pointer;\n",
              "      display: none;\n",
              "      fill: #1967D2;\n",
              "      height: 32px;\n",
              "      padding: 0 0 0 0;\n",
              "      width: 32px;\n",
              "    }\n",
              "\n",
              "    .colab-df-convert:hover {\n",
              "      background-color: #E2EBFA;\n",
              "      box-shadow: 0px 1px 2px rgba(60, 64, 67, 0.3), 0px 1px 3px 1px rgba(60, 64, 67, 0.15);\n",
              "      fill: #174EA6;\n",
              "    }\n",
              "\n",
              "    [theme=dark] .colab-df-convert {\n",
              "      background-color: #3B4455;\n",
              "      fill: #D2E3FC;\n",
              "    }\n",
              "\n",
              "    [theme=dark] .colab-df-convert:hover {\n",
              "      background-color: #434B5C;\n",
              "      box-shadow: 0px 1px 3px 1px rgba(0, 0, 0, 0.15);\n",
              "      filter: drop-shadow(0px 1px 2px rgba(0, 0, 0, 0.3));\n",
              "      fill: #FFFFFF;\n",
              "    }\n",
              "  </style>\n",
              "\n",
              "      <script>\n",
              "        const buttonEl =\n",
              "          document.querySelector('#df-11f30793-32a3-4ea4-9403-4e658e700854 button.colab-df-convert');\n",
              "        buttonEl.style.display =\n",
              "          google.colab.kernel.accessAllowed ? 'block' : 'none';\n",
              "\n",
              "        async function convertToInteractive(key) {\n",
              "          const element = document.querySelector('#df-11f30793-32a3-4ea4-9403-4e658e700854');\n",
              "          const dataTable =\n",
              "            await google.colab.kernel.invokeFunction('convertToInteractive',\n",
              "                                                     [key], {});\n",
              "          if (!dataTable) return;\n",
              "\n",
              "          const docLinkHtml = 'Like what you see? Visit the ' +\n",
              "            '<a target=\"_blank\" href=https://colab.research.google.com/notebooks/data_table.ipynb>data table notebook</a>'\n",
              "            + ' to learn more about interactive tables.';\n",
              "          element.innerHTML = '';\n",
              "          dataTable['output_type'] = 'display_data';\n",
              "          await google.colab.output.renderOutput(dataTable, element);\n",
              "          const docLink = document.createElement('div');\n",
              "          docLink.innerHTML = docLinkHtml;\n",
              "          element.appendChild(docLink);\n",
              "        }\n",
              "      </script>\n",
              "    </div>\n",
              "  </div>\n",
              "  "
            ]
          },
          "metadata": {},
          "execution_count": 14
        }
      ]
    },
    {
      "cell_type": "code",
      "source": [
        "one_shot.reset_index(inplace = True, drop = True)"
      ],
      "metadata": {
        "id": "xcNIRzqwyc0t"
      },
      "execution_count": 15,
      "outputs": []
    },
    {
      "cell_type": "code",
      "source": [
        "one_shot['stemmed_text']"
      ],
      "metadata": {
        "colab": {
          "base_uri": "https://localhost:8080/"
        },
        "id": "_Jy4bxidx-Ci",
        "outputId": "d3d893a1-55d3-489f-9928-a1007853f170"
      },
      "execution_count": 16,
      "outputs": [
        {
          "output_type": "execute_result",
          "data": {
            "text/plain": [
              "0                         [actor, jayam, ravi, corona]\n",
              "1                            [footbal, god, hand, god]\n",
              "2    [camera, mandatori, school, buse, tamil, nadu,...\n",
              "3    [th, nation, game, gold, medal, tamil, nadu, o...\n",
              "4    [introduc, noisefit, core, smartwatch, amaz, f...\n",
              "5                  [say, daniel, radcliff, coronaviru]\n",
              "6                                   [say, covid, viru]\n",
              "7    [say, presid, donald, trump, said, peopl, die,...\n",
              "8    [kieron, pollard, good, viral, kieron, pollard...\n",
              "9    [pib, fact, check, link, g, radiat, second, wa...\n",
              "Name: stemmed_text, dtype: object"
            ]
          },
          "metadata": {},
          "execution_count": 16
        }
      ]
    },
    {
      "cell_type": "code",
      "source": [
        "one_shot['tamil_tokenized_text']"
      ],
      "metadata": {
        "colab": {
          "base_uri": "https://localhost:8080/"
        },
        "id": "7zQOnZcRygAz",
        "outputId": "0ed5b861-56f6-46c7-dcc4-cd4208836048"
      },
      "execution_count": 17,
      "outputs": [
        {
          "output_type": "execute_result",
          "data": {
            "text/plain": [
              "0                             [நடிகர், ஜெயம், ரவிக்கு]\n",
              "1    [கடவுளின், கை’களைப், பற்றிய, கால்பந்துக், கடவுள்]\n",
              "2    [பள்ளி, பேருந்துகளில், கேமரா, கட்டாயம்:, தமிழக...\n",
              "3    [36-வது, தேசிய, விளையாட்டு, |, ஒரே, நாளில், தம...\n",
              "4    [நாய்ஸ்ஃபிட், கோர், 2, ஸ்மார்ட்வாட்ச், அறிமுகம...\n",
              "5    [டேனியல், ராட்கிளிஃப், கொரோனா, வைரஸால், பாதிக்...\n",
              "6                  [covid-19, வைரஸ், இல்லை, என்கிறார்]\n",
              "7    [அமெரிக்க, அதிபர், டொனால்ட், டிரம்ப்,, “இதுவரை...\n",
              "8    [kieron, pollard, நல்லாதான், இருக்காரு:, viral...\n",
              "9    [pib, fact, check:, 5, ஜி, கதிர்வீச்சுக்கும், ...\n",
              "Name: tamil_tokenized_text, dtype: object"
            ]
          },
          "metadata": {},
          "execution_count": 17
        }
      ]
    },
    {
      "cell_type": "code",
      "source": [
        "!pip install -U sentence-transformers"
      ],
      "metadata": {
        "colab": {
          "base_uri": "https://localhost:8080/"
        },
        "id": "733ljHwpykO-",
        "outputId": "707c4309-e0d4-40d1-9bbb-b8c1dc1a11f5"
      },
      "execution_count": 18,
      "outputs": [
        {
          "output_type": "stream",
          "name": "stdout",
          "text": [
            "Looking in indexes: https://pypi.org/simple, https://us-python.pkg.dev/colab-wheels/public/simple/\n",
            "Requirement already satisfied: sentence-transformers in /usr/local/lib/python3.7/dist-packages (2.2.2)\n",
            "Requirement already satisfied: torch>=1.6.0 in /usr/local/lib/python3.7/dist-packages (from sentence-transformers) (1.12.1+cu113)\n",
            "Requirement already satisfied: tqdm in /usr/local/lib/python3.7/dist-packages (from sentence-transformers) (4.64.1)\n",
            "Requirement already satisfied: numpy in /usr/local/lib/python3.7/dist-packages (from sentence-transformers) (1.21.6)\n",
            "Requirement already satisfied: scikit-learn in /usr/local/lib/python3.7/dist-packages (from sentence-transformers) (1.0.2)\n",
            "Requirement already satisfied: transformers<5.0.0,>=4.6.0 in /usr/local/lib/python3.7/dist-packages (from sentence-transformers) (4.24.0)\n",
            "Requirement already satisfied: nltk in /usr/local/lib/python3.7/dist-packages (from sentence-transformers) (3.7)\n",
            "Requirement already satisfied: sentencepiece in /usr/local/lib/python3.7/dist-packages (from sentence-transformers) (0.1.97)\n",
            "Requirement already satisfied: torchvision in /usr/local/lib/python3.7/dist-packages (from sentence-transformers) (0.13.1+cu113)\n",
            "Requirement already satisfied: huggingface-hub>=0.4.0 in /usr/local/lib/python3.7/dist-packages (from sentence-transformers) (0.11.0)\n",
            "Requirement already satisfied: scipy in /usr/local/lib/python3.7/dist-packages (from sentence-transformers) (1.7.3)\n",
            "Requirement already satisfied: pyyaml>=5.1 in /usr/local/lib/python3.7/dist-packages (from huggingface-hub>=0.4.0->sentence-transformers) (6.0)\n",
            "Requirement already satisfied: typing-extensions>=3.7.4.3 in /usr/local/lib/python3.7/dist-packages (from huggingface-hub>=0.4.0->sentence-transformers) (4.1.1)\n",
            "Requirement already satisfied: requests in /usr/local/lib/python3.7/dist-packages (from huggingface-hub>=0.4.0->sentence-transformers) (2.23.0)\n",
            "Requirement already satisfied: packaging>=20.9 in /usr/local/lib/python3.7/dist-packages (from huggingface-hub>=0.4.0->sentence-transformers) (21.3)\n",
            "Requirement already satisfied: filelock in /usr/local/lib/python3.7/dist-packages (from huggingface-hub>=0.4.0->sentence-transformers) (3.8.0)\n",
            "Requirement already satisfied: importlib-metadata in /usr/local/lib/python3.7/dist-packages (from huggingface-hub>=0.4.0->sentence-transformers) (4.13.0)\n",
            "Requirement already satisfied: pyparsing!=3.0.5,>=2.0.2 in /usr/local/lib/python3.7/dist-packages (from packaging>=20.9->huggingface-hub>=0.4.0->sentence-transformers) (3.0.9)\n",
            "Requirement already satisfied: regex!=2019.12.17 in /usr/local/lib/python3.7/dist-packages (from transformers<5.0.0,>=4.6.0->sentence-transformers) (2022.6.2)\n",
            "Requirement already satisfied: tokenizers!=0.11.3,<0.14,>=0.11.1 in /usr/local/lib/python3.7/dist-packages (from transformers<5.0.0,>=4.6.0->sentence-transformers) (0.13.2)\n",
            "Requirement already satisfied: zipp>=0.5 in /usr/local/lib/python3.7/dist-packages (from importlib-metadata->huggingface-hub>=0.4.0->sentence-transformers) (3.10.0)\n",
            "Requirement already satisfied: joblib in /usr/local/lib/python3.7/dist-packages (from nltk->sentence-transformers) (1.2.0)\n",
            "Requirement already satisfied: click in /usr/local/lib/python3.7/dist-packages (from nltk->sentence-transformers) (7.1.2)\n",
            "Requirement already satisfied: certifi>=2017.4.17 in /usr/local/lib/python3.7/dist-packages (from requests->huggingface-hub>=0.4.0->sentence-transformers) (2022.9.24)\n",
            "Requirement already satisfied: urllib3!=1.25.0,!=1.25.1,<1.26,>=1.21.1 in /usr/local/lib/python3.7/dist-packages (from requests->huggingface-hub>=0.4.0->sentence-transformers) (1.24.3)\n",
            "Requirement already satisfied: chardet<4,>=3.0.2 in /usr/local/lib/python3.7/dist-packages (from requests->huggingface-hub>=0.4.0->sentence-transformers) (3.0.4)\n",
            "Requirement already satisfied: idna<3,>=2.5 in /usr/local/lib/python3.7/dist-packages (from requests->huggingface-hub>=0.4.0->sentence-transformers) (2.10)\n",
            "Requirement already satisfied: threadpoolctl>=2.0.0 in /usr/local/lib/python3.7/dist-packages (from scikit-learn->sentence-transformers) (3.1.0)\n",
            "Requirement already satisfied: pillow!=8.3.*,>=5.3.0 in /usr/local/lib/python3.7/dist-packages (from torchvision->sentence-transformers) (7.1.2)\n"
          ]
        }
      ]
    },
    {
      "cell_type": "code",
      "source": [
        "from sentence_transformers import SentenceTransformer, InputExample, losses, models\n",
        "from torch import nn\n",
        "from torch.utils.data import DataLoader"
      ],
      "metadata": {
        "id": "kyJyYUyG3uUO"
      },
      "execution_count": 19,
      "outputs": []
    },
    {
      "cell_type": "code",
      "source": [
        "#Load a pre-trained model\n",
        "word_embedding_model = models.Transformer('roberta-base', max_seq_length=128)\n",
        "pooling_model = models.Pooling(word_embedding_model.get_word_embedding_dimension())\n",
        "dense_model_1 = models.Dense(in_features=pooling_model.get_sentence_embedding_dimension(), out_features=128, activation_function=nn.Tanh())\n",
        "dense_model_2 = models.Dense(in_features=128, out_features=128, activation_function=nn.Tanh())\n",
        "dense_model_3 = models.Dense(in_features=128, out_features=64, activation_function=nn.Tanh())\n",
        "dense_model_4 = models.Dense(in_features=64, out_features=32, activation_function=nn.Tanh())\n",
        "\n",
        "one_shot_model = SentenceTransformer(modules=[word_embedding_model, pooling_model, dense_model_1, dense_model_2, dense_model_3, dense_model_4])\n"
      ],
      "metadata": {
        "colab": {
          "base_uri": "https://localhost:8080/"
        },
        "id": "C-yS3j_R4WCi",
        "outputId": "220b1ba7-302b-44b9-aa81-3ca0ec5e8fd4"
      },
      "execution_count": 20,
      "outputs": [
        {
          "output_type": "stream",
          "name": "stderr",
          "text": [
            "Some weights of the model checkpoint at roberta-base were not used when initializing RobertaModel: ['lm_head.decoder.weight', 'lm_head.layer_norm.bias', 'lm_head.layer_norm.weight', 'lm_head.bias', 'lm_head.dense.weight', 'lm_head.dense.bias']\n",
            "- This IS expected if you are initializing RobertaModel from the checkpoint of a model trained on another task or with another architecture (e.g. initializing a BertForSequenceClassification model from a BertForPreTraining model).\n",
            "- This IS NOT expected if you are initializing RobertaModel from the checkpoint of a model that you expect to be exactly identical (initializing a BertForSequenceClassification model from a BertForSequenceClassification model).\n"
          ]
        }
      ]
    },
    {
      "cell_type": "code",
      "source": [
        "#Sentences to train\n",
        "english_version = one_shot['stemmed_text'].apply(lambda x: ' '.join(x))\n",
        "tamil_version = one_shot['tamil_tokenized_text'].apply(lambda x: ' '.join(x))"
      ],
      "metadata": {
        "id": "YlgBEakm30p-"
      },
      "execution_count": 21,
      "outputs": []
    },
    {
      "cell_type": "code",
      "source": [
        "train_examples_one_shot = [\n",
        "    InputExample(texts=[english_version[0] , tamil_version[0]], label=1.0),\n",
        "    InputExample(texts=[english_version[1] , tamil_version[1]], label=1.0),\n",
        "    InputExample(texts=[english_version[2] , tamil_version[2]], label=1.0),\n",
        "    InputExample(texts=[english_version[3] , tamil_version[3]], label=1.0),\n",
        "    InputExample(texts=[english_version[4] , tamil_version[4]], label=1.0),\n",
        "    InputExample(texts=[english_version[5] , tamil_version[5]], label=1.0),    \n",
        "    InputExample(texts=[english_version[6] , tamil_version[6]], label=1.0),\n",
        "    InputExample(texts=[english_version[7] , tamil_version[7]], label=1.0),\n",
        "    InputExample(texts=[english_version[8] , tamil_version[8]], label=1.0),\n",
        "    InputExample(texts=[english_version[9] , tamil_version[9]], label=1.0),\n",
        "]\n"
      ],
      "metadata": {
        "id": "lNmlEi7X4UNq"
      },
      "execution_count": 22,
      "outputs": []
    },
    {
      "cell_type": "code",
      "source": [
        "train_dataloader = DataLoader(train_examples_one_shot, shuffle=True, batch_size=16)\n",
        "train_loss = losses.CosineSimilarityLoss(one_shot_model)"
      ],
      "metadata": {
        "id": "OSV7_FZa9WKd"
      },
      "execution_count": 23,
      "outputs": []
    },
    {
      "cell_type": "code",
      "source": [
        "one_shot_model.fit(train_objectives=[(train_dataloader, train_loss)], epochs=1, warmup_steps=100)"
      ],
      "metadata": {
        "colab": {
          "base_uri": "https://localhost:8080/",
          "height": 81,
          "referenced_widgets": [
            "51eb6f4f341244d19a511ebc13749099",
            "8400958f24304e55b5b7da1a97c5b95c",
            "13004424d3a24f409aaf0bb656510a7d",
            "5cdc095979ae44a5a210eb53c60597f8",
            "691f81b8cf1e4e929d9a176fcff1ba1f",
            "264c5d48988b4e3db2246ac7fddbf445",
            "bd4fb465840545298cc81c1ea56461c6",
            "b67750ae82094f7bb013550391bcdcd3",
            "a141e1478642400e8c224afdb85aa37b",
            "6087ce0c0f4a41c491d2bec95daa0ed2",
            "b6f832d71a724f0db6679d7e1f46fd21",
            "9f30e8ecaf8340eb8c442f6edbf89a31",
            "ce13c9a97c174254a788e341736106b8",
            "abe70f6fac174c17b5bc08140d52372f",
            "27a4021354f441a78fbc6821611f35eb",
            "304f97acd3c148bd83da5f28bd137d49",
            "671d91e629de4eb79fa18e47faaa1ef7",
            "6891565a73f04f8d9deee645622cd0c1",
            "e11222f514794ede809e0235974a27be",
            "a76ab979001748abaa3dac4334c36bf3",
            "119f47dd4f344504814a63f5cc220a10",
            "8fc67efe0fb141f0b0b04275e9c2b205"
          ]
        },
        "id": "7Vslzn2M9kve",
        "outputId": "8e630c04-302d-49df-abfa-d122ca09ca83"
      },
      "execution_count": 24,
      "outputs": [
        {
          "output_type": "display_data",
          "data": {
            "text/plain": [
              "Epoch:   0%|          | 0/1 [00:00<?, ?it/s]"
            ],
            "application/vnd.jupyter.widget-view+json": {
              "version_major": 2,
              "version_minor": 0,
              "model_id": "51eb6f4f341244d19a511ebc13749099"
            }
          },
          "metadata": {}
        },
        {
          "output_type": "display_data",
          "data": {
            "text/plain": [
              "Iteration:   0%|          | 0/1 [00:00<?, ?it/s]"
            ],
            "application/vnd.jupyter.widget-view+json": {
              "version_major": 2,
              "version_minor": 0,
              "model_id": "9f30e8ecaf8340eb8c442f6edbf89a31"
            }
          },
          "metadata": {}
        }
      ]
    },
    {
      "cell_type": "code",
      "source": [
        "one_shot_x = [  one_shot_model.encode(tamil_version[i]) for i in range(len(tamil_version)) ]"
      ],
      "metadata": {
        "id": "ePZHziA6M6dU"
      },
      "execution_count": 25,
      "outputs": []
    },
    {
      "cell_type": "code",
      "source": [
        "x_test = [ one_shot_model.encode(xtest[i]) for i in range(len(xtest))]"
      ],
      "metadata": {
        "id": "mA1MCFOON9Hg"
      },
      "execution_count": 26,
      "outputs": []
    },
    {
      "cell_type": "code",
      "source": [
        "#Run the machine learning models for one-shot\n",
        "clf = LogisticRegression(C=1.0)\n",
        "clf.fit(one_shot_x, one_shot['Authenticity'])"
      ],
      "metadata": {
        "colab": {
          "base_uri": "https://localhost:8080/"
        },
        "id": "6endf2eJNo3k",
        "outputId": "5abbe663-6464-4c2c-e6ff-0698b318e679"
      },
      "execution_count": 27,
      "outputs": [
        {
          "output_type": "execute_result",
          "data": {
            "text/plain": [
              "LogisticRegression()"
            ]
          },
          "metadata": {},
          "execution_count": 27
        }
      ]
    },
    {
      "cell_type": "code",
      "source": [
        "predictions = clf.predict_proba(x_test)\n",
        "predictions = [np.argmax(predictions[i]) for i in range(len(predictions))]"
      ],
      "metadata": {
        "id": "oSGXCqf3N4Q7"
      },
      "execution_count": 28,
      "outputs": []
    },
    {
      "cell_type": "code",
      "source": [
        "accuracy = sklearn.metrics.accuracy_score(predictions,ytest)\n",
        "accuracy"
      ],
      "metadata": {
        "colab": {
          "base_uri": "https://localhost:8080/"
        },
        "id": "2u9kPLcFO8_h",
        "outputId": "6f3944f4-c1ee-4ada-e2f4-d3b65acac397"
      },
      "execution_count": 29,
      "outputs": [
        {
          "output_type": "execute_result",
          "data": {
            "text/plain": [
              "0.5793499043977055"
            ]
          },
          "metadata": {},
          "execution_count": 29
        }
      ]
    },
    {
      "cell_type": "code",
      "source": [
        "#Support Vector Machine\n",
        "clf = SVC(C=1.0, probability=True) # since we need probabilities\n",
        "clf.fit(one_shot_x, one_shot['Authenticity'])\n",
        "predictions = clf.predict_proba(x_test)\n",
        "predictions = [np.argmax(predictions[i]) for i in range(len(predictions))]\n",
        "\n",
        "accuracy = sklearn.metrics.accuracy_score(predictions,ytest)\n",
        "accuracy"
      ],
      "metadata": {
        "colab": {
          "base_uri": "https://localhost:8080/"
        },
        "id": "lpb8f-46PAIc",
        "outputId": "380f26c3-118f-4def-9ea8-fb03734ae7f4"
      },
      "execution_count": 30,
      "outputs": [
        {
          "output_type": "execute_result",
          "data": {
            "text/plain": [
              "0.44550669216061184"
            ]
          },
          "metadata": {},
          "execution_count": 30
        }
      ]
    },
    {
      "cell_type": "code",
      "source": [
        "from sklearn import svm\n",
        "SVM = svm.NuSVC(max_iter=100, probability = True)\n",
        "SVM.fit(one_shot_x, one_shot['Authenticity'])\n",
        "predictions = SVM.predict(x_test)\n",
        "predictions = [np.argmax(predictions[i]) for i in range(len(predictions))]\n",
        "\n",
        "accuracy = sklearn.metrics.accuracy_score(predictions,ytest)\n",
        "accuracy"
      ],
      "metadata": {
        "colab": {
          "base_uri": "https://localhost:8080/"
        },
        "id": "_lmd9BFjPEKV",
        "outputId": "2e68aa96-dc43-4c13-875f-1de94de5a9f5"
      },
      "execution_count": 31,
      "outputs": [
        {
          "output_type": "execute_result",
          "data": {
            "text/plain": [
              "0.44550669216061184"
            ]
          },
          "metadata": {},
          "execution_count": 31
        }
      ]
    },
    {
      "cell_type": "code",
      "source": [
        "from sklearn.preprocessing import MinMaxScaler\n",
        "scaler = MinMaxScaler()\n",
        "scaled_x = scaler.fit_transform(one_shot_x)\n",
        "scaled_test = scaler.transform(x_test)"
      ],
      "metadata": {
        "id": "dGdNAj4EQkj2"
      },
      "execution_count": 32,
      "outputs": []
    },
    {
      "cell_type": "code",
      "source": [
        "#Naive Bayes\n",
        "clf = MultinomialNB(alpha=1.0)\n",
        "clf.fit(scaled_x, one_shot['Authenticity'])\n",
        "predictions = clf.predict_proba(scaled_test)\n",
        "predictions = [np.argmax(predictions[i]) for i in range(len(predictions))]\n",
        "\n",
        "accuracy = sklearn.metrics.accuracy_score(predictions,ytest)\n",
        "accuracy"
      ],
      "metadata": {
        "colab": {
          "base_uri": "https://localhost:8080/"
        },
        "id": "GIlMJougSYeH",
        "outputId": "66ffcda5-8f33-49bd-a1e7-74c5929ad5bd"
      },
      "execution_count": 33,
      "outputs": [
        {
          "output_type": "execute_result",
          "data": {
            "text/plain": [
              "0.51434034416826"
            ]
          },
          "metadata": {},
          "execution_count": 33
        }
      ]
    },
    {
      "cell_type": "code",
      "source": [
        "from sklearn.ensemble import RandomForestClassifier\n",
        "rfclf = RandomForestClassifier(n_jobs=2,random_state=0,verbose=True)\n",
        "rfclf.fit(one_shot_x, one_shot['Authenticity'])\n",
        "predictions = rfclf.predict(x_test)\n",
        "accuracy = sklearn.metrics.accuracy_score(predictions,ytest)\n",
        "accuracy"
      ],
      "metadata": {
        "colab": {
          "base_uri": "https://localhost:8080/"
        },
        "id": "a7NT7dhmP5_a",
        "outputId": "339438e6-3a1b-426c-b70e-1eb69a8c5b78"
      },
      "execution_count": 34,
      "outputs": [
        {
          "output_type": "stream",
          "name": "stderr",
          "text": [
            "[Parallel(n_jobs=2)]: Using backend ThreadingBackend with 2 concurrent workers.\n",
            "[Parallel(n_jobs=2)]: Done  46 tasks      | elapsed:    0.0s\n",
            "[Parallel(n_jobs=2)]: Done 100 out of 100 | elapsed:    0.1s finished\n",
            "[Parallel(n_jobs=2)]: Using backend ThreadingBackend with 2 concurrent workers.\n",
            "[Parallel(n_jobs=2)]: Done  46 tasks      | elapsed:    0.0s\n",
            "[Parallel(n_jobs=2)]: Done 100 out of 100 | elapsed:    0.0s finished\n"
          ]
        },
        {
          "output_type": "execute_result",
          "data": {
            "text/plain": [
              "0.5793499043977055"
            ]
          },
          "metadata": {},
          "execution_count": 34
        }
      ]
    }
  ]
}