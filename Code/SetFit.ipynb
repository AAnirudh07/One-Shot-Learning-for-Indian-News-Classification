{
  "nbformat": 4,
  "nbformat_minor": 0,
  "metadata": {
    "colab": {
      "provenance": []
    },
    "kernelspec": {
      "name": "python3",
      "display_name": "Python 3"
    },
    "language_info": {
      "name": "python"
    },
    "widgets": {
      "application/vnd.jupyter.widget-state+json": {
        "e9442afea5474dd89044b3de36c5d7c7": {
          "model_module": "@jupyter-widgets/controls",
          "model_name": "HBoxModel",
          "model_module_version": "1.5.0",
          "state": {
            "_dom_classes": [],
            "_model_module": "@jupyter-widgets/controls",
            "_model_module_version": "1.5.0",
            "_model_name": "HBoxModel",
            "_view_count": null,
            "_view_module": "@jupyter-widgets/controls",
            "_view_module_version": "1.5.0",
            "_view_name": "HBoxView",
            "box_style": "",
            "children": [
              "IPY_MODEL_0151ce62dc5744b1bddce02cf40329d9",
              "IPY_MODEL_2188aa99a7e142b39062342afa43b42a",
              "IPY_MODEL_dfacf679b1b841e5bfb53cc2ac017cd4"
            ],
            "layout": "IPY_MODEL_9bc19a49cd954dd589d4bcbe5fcea87e"
          }
        },
        "0151ce62dc5744b1bddce02cf40329d9": {
          "model_module": "@jupyter-widgets/controls",
          "model_name": "HTMLModel",
          "model_module_version": "1.5.0",
          "state": {
            "_dom_classes": [],
            "_model_module": "@jupyter-widgets/controls",
            "_model_module_version": "1.5.0",
            "_model_name": "HTMLModel",
            "_view_count": null,
            "_view_module": "@jupyter-widgets/controls",
            "_view_module_version": "1.5.0",
            "_view_name": "HTMLView",
            "description": "",
            "description_tooltip": null,
            "layout": "IPY_MODEL_985f500e9dee4af3b3b19e1e0a409abc",
            "placeholder": "​",
            "style": "IPY_MODEL_8f9354a11f5a4a7bb48889bdc50f4f2d",
            "value": "Epoch: 100%"
          }
        },
        "2188aa99a7e142b39062342afa43b42a": {
          "model_module": "@jupyter-widgets/controls",
          "model_name": "FloatProgressModel",
          "model_module_version": "1.5.0",
          "state": {
            "_dom_classes": [],
            "_model_module": "@jupyter-widgets/controls",
            "_model_module_version": "1.5.0",
            "_model_name": "FloatProgressModel",
            "_view_count": null,
            "_view_module": "@jupyter-widgets/controls",
            "_view_module_version": "1.5.0",
            "_view_name": "ProgressView",
            "bar_style": "success",
            "description": "",
            "description_tooltip": null,
            "layout": "IPY_MODEL_a97c86104ad84295941e73b7debdf1ba",
            "max": 1,
            "min": 0,
            "orientation": "horizontal",
            "style": "IPY_MODEL_321cd12fab0943788ed253ede7235e93",
            "value": 1
          }
        },
        "dfacf679b1b841e5bfb53cc2ac017cd4": {
          "model_module": "@jupyter-widgets/controls",
          "model_name": "HTMLModel",
          "model_module_version": "1.5.0",
          "state": {
            "_dom_classes": [],
            "_model_module": "@jupyter-widgets/controls",
            "_model_module_version": "1.5.0",
            "_model_name": "HTMLModel",
            "_view_count": null,
            "_view_module": "@jupyter-widgets/controls",
            "_view_module_version": "1.5.0",
            "_view_name": "HTMLView",
            "description": "",
            "description_tooltip": null,
            "layout": "IPY_MODEL_9dba50077a4d4914944d550b6f0a5c71",
            "placeholder": "​",
            "style": "IPY_MODEL_d230f628912b465eb9bfaa080a98cacd",
            "value": " 1/1 [00:11&lt;00:00, 11.44s/it]"
          }
        },
        "9bc19a49cd954dd589d4bcbe5fcea87e": {
          "model_module": "@jupyter-widgets/base",
          "model_name": "LayoutModel",
          "model_module_version": "1.2.0",
          "state": {
            "_model_module": "@jupyter-widgets/base",
            "_model_module_version": "1.2.0",
            "_model_name": "LayoutModel",
            "_view_count": null,
            "_view_module": "@jupyter-widgets/base",
            "_view_module_version": "1.2.0",
            "_view_name": "LayoutView",
            "align_content": null,
            "align_items": null,
            "align_self": null,
            "border": null,
            "bottom": null,
            "display": null,
            "flex": null,
            "flex_flow": null,
            "grid_area": null,
            "grid_auto_columns": null,
            "grid_auto_flow": null,
            "grid_auto_rows": null,
            "grid_column": null,
            "grid_gap": null,
            "grid_row": null,
            "grid_template_areas": null,
            "grid_template_columns": null,
            "grid_template_rows": null,
            "height": null,
            "justify_content": null,
            "justify_items": null,
            "left": null,
            "margin": null,
            "max_height": null,
            "max_width": null,
            "min_height": null,
            "min_width": null,
            "object_fit": null,
            "object_position": null,
            "order": null,
            "overflow": null,
            "overflow_x": null,
            "overflow_y": null,
            "padding": null,
            "right": null,
            "top": null,
            "visibility": null,
            "width": null
          }
        },
        "985f500e9dee4af3b3b19e1e0a409abc": {
          "model_module": "@jupyter-widgets/base",
          "model_name": "LayoutModel",
          "model_module_version": "1.2.0",
          "state": {
            "_model_module": "@jupyter-widgets/base",
            "_model_module_version": "1.2.0",
            "_model_name": "LayoutModel",
            "_view_count": null,
            "_view_module": "@jupyter-widgets/base",
            "_view_module_version": "1.2.0",
            "_view_name": "LayoutView",
            "align_content": null,
            "align_items": null,
            "align_self": null,
            "border": null,
            "bottom": null,
            "display": null,
            "flex": null,
            "flex_flow": null,
            "grid_area": null,
            "grid_auto_columns": null,
            "grid_auto_flow": null,
            "grid_auto_rows": null,
            "grid_column": null,
            "grid_gap": null,
            "grid_row": null,
            "grid_template_areas": null,
            "grid_template_columns": null,
            "grid_template_rows": null,
            "height": null,
            "justify_content": null,
            "justify_items": null,
            "left": null,
            "margin": null,
            "max_height": null,
            "max_width": null,
            "min_height": null,
            "min_width": null,
            "object_fit": null,
            "object_position": null,
            "order": null,
            "overflow": null,
            "overflow_x": null,
            "overflow_y": null,
            "padding": null,
            "right": null,
            "top": null,
            "visibility": null,
            "width": null
          }
        },
        "8f9354a11f5a4a7bb48889bdc50f4f2d": {
          "model_module": "@jupyter-widgets/controls",
          "model_name": "DescriptionStyleModel",
          "model_module_version": "1.5.0",
          "state": {
            "_model_module": "@jupyter-widgets/controls",
            "_model_module_version": "1.5.0",
            "_model_name": "DescriptionStyleModel",
            "_view_count": null,
            "_view_module": "@jupyter-widgets/base",
            "_view_module_version": "1.2.0",
            "_view_name": "StyleView",
            "description_width": ""
          }
        },
        "a97c86104ad84295941e73b7debdf1ba": {
          "model_module": "@jupyter-widgets/base",
          "model_name": "LayoutModel",
          "model_module_version": "1.2.0",
          "state": {
            "_model_module": "@jupyter-widgets/base",
            "_model_module_version": "1.2.0",
            "_model_name": "LayoutModel",
            "_view_count": null,
            "_view_module": "@jupyter-widgets/base",
            "_view_module_version": "1.2.0",
            "_view_name": "LayoutView",
            "align_content": null,
            "align_items": null,
            "align_self": null,
            "border": null,
            "bottom": null,
            "display": null,
            "flex": null,
            "flex_flow": null,
            "grid_area": null,
            "grid_auto_columns": null,
            "grid_auto_flow": null,
            "grid_auto_rows": null,
            "grid_column": null,
            "grid_gap": null,
            "grid_row": null,
            "grid_template_areas": null,
            "grid_template_columns": null,
            "grid_template_rows": null,
            "height": null,
            "justify_content": null,
            "justify_items": null,
            "left": null,
            "margin": null,
            "max_height": null,
            "max_width": null,
            "min_height": null,
            "min_width": null,
            "object_fit": null,
            "object_position": null,
            "order": null,
            "overflow": null,
            "overflow_x": null,
            "overflow_y": null,
            "padding": null,
            "right": null,
            "top": null,
            "visibility": null,
            "width": null
          }
        },
        "321cd12fab0943788ed253ede7235e93": {
          "model_module": "@jupyter-widgets/controls",
          "model_name": "ProgressStyleModel",
          "model_module_version": "1.5.0",
          "state": {
            "_model_module": "@jupyter-widgets/controls",
            "_model_module_version": "1.5.0",
            "_model_name": "ProgressStyleModel",
            "_view_count": null,
            "_view_module": "@jupyter-widgets/base",
            "_view_module_version": "1.2.0",
            "_view_name": "StyleView",
            "bar_color": null,
            "description_width": ""
          }
        },
        "9dba50077a4d4914944d550b6f0a5c71": {
          "model_module": "@jupyter-widgets/base",
          "model_name": "LayoutModel",
          "model_module_version": "1.2.0",
          "state": {
            "_model_module": "@jupyter-widgets/base",
            "_model_module_version": "1.2.0",
            "_model_name": "LayoutModel",
            "_view_count": null,
            "_view_module": "@jupyter-widgets/base",
            "_view_module_version": "1.2.0",
            "_view_name": "LayoutView",
            "align_content": null,
            "align_items": null,
            "align_self": null,
            "border": null,
            "bottom": null,
            "display": null,
            "flex": null,
            "flex_flow": null,
            "grid_area": null,
            "grid_auto_columns": null,
            "grid_auto_flow": null,
            "grid_auto_rows": null,
            "grid_column": null,
            "grid_gap": null,
            "grid_row": null,
            "grid_template_areas": null,
            "grid_template_columns": null,
            "grid_template_rows": null,
            "height": null,
            "justify_content": null,
            "justify_items": null,
            "left": null,
            "margin": null,
            "max_height": null,
            "max_width": null,
            "min_height": null,
            "min_width": null,
            "object_fit": null,
            "object_position": null,
            "order": null,
            "overflow": null,
            "overflow_x": null,
            "overflow_y": null,
            "padding": null,
            "right": null,
            "top": null,
            "visibility": null,
            "width": null
          }
        },
        "d230f628912b465eb9bfaa080a98cacd": {
          "model_module": "@jupyter-widgets/controls",
          "model_name": "DescriptionStyleModel",
          "model_module_version": "1.5.0",
          "state": {
            "_model_module": "@jupyter-widgets/controls",
            "_model_module_version": "1.5.0",
            "_model_name": "DescriptionStyleModel",
            "_view_count": null,
            "_view_module": "@jupyter-widgets/base",
            "_view_module_version": "1.2.0",
            "_view_name": "StyleView",
            "description_width": ""
          }
        },
        "689d172ccae64da38849384f73c02973": {
          "model_module": "@jupyter-widgets/controls",
          "model_name": "HBoxModel",
          "model_module_version": "1.5.0",
          "state": {
            "_dom_classes": [],
            "_model_module": "@jupyter-widgets/controls",
            "_model_module_version": "1.5.0",
            "_model_name": "HBoxModel",
            "_view_count": null,
            "_view_module": "@jupyter-widgets/controls",
            "_view_module_version": "1.5.0",
            "_view_name": "HBoxView",
            "box_style": "",
            "children": [
              "IPY_MODEL_0e65079b7df846f695c94766f7d9b5d5",
              "IPY_MODEL_ff95fad482974cc5b9e483cec9931d5d",
              "IPY_MODEL_1e2dc236c7134aaeb4a5dde5c3a5a558"
            ],
            "layout": "IPY_MODEL_283fa8fbaff745789aa6b9fc5d80a003"
          }
        },
        "0e65079b7df846f695c94766f7d9b5d5": {
          "model_module": "@jupyter-widgets/controls",
          "model_name": "HTMLModel",
          "model_module_version": "1.5.0",
          "state": {
            "_dom_classes": [],
            "_model_module": "@jupyter-widgets/controls",
            "_model_module_version": "1.5.0",
            "_model_name": "HTMLModel",
            "_view_count": null,
            "_view_module": "@jupyter-widgets/controls",
            "_view_module_version": "1.5.0",
            "_view_name": "HTMLView",
            "description": "",
            "description_tooltip": null,
            "layout": "IPY_MODEL_1d9d542b8321493197b60ccfbbd87b73",
            "placeholder": "​",
            "style": "IPY_MODEL_5fc44cfd9c604b23a4d2becc79f388e0",
            "value": "Iteration: 100%"
          }
        },
        "ff95fad482974cc5b9e483cec9931d5d": {
          "model_module": "@jupyter-widgets/controls",
          "model_name": "FloatProgressModel",
          "model_module_version": "1.5.0",
          "state": {
            "_dom_classes": [],
            "_model_module": "@jupyter-widgets/controls",
            "_model_module_version": "1.5.0",
            "_model_name": "FloatProgressModel",
            "_view_count": null,
            "_view_module": "@jupyter-widgets/controls",
            "_view_module_version": "1.5.0",
            "_view_name": "ProgressView",
            "bar_style": "success",
            "description": "",
            "description_tooltip": null,
            "layout": "IPY_MODEL_d6e6f6bf8aeb475abf3930a19daf7458",
            "max": 7,
            "min": 0,
            "orientation": "horizontal",
            "style": "IPY_MODEL_cc493a4e018343daa0d588750bc111b3",
            "value": 7
          }
        },
        "1e2dc236c7134aaeb4a5dde5c3a5a558": {
          "model_module": "@jupyter-widgets/controls",
          "model_name": "HTMLModel",
          "model_module_version": "1.5.0",
          "state": {
            "_dom_classes": [],
            "_model_module": "@jupyter-widgets/controls",
            "_model_module_version": "1.5.0",
            "_model_name": "HTMLModel",
            "_view_count": null,
            "_view_module": "@jupyter-widgets/controls",
            "_view_module_version": "1.5.0",
            "_view_name": "HTMLView",
            "description": "",
            "description_tooltip": null,
            "layout": "IPY_MODEL_9531006c35fc4c608a4099600c69f30b",
            "placeholder": "​",
            "style": "IPY_MODEL_1c54007f96584683a14b179346bc5dfd",
            "value": " 7/7 [00:11&lt;00:00,  1.66s/it]"
          }
        },
        "283fa8fbaff745789aa6b9fc5d80a003": {
          "model_module": "@jupyter-widgets/base",
          "model_name": "LayoutModel",
          "model_module_version": "1.2.0",
          "state": {
            "_model_module": "@jupyter-widgets/base",
            "_model_module_version": "1.2.0",
            "_model_name": "LayoutModel",
            "_view_count": null,
            "_view_module": "@jupyter-widgets/base",
            "_view_module_version": "1.2.0",
            "_view_name": "LayoutView",
            "align_content": null,
            "align_items": null,
            "align_self": null,
            "border": null,
            "bottom": null,
            "display": null,
            "flex": null,
            "flex_flow": null,
            "grid_area": null,
            "grid_auto_columns": null,
            "grid_auto_flow": null,
            "grid_auto_rows": null,
            "grid_column": null,
            "grid_gap": null,
            "grid_row": null,
            "grid_template_areas": null,
            "grid_template_columns": null,
            "grid_template_rows": null,
            "height": null,
            "justify_content": null,
            "justify_items": null,
            "left": null,
            "margin": null,
            "max_height": null,
            "max_width": null,
            "min_height": null,
            "min_width": null,
            "object_fit": null,
            "object_position": null,
            "order": null,
            "overflow": null,
            "overflow_x": null,
            "overflow_y": null,
            "padding": null,
            "right": null,
            "top": null,
            "visibility": null,
            "width": null
          }
        },
        "1d9d542b8321493197b60ccfbbd87b73": {
          "model_module": "@jupyter-widgets/base",
          "model_name": "LayoutModel",
          "model_module_version": "1.2.0",
          "state": {
            "_model_module": "@jupyter-widgets/base",
            "_model_module_version": "1.2.0",
            "_model_name": "LayoutModel",
            "_view_count": null,
            "_view_module": "@jupyter-widgets/base",
            "_view_module_version": "1.2.0",
            "_view_name": "LayoutView",
            "align_content": null,
            "align_items": null,
            "align_self": null,
            "border": null,
            "bottom": null,
            "display": null,
            "flex": null,
            "flex_flow": null,
            "grid_area": null,
            "grid_auto_columns": null,
            "grid_auto_flow": null,
            "grid_auto_rows": null,
            "grid_column": null,
            "grid_gap": null,
            "grid_row": null,
            "grid_template_areas": null,
            "grid_template_columns": null,
            "grid_template_rows": null,
            "height": null,
            "justify_content": null,
            "justify_items": null,
            "left": null,
            "margin": null,
            "max_height": null,
            "max_width": null,
            "min_height": null,
            "min_width": null,
            "object_fit": null,
            "object_position": null,
            "order": null,
            "overflow": null,
            "overflow_x": null,
            "overflow_y": null,
            "padding": null,
            "right": null,
            "top": null,
            "visibility": null,
            "width": null
          }
        },
        "5fc44cfd9c604b23a4d2becc79f388e0": {
          "model_module": "@jupyter-widgets/controls",
          "model_name": "DescriptionStyleModel",
          "model_module_version": "1.5.0",
          "state": {
            "_model_module": "@jupyter-widgets/controls",
            "_model_module_version": "1.5.0",
            "_model_name": "DescriptionStyleModel",
            "_view_count": null,
            "_view_module": "@jupyter-widgets/base",
            "_view_module_version": "1.2.0",
            "_view_name": "StyleView",
            "description_width": ""
          }
        },
        "d6e6f6bf8aeb475abf3930a19daf7458": {
          "model_module": "@jupyter-widgets/base",
          "model_name": "LayoutModel",
          "model_module_version": "1.2.0",
          "state": {
            "_model_module": "@jupyter-widgets/base",
            "_model_module_version": "1.2.0",
            "_model_name": "LayoutModel",
            "_view_count": null,
            "_view_module": "@jupyter-widgets/base",
            "_view_module_version": "1.2.0",
            "_view_name": "LayoutView",
            "align_content": null,
            "align_items": null,
            "align_self": null,
            "border": null,
            "bottom": null,
            "display": null,
            "flex": null,
            "flex_flow": null,
            "grid_area": null,
            "grid_auto_columns": null,
            "grid_auto_flow": null,
            "grid_auto_rows": null,
            "grid_column": null,
            "grid_gap": null,
            "grid_row": null,
            "grid_template_areas": null,
            "grid_template_columns": null,
            "grid_template_rows": null,
            "height": null,
            "justify_content": null,
            "justify_items": null,
            "left": null,
            "margin": null,
            "max_height": null,
            "max_width": null,
            "min_height": null,
            "min_width": null,
            "object_fit": null,
            "object_position": null,
            "order": null,
            "overflow": null,
            "overflow_x": null,
            "overflow_y": null,
            "padding": null,
            "right": null,
            "top": null,
            "visibility": null,
            "width": null
          }
        },
        "cc493a4e018343daa0d588750bc111b3": {
          "model_module": "@jupyter-widgets/controls",
          "model_name": "ProgressStyleModel",
          "model_module_version": "1.5.0",
          "state": {
            "_model_module": "@jupyter-widgets/controls",
            "_model_module_version": "1.5.0",
            "_model_name": "ProgressStyleModel",
            "_view_count": null,
            "_view_module": "@jupyter-widgets/base",
            "_view_module_version": "1.2.0",
            "_view_name": "StyleView",
            "bar_color": null,
            "description_width": ""
          }
        },
        "9531006c35fc4c608a4099600c69f30b": {
          "model_module": "@jupyter-widgets/base",
          "model_name": "LayoutModel",
          "model_module_version": "1.2.0",
          "state": {
            "_model_module": "@jupyter-widgets/base",
            "_model_module_version": "1.2.0",
            "_model_name": "LayoutModel",
            "_view_count": null,
            "_view_module": "@jupyter-widgets/base",
            "_view_module_version": "1.2.0",
            "_view_name": "LayoutView",
            "align_content": null,
            "align_items": null,
            "align_self": null,
            "border": null,
            "bottom": null,
            "display": null,
            "flex": null,
            "flex_flow": null,
            "grid_area": null,
            "grid_auto_columns": null,
            "grid_auto_flow": null,
            "grid_auto_rows": null,
            "grid_column": null,
            "grid_gap": null,
            "grid_row": null,
            "grid_template_areas": null,
            "grid_template_columns": null,
            "grid_template_rows": null,
            "height": null,
            "justify_content": null,
            "justify_items": null,
            "left": null,
            "margin": null,
            "max_height": null,
            "max_width": null,
            "min_height": null,
            "min_width": null,
            "object_fit": null,
            "object_position": null,
            "order": null,
            "overflow": null,
            "overflow_x": null,
            "overflow_y": null,
            "padding": null,
            "right": null,
            "top": null,
            "visibility": null,
            "width": null
          }
        },
        "1c54007f96584683a14b179346bc5dfd": {
          "model_module": "@jupyter-widgets/controls",
          "model_name": "DescriptionStyleModel",
          "model_module_version": "1.5.0",
          "state": {
            "_model_module": "@jupyter-widgets/controls",
            "_model_module_version": "1.5.0",
            "_model_name": "DescriptionStyleModel",
            "_view_count": null,
            "_view_module": "@jupyter-widgets/base",
            "_view_module_version": "1.2.0",
            "_view_name": "StyleView",
            "description_width": ""
          }
        },
        "2698f24b38234f44a4be74173ecff0c0": {
          "model_module": "@jupyter-widgets/controls",
          "model_name": "HBoxModel",
          "model_module_version": "1.5.0",
          "state": {
            "_dom_classes": [],
            "_model_module": "@jupyter-widgets/controls",
            "_model_module_version": "1.5.0",
            "_model_name": "HBoxModel",
            "_view_count": null,
            "_view_module": "@jupyter-widgets/controls",
            "_view_module_version": "1.5.0",
            "_view_name": "HBoxView",
            "box_style": "",
            "children": [
              "IPY_MODEL_01bdc28af45849dfb928229a9fbee658",
              "IPY_MODEL_2a115a427d0249f8a702c54146a14a15",
              "IPY_MODEL_ad7a6ba04ea5440087567dbd52b2787d"
            ],
            "layout": "IPY_MODEL_ef0c37d5c12045b29fa96d22c0972e4b"
          }
        },
        "01bdc28af45849dfb928229a9fbee658": {
          "model_module": "@jupyter-widgets/controls",
          "model_name": "HTMLModel",
          "model_module_version": "1.5.0",
          "state": {
            "_dom_classes": [],
            "_model_module": "@jupyter-widgets/controls",
            "_model_module_version": "1.5.0",
            "_model_name": "HTMLModel",
            "_view_count": null,
            "_view_module": "@jupyter-widgets/controls",
            "_view_module_version": "1.5.0",
            "_view_name": "HTMLView",
            "description": "",
            "description_tooltip": null,
            "layout": "IPY_MODEL_67b0071d8fcc4ceb80b661b4dd8c20e9",
            "placeholder": "​",
            "style": "IPY_MODEL_f9c8a0af83494d48ae2e010f0144a9c3",
            "value": "Epoch: 100%"
          }
        },
        "2a115a427d0249f8a702c54146a14a15": {
          "model_module": "@jupyter-widgets/controls",
          "model_name": "FloatProgressModel",
          "model_module_version": "1.5.0",
          "state": {
            "_dom_classes": [],
            "_model_module": "@jupyter-widgets/controls",
            "_model_module_version": "1.5.0",
            "_model_name": "FloatProgressModel",
            "_view_count": null,
            "_view_module": "@jupyter-widgets/controls",
            "_view_module_version": "1.5.0",
            "_view_name": "ProgressView",
            "bar_style": "success",
            "description": "",
            "description_tooltip": null,
            "layout": "IPY_MODEL_6eb740c72eab4eb9890da08ce069849d",
            "max": 1,
            "min": 0,
            "orientation": "horizontal",
            "style": "IPY_MODEL_45166166fed84300a0b7d1683e66a5ef",
            "value": 1
          }
        },
        "ad7a6ba04ea5440087567dbd52b2787d": {
          "model_module": "@jupyter-widgets/controls",
          "model_name": "HTMLModel",
          "model_module_version": "1.5.0",
          "state": {
            "_dom_classes": [],
            "_model_module": "@jupyter-widgets/controls",
            "_model_module_version": "1.5.0",
            "_model_name": "HTMLModel",
            "_view_count": null,
            "_view_module": "@jupyter-widgets/controls",
            "_view_module_version": "1.5.0",
            "_view_name": "HTMLView",
            "description": "",
            "description_tooltip": null,
            "layout": "IPY_MODEL_36805af6b29144978bcd97c7a97fa7d6",
            "placeholder": "​",
            "style": "IPY_MODEL_68ca4fc2a3fd4d6dbceeebc1a5dc7e10",
            "value": " 1/1 [00:27&lt;00:00, 27.09s/it]"
          }
        },
        "ef0c37d5c12045b29fa96d22c0972e4b": {
          "model_module": "@jupyter-widgets/base",
          "model_name": "LayoutModel",
          "model_module_version": "1.2.0",
          "state": {
            "_model_module": "@jupyter-widgets/base",
            "_model_module_version": "1.2.0",
            "_model_name": "LayoutModel",
            "_view_count": null,
            "_view_module": "@jupyter-widgets/base",
            "_view_module_version": "1.2.0",
            "_view_name": "LayoutView",
            "align_content": null,
            "align_items": null,
            "align_self": null,
            "border": null,
            "bottom": null,
            "display": null,
            "flex": null,
            "flex_flow": null,
            "grid_area": null,
            "grid_auto_columns": null,
            "grid_auto_flow": null,
            "grid_auto_rows": null,
            "grid_column": null,
            "grid_gap": null,
            "grid_row": null,
            "grid_template_areas": null,
            "grid_template_columns": null,
            "grid_template_rows": null,
            "height": null,
            "justify_content": null,
            "justify_items": null,
            "left": null,
            "margin": null,
            "max_height": null,
            "max_width": null,
            "min_height": null,
            "min_width": null,
            "object_fit": null,
            "object_position": null,
            "order": null,
            "overflow": null,
            "overflow_x": null,
            "overflow_y": null,
            "padding": null,
            "right": null,
            "top": null,
            "visibility": null,
            "width": null
          }
        },
        "67b0071d8fcc4ceb80b661b4dd8c20e9": {
          "model_module": "@jupyter-widgets/base",
          "model_name": "LayoutModel",
          "model_module_version": "1.2.0",
          "state": {
            "_model_module": "@jupyter-widgets/base",
            "_model_module_version": "1.2.0",
            "_model_name": "LayoutModel",
            "_view_count": null,
            "_view_module": "@jupyter-widgets/base",
            "_view_module_version": "1.2.0",
            "_view_name": "LayoutView",
            "align_content": null,
            "align_items": null,
            "align_self": null,
            "border": null,
            "bottom": null,
            "display": null,
            "flex": null,
            "flex_flow": null,
            "grid_area": null,
            "grid_auto_columns": null,
            "grid_auto_flow": null,
            "grid_auto_rows": null,
            "grid_column": null,
            "grid_gap": null,
            "grid_row": null,
            "grid_template_areas": null,
            "grid_template_columns": null,
            "grid_template_rows": null,
            "height": null,
            "justify_content": null,
            "justify_items": null,
            "left": null,
            "margin": null,
            "max_height": null,
            "max_width": null,
            "min_height": null,
            "min_width": null,
            "object_fit": null,
            "object_position": null,
            "order": null,
            "overflow": null,
            "overflow_x": null,
            "overflow_y": null,
            "padding": null,
            "right": null,
            "top": null,
            "visibility": null,
            "width": null
          }
        },
        "f9c8a0af83494d48ae2e010f0144a9c3": {
          "model_module": "@jupyter-widgets/controls",
          "model_name": "DescriptionStyleModel",
          "model_module_version": "1.5.0",
          "state": {
            "_model_module": "@jupyter-widgets/controls",
            "_model_module_version": "1.5.0",
            "_model_name": "DescriptionStyleModel",
            "_view_count": null,
            "_view_module": "@jupyter-widgets/base",
            "_view_module_version": "1.2.0",
            "_view_name": "StyleView",
            "description_width": ""
          }
        },
        "6eb740c72eab4eb9890da08ce069849d": {
          "model_module": "@jupyter-widgets/base",
          "model_name": "LayoutModel",
          "model_module_version": "1.2.0",
          "state": {
            "_model_module": "@jupyter-widgets/base",
            "_model_module_version": "1.2.0",
            "_model_name": "LayoutModel",
            "_view_count": null,
            "_view_module": "@jupyter-widgets/base",
            "_view_module_version": "1.2.0",
            "_view_name": "LayoutView",
            "align_content": null,
            "align_items": null,
            "align_self": null,
            "border": null,
            "bottom": null,
            "display": null,
            "flex": null,
            "flex_flow": null,
            "grid_area": null,
            "grid_auto_columns": null,
            "grid_auto_flow": null,
            "grid_auto_rows": null,
            "grid_column": null,
            "grid_gap": null,
            "grid_row": null,
            "grid_template_areas": null,
            "grid_template_columns": null,
            "grid_template_rows": null,
            "height": null,
            "justify_content": null,
            "justify_items": null,
            "left": null,
            "margin": null,
            "max_height": null,
            "max_width": null,
            "min_height": null,
            "min_width": null,
            "object_fit": null,
            "object_position": null,
            "order": null,
            "overflow": null,
            "overflow_x": null,
            "overflow_y": null,
            "padding": null,
            "right": null,
            "top": null,
            "visibility": null,
            "width": null
          }
        },
        "45166166fed84300a0b7d1683e66a5ef": {
          "model_module": "@jupyter-widgets/controls",
          "model_name": "ProgressStyleModel",
          "model_module_version": "1.5.0",
          "state": {
            "_model_module": "@jupyter-widgets/controls",
            "_model_module_version": "1.5.0",
            "_model_name": "ProgressStyleModel",
            "_view_count": null,
            "_view_module": "@jupyter-widgets/base",
            "_view_module_version": "1.2.0",
            "_view_name": "StyleView",
            "bar_color": null,
            "description_width": ""
          }
        },
        "36805af6b29144978bcd97c7a97fa7d6": {
          "model_module": "@jupyter-widgets/base",
          "model_name": "LayoutModel",
          "model_module_version": "1.2.0",
          "state": {
            "_model_module": "@jupyter-widgets/base",
            "_model_module_version": "1.2.0",
            "_model_name": "LayoutModel",
            "_view_count": null,
            "_view_module": "@jupyter-widgets/base",
            "_view_module_version": "1.2.0",
            "_view_name": "LayoutView",
            "align_content": null,
            "align_items": null,
            "align_self": null,
            "border": null,
            "bottom": null,
            "display": null,
            "flex": null,
            "flex_flow": null,
            "grid_area": null,
            "grid_auto_columns": null,
            "grid_auto_flow": null,
            "grid_auto_rows": null,
            "grid_column": null,
            "grid_gap": null,
            "grid_row": null,
            "grid_template_areas": null,
            "grid_template_columns": null,
            "grid_template_rows": null,
            "height": null,
            "justify_content": null,
            "justify_items": null,
            "left": null,
            "margin": null,
            "max_height": null,
            "max_width": null,
            "min_height": null,
            "min_width": null,
            "object_fit": null,
            "object_position": null,
            "order": null,
            "overflow": null,
            "overflow_x": null,
            "overflow_y": null,
            "padding": null,
            "right": null,
            "top": null,
            "visibility": null,
            "width": null
          }
        },
        "68ca4fc2a3fd4d6dbceeebc1a5dc7e10": {
          "model_module": "@jupyter-widgets/controls",
          "model_name": "DescriptionStyleModel",
          "model_module_version": "1.5.0",
          "state": {
            "_model_module": "@jupyter-widgets/controls",
            "_model_module_version": "1.5.0",
            "_model_name": "DescriptionStyleModel",
            "_view_count": null,
            "_view_module": "@jupyter-widgets/base",
            "_view_module_version": "1.2.0",
            "_view_name": "StyleView",
            "description_width": ""
          }
        },
        "648a2761ddec438d9aef8a3aa9b28a1e": {
          "model_module": "@jupyter-widgets/controls",
          "model_name": "HBoxModel",
          "model_module_version": "1.5.0",
          "state": {
            "_dom_classes": [],
            "_model_module": "@jupyter-widgets/controls",
            "_model_module_version": "1.5.0",
            "_model_name": "HBoxModel",
            "_view_count": null,
            "_view_module": "@jupyter-widgets/controls",
            "_view_module_version": "1.5.0",
            "_view_name": "HBoxView",
            "box_style": "",
            "children": [
              "IPY_MODEL_f4ff795df5bb43ecbf7e4a49460bf997",
              "IPY_MODEL_ef3023cd87724d9599f5eb5f0215fafc",
              "IPY_MODEL_730db9bd5a494b8b8d5ad431304b6d5f"
            ],
            "layout": "IPY_MODEL_9bac040442c84f688ca942871129a1f2"
          }
        },
        "f4ff795df5bb43ecbf7e4a49460bf997": {
          "model_module": "@jupyter-widgets/controls",
          "model_name": "HTMLModel",
          "model_module_version": "1.5.0",
          "state": {
            "_dom_classes": [],
            "_model_module": "@jupyter-widgets/controls",
            "_model_module_version": "1.5.0",
            "_model_name": "HTMLModel",
            "_view_count": null,
            "_view_module": "@jupyter-widgets/controls",
            "_view_module_version": "1.5.0",
            "_view_name": "HTMLView",
            "description": "",
            "description_tooltip": null,
            "layout": "IPY_MODEL_0763f41dde8a4530b8409d97bab68407",
            "placeholder": "​",
            "style": "IPY_MODEL_14c8946daed8447491a301ed284f573e",
            "value": "Iteration: 100%"
          }
        },
        "ef3023cd87724d9599f5eb5f0215fafc": {
          "model_module": "@jupyter-widgets/controls",
          "model_name": "FloatProgressModel",
          "model_module_version": "1.5.0",
          "state": {
            "_dom_classes": [],
            "_model_module": "@jupyter-widgets/controls",
            "_model_module_version": "1.5.0",
            "_model_name": "FloatProgressModel",
            "_view_count": null,
            "_view_module": "@jupyter-widgets/controls",
            "_view_module_version": "1.5.0",
            "_view_name": "ProgressView",
            "bar_style": "success",
            "description": "",
            "description_tooltip": null,
            "layout": "IPY_MODEL_d9e899e01a534129ac346146a950ff46",
            "max": 19,
            "min": 0,
            "orientation": "horizontal",
            "style": "IPY_MODEL_84f77f89d34d4298bcb3dd4efe15aad8",
            "value": 19
          }
        },
        "730db9bd5a494b8b8d5ad431304b6d5f": {
          "model_module": "@jupyter-widgets/controls",
          "model_name": "HTMLModel",
          "model_module_version": "1.5.0",
          "state": {
            "_dom_classes": [],
            "_model_module": "@jupyter-widgets/controls",
            "_model_module_version": "1.5.0",
            "_model_name": "HTMLModel",
            "_view_count": null,
            "_view_module": "@jupyter-widgets/controls",
            "_view_module_version": "1.5.0",
            "_view_name": "HTMLView",
            "description": "",
            "description_tooltip": null,
            "layout": "IPY_MODEL_1794a26be233442d8bf2ed97ff2d1bb3",
            "placeholder": "​",
            "style": "IPY_MODEL_b734b32aebb9465dab7d4200923c999c",
            "value": " 19/19 [00:27&lt;00:00,  1.42s/it]"
          }
        },
        "9bac040442c84f688ca942871129a1f2": {
          "model_module": "@jupyter-widgets/base",
          "model_name": "LayoutModel",
          "model_module_version": "1.2.0",
          "state": {
            "_model_module": "@jupyter-widgets/base",
            "_model_module_version": "1.2.0",
            "_model_name": "LayoutModel",
            "_view_count": null,
            "_view_module": "@jupyter-widgets/base",
            "_view_module_version": "1.2.0",
            "_view_name": "LayoutView",
            "align_content": null,
            "align_items": null,
            "align_self": null,
            "border": null,
            "bottom": null,
            "display": null,
            "flex": null,
            "flex_flow": null,
            "grid_area": null,
            "grid_auto_columns": null,
            "grid_auto_flow": null,
            "grid_auto_rows": null,
            "grid_column": null,
            "grid_gap": null,
            "grid_row": null,
            "grid_template_areas": null,
            "grid_template_columns": null,
            "grid_template_rows": null,
            "height": null,
            "justify_content": null,
            "justify_items": null,
            "left": null,
            "margin": null,
            "max_height": null,
            "max_width": null,
            "min_height": null,
            "min_width": null,
            "object_fit": null,
            "object_position": null,
            "order": null,
            "overflow": null,
            "overflow_x": null,
            "overflow_y": null,
            "padding": null,
            "right": null,
            "top": null,
            "visibility": null,
            "width": null
          }
        },
        "0763f41dde8a4530b8409d97bab68407": {
          "model_module": "@jupyter-widgets/base",
          "model_name": "LayoutModel",
          "model_module_version": "1.2.0",
          "state": {
            "_model_module": "@jupyter-widgets/base",
            "_model_module_version": "1.2.0",
            "_model_name": "LayoutModel",
            "_view_count": null,
            "_view_module": "@jupyter-widgets/base",
            "_view_module_version": "1.2.0",
            "_view_name": "LayoutView",
            "align_content": null,
            "align_items": null,
            "align_self": null,
            "border": null,
            "bottom": null,
            "display": null,
            "flex": null,
            "flex_flow": null,
            "grid_area": null,
            "grid_auto_columns": null,
            "grid_auto_flow": null,
            "grid_auto_rows": null,
            "grid_column": null,
            "grid_gap": null,
            "grid_row": null,
            "grid_template_areas": null,
            "grid_template_columns": null,
            "grid_template_rows": null,
            "height": null,
            "justify_content": null,
            "justify_items": null,
            "left": null,
            "margin": null,
            "max_height": null,
            "max_width": null,
            "min_height": null,
            "min_width": null,
            "object_fit": null,
            "object_position": null,
            "order": null,
            "overflow": null,
            "overflow_x": null,
            "overflow_y": null,
            "padding": null,
            "right": null,
            "top": null,
            "visibility": null,
            "width": null
          }
        },
        "14c8946daed8447491a301ed284f573e": {
          "model_module": "@jupyter-widgets/controls",
          "model_name": "DescriptionStyleModel",
          "model_module_version": "1.5.0",
          "state": {
            "_model_module": "@jupyter-widgets/controls",
            "_model_module_version": "1.5.0",
            "_model_name": "DescriptionStyleModel",
            "_view_count": null,
            "_view_module": "@jupyter-widgets/base",
            "_view_module_version": "1.2.0",
            "_view_name": "StyleView",
            "description_width": ""
          }
        },
        "d9e899e01a534129ac346146a950ff46": {
          "model_module": "@jupyter-widgets/base",
          "model_name": "LayoutModel",
          "model_module_version": "1.2.0",
          "state": {
            "_model_module": "@jupyter-widgets/base",
            "_model_module_version": "1.2.0",
            "_model_name": "LayoutModel",
            "_view_count": null,
            "_view_module": "@jupyter-widgets/base",
            "_view_module_version": "1.2.0",
            "_view_name": "LayoutView",
            "align_content": null,
            "align_items": null,
            "align_self": null,
            "border": null,
            "bottom": null,
            "display": null,
            "flex": null,
            "flex_flow": null,
            "grid_area": null,
            "grid_auto_columns": null,
            "grid_auto_flow": null,
            "grid_auto_rows": null,
            "grid_column": null,
            "grid_gap": null,
            "grid_row": null,
            "grid_template_areas": null,
            "grid_template_columns": null,
            "grid_template_rows": null,
            "height": null,
            "justify_content": null,
            "justify_items": null,
            "left": null,
            "margin": null,
            "max_height": null,
            "max_width": null,
            "min_height": null,
            "min_width": null,
            "object_fit": null,
            "object_position": null,
            "order": null,
            "overflow": null,
            "overflow_x": null,
            "overflow_y": null,
            "padding": null,
            "right": null,
            "top": null,
            "visibility": null,
            "width": null
          }
        },
        "84f77f89d34d4298bcb3dd4efe15aad8": {
          "model_module": "@jupyter-widgets/controls",
          "model_name": "ProgressStyleModel",
          "model_module_version": "1.5.0",
          "state": {
            "_model_module": "@jupyter-widgets/controls",
            "_model_module_version": "1.5.0",
            "_model_name": "ProgressStyleModel",
            "_view_count": null,
            "_view_module": "@jupyter-widgets/base",
            "_view_module_version": "1.2.0",
            "_view_name": "StyleView",
            "bar_color": null,
            "description_width": ""
          }
        },
        "1794a26be233442d8bf2ed97ff2d1bb3": {
          "model_module": "@jupyter-widgets/base",
          "model_name": "LayoutModel",
          "model_module_version": "1.2.0",
          "state": {
            "_model_module": "@jupyter-widgets/base",
            "_model_module_version": "1.2.0",
            "_model_name": "LayoutModel",
            "_view_count": null,
            "_view_module": "@jupyter-widgets/base",
            "_view_module_version": "1.2.0",
            "_view_name": "LayoutView",
            "align_content": null,
            "align_items": null,
            "align_self": null,
            "border": null,
            "bottom": null,
            "display": null,
            "flex": null,
            "flex_flow": null,
            "grid_area": null,
            "grid_auto_columns": null,
            "grid_auto_flow": null,
            "grid_auto_rows": null,
            "grid_column": null,
            "grid_gap": null,
            "grid_row": null,
            "grid_template_areas": null,
            "grid_template_columns": null,
            "grid_template_rows": null,
            "height": null,
            "justify_content": null,
            "justify_items": null,
            "left": null,
            "margin": null,
            "max_height": null,
            "max_width": null,
            "min_height": null,
            "min_width": null,
            "object_fit": null,
            "object_position": null,
            "order": null,
            "overflow": null,
            "overflow_x": null,
            "overflow_y": null,
            "padding": null,
            "right": null,
            "top": null,
            "visibility": null,
            "width": null
          }
        },
        "b734b32aebb9465dab7d4200923c999c": {
          "model_module": "@jupyter-widgets/controls",
          "model_name": "DescriptionStyleModel",
          "model_module_version": "1.5.0",
          "state": {
            "_model_module": "@jupyter-widgets/controls",
            "_model_module_version": "1.5.0",
            "_model_name": "DescriptionStyleModel",
            "_view_count": null,
            "_view_module": "@jupyter-widgets/base",
            "_view_module_version": "1.2.0",
            "_view_name": "StyleView",
            "description_width": ""
          }
        },
        "82bfd96a81684d83b2590c6905e68b5c": {
          "model_module": "@jupyter-widgets/controls",
          "model_name": "HBoxModel",
          "model_module_version": "1.5.0",
          "state": {
            "_dom_classes": [],
            "_model_module": "@jupyter-widgets/controls",
            "_model_module_version": "1.5.0",
            "_model_name": "HBoxModel",
            "_view_count": null,
            "_view_module": "@jupyter-widgets/controls",
            "_view_module_version": "1.5.0",
            "_view_name": "HBoxView",
            "box_style": "",
            "children": [
              "IPY_MODEL_d3c29e25515f457b8611b9dd76334072",
              "IPY_MODEL_39263b573c204a94ae766a98b45e3aeb",
              "IPY_MODEL_1745223e545e489eb6a504d5a6064761"
            ],
            "layout": "IPY_MODEL_fde63457e60e45749147af077b885583"
          }
        },
        "d3c29e25515f457b8611b9dd76334072": {
          "model_module": "@jupyter-widgets/controls",
          "model_name": "HTMLModel",
          "model_module_version": "1.5.0",
          "state": {
            "_dom_classes": [],
            "_model_module": "@jupyter-widgets/controls",
            "_model_module_version": "1.5.0",
            "_model_name": "HTMLModel",
            "_view_count": null,
            "_view_module": "@jupyter-widgets/controls",
            "_view_module_version": "1.5.0",
            "_view_name": "HTMLView",
            "description": "",
            "description_tooltip": null,
            "layout": "IPY_MODEL_0a43a34ccb27465bb02d45b43932f7bb",
            "placeholder": "​",
            "style": "IPY_MODEL_e002adbccdaf462faa3d4f41e9c3c949",
            "value": "Epoch: 100%"
          }
        },
        "39263b573c204a94ae766a98b45e3aeb": {
          "model_module": "@jupyter-widgets/controls",
          "model_name": "FloatProgressModel",
          "model_module_version": "1.5.0",
          "state": {
            "_dom_classes": [],
            "_model_module": "@jupyter-widgets/controls",
            "_model_module_version": "1.5.0",
            "_model_name": "FloatProgressModel",
            "_view_count": null,
            "_view_module": "@jupyter-widgets/controls",
            "_view_module_version": "1.5.0",
            "_view_name": "ProgressView",
            "bar_style": "success",
            "description": "",
            "description_tooltip": null,
            "layout": "IPY_MODEL_706a2b3cb87247a58ae06d5a60f09045",
            "max": 1,
            "min": 0,
            "orientation": "horizontal",
            "style": "IPY_MODEL_489560b78be84838aacda762b0f1a0e9",
            "value": 1
          }
        },
        "1745223e545e489eb6a504d5a6064761": {
          "model_module": "@jupyter-widgets/controls",
          "model_name": "HTMLModel",
          "model_module_version": "1.5.0",
          "state": {
            "_dom_classes": [],
            "_model_module": "@jupyter-widgets/controls",
            "_model_module_version": "1.5.0",
            "_model_name": "HTMLModel",
            "_view_count": null,
            "_view_module": "@jupyter-widgets/controls",
            "_view_module_version": "1.5.0",
            "_view_name": "HTMLView",
            "description": "",
            "description_tooltip": null,
            "layout": "IPY_MODEL_08172f51015246fab1b63fda7f662bbe",
            "placeholder": "​",
            "style": "IPY_MODEL_8d84a06b6157413b86802ea0f5c6ed2b",
            "value": " 1/1 [00:46&lt;00:00, 46.58s/it]"
          }
        },
        "fde63457e60e45749147af077b885583": {
          "model_module": "@jupyter-widgets/base",
          "model_name": "LayoutModel",
          "model_module_version": "1.2.0",
          "state": {
            "_model_module": "@jupyter-widgets/base",
            "_model_module_version": "1.2.0",
            "_model_name": "LayoutModel",
            "_view_count": null,
            "_view_module": "@jupyter-widgets/base",
            "_view_module_version": "1.2.0",
            "_view_name": "LayoutView",
            "align_content": null,
            "align_items": null,
            "align_self": null,
            "border": null,
            "bottom": null,
            "display": null,
            "flex": null,
            "flex_flow": null,
            "grid_area": null,
            "grid_auto_columns": null,
            "grid_auto_flow": null,
            "grid_auto_rows": null,
            "grid_column": null,
            "grid_gap": null,
            "grid_row": null,
            "grid_template_areas": null,
            "grid_template_columns": null,
            "grid_template_rows": null,
            "height": null,
            "justify_content": null,
            "justify_items": null,
            "left": null,
            "margin": null,
            "max_height": null,
            "max_width": null,
            "min_height": null,
            "min_width": null,
            "object_fit": null,
            "object_position": null,
            "order": null,
            "overflow": null,
            "overflow_x": null,
            "overflow_y": null,
            "padding": null,
            "right": null,
            "top": null,
            "visibility": null,
            "width": null
          }
        },
        "0a43a34ccb27465bb02d45b43932f7bb": {
          "model_module": "@jupyter-widgets/base",
          "model_name": "LayoutModel",
          "model_module_version": "1.2.0",
          "state": {
            "_model_module": "@jupyter-widgets/base",
            "_model_module_version": "1.2.0",
            "_model_name": "LayoutModel",
            "_view_count": null,
            "_view_module": "@jupyter-widgets/base",
            "_view_module_version": "1.2.0",
            "_view_name": "LayoutView",
            "align_content": null,
            "align_items": null,
            "align_self": null,
            "border": null,
            "bottom": null,
            "display": null,
            "flex": null,
            "flex_flow": null,
            "grid_area": null,
            "grid_auto_columns": null,
            "grid_auto_flow": null,
            "grid_auto_rows": null,
            "grid_column": null,
            "grid_gap": null,
            "grid_row": null,
            "grid_template_areas": null,
            "grid_template_columns": null,
            "grid_template_rows": null,
            "height": null,
            "justify_content": null,
            "justify_items": null,
            "left": null,
            "margin": null,
            "max_height": null,
            "max_width": null,
            "min_height": null,
            "min_width": null,
            "object_fit": null,
            "object_position": null,
            "order": null,
            "overflow": null,
            "overflow_x": null,
            "overflow_y": null,
            "padding": null,
            "right": null,
            "top": null,
            "visibility": null,
            "width": null
          }
        },
        "e002adbccdaf462faa3d4f41e9c3c949": {
          "model_module": "@jupyter-widgets/controls",
          "model_name": "DescriptionStyleModel",
          "model_module_version": "1.5.0",
          "state": {
            "_model_module": "@jupyter-widgets/controls",
            "_model_module_version": "1.5.0",
            "_model_name": "DescriptionStyleModel",
            "_view_count": null,
            "_view_module": "@jupyter-widgets/base",
            "_view_module_version": "1.2.0",
            "_view_name": "StyleView",
            "description_width": ""
          }
        },
        "706a2b3cb87247a58ae06d5a60f09045": {
          "model_module": "@jupyter-widgets/base",
          "model_name": "LayoutModel",
          "model_module_version": "1.2.0",
          "state": {
            "_model_module": "@jupyter-widgets/base",
            "_model_module_version": "1.2.0",
            "_model_name": "LayoutModel",
            "_view_count": null,
            "_view_module": "@jupyter-widgets/base",
            "_view_module_version": "1.2.0",
            "_view_name": "LayoutView",
            "align_content": null,
            "align_items": null,
            "align_self": null,
            "border": null,
            "bottom": null,
            "display": null,
            "flex": null,
            "flex_flow": null,
            "grid_area": null,
            "grid_auto_columns": null,
            "grid_auto_flow": null,
            "grid_auto_rows": null,
            "grid_column": null,
            "grid_gap": null,
            "grid_row": null,
            "grid_template_areas": null,
            "grid_template_columns": null,
            "grid_template_rows": null,
            "height": null,
            "justify_content": null,
            "justify_items": null,
            "left": null,
            "margin": null,
            "max_height": null,
            "max_width": null,
            "min_height": null,
            "min_width": null,
            "object_fit": null,
            "object_position": null,
            "order": null,
            "overflow": null,
            "overflow_x": null,
            "overflow_y": null,
            "padding": null,
            "right": null,
            "top": null,
            "visibility": null,
            "width": null
          }
        },
        "489560b78be84838aacda762b0f1a0e9": {
          "model_module": "@jupyter-widgets/controls",
          "model_name": "ProgressStyleModel",
          "model_module_version": "1.5.0",
          "state": {
            "_model_module": "@jupyter-widgets/controls",
            "_model_module_version": "1.5.0",
            "_model_name": "ProgressStyleModel",
            "_view_count": null,
            "_view_module": "@jupyter-widgets/base",
            "_view_module_version": "1.2.0",
            "_view_name": "StyleView",
            "bar_color": null,
            "description_width": ""
          }
        },
        "08172f51015246fab1b63fda7f662bbe": {
          "model_module": "@jupyter-widgets/base",
          "model_name": "LayoutModel",
          "model_module_version": "1.2.0",
          "state": {
            "_model_module": "@jupyter-widgets/base",
            "_model_module_version": "1.2.0",
            "_model_name": "LayoutModel",
            "_view_count": null,
            "_view_module": "@jupyter-widgets/base",
            "_view_module_version": "1.2.0",
            "_view_name": "LayoutView",
            "align_content": null,
            "align_items": null,
            "align_self": null,
            "border": null,
            "bottom": null,
            "display": null,
            "flex": null,
            "flex_flow": null,
            "grid_area": null,
            "grid_auto_columns": null,
            "grid_auto_flow": null,
            "grid_auto_rows": null,
            "grid_column": null,
            "grid_gap": null,
            "grid_row": null,
            "grid_template_areas": null,
            "grid_template_columns": null,
            "grid_template_rows": null,
            "height": null,
            "justify_content": null,
            "justify_items": null,
            "left": null,
            "margin": null,
            "max_height": null,
            "max_width": null,
            "min_height": null,
            "min_width": null,
            "object_fit": null,
            "object_position": null,
            "order": null,
            "overflow": null,
            "overflow_x": null,
            "overflow_y": null,
            "padding": null,
            "right": null,
            "top": null,
            "visibility": null,
            "width": null
          }
        },
        "8d84a06b6157413b86802ea0f5c6ed2b": {
          "model_module": "@jupyter-widgets/controls",
          "model_name": "DescriptionStyleModel",
          "model_module_version": "1.5.0",
          "state": {
            "_model_module": "@jupyter-widgets/controls",
            "_model_module_version": "1.5.0",
            "_model_name": "DescriptionStyleModel",
            "_view_count": null,
            "_view_module": "@jupyter-widgets/base",
            "_view_module_version": "1.2.0",
            "_view_name": "StyleView",
            "description_width": ""
          }
        },
        "60f8375698cf4d0490720dc73df2b3d6": {
          "model_module": "@jupyter-widgets/controls",
          "model_name": "HBoxModel",
          "model_module_version": "1.5.0",
          "state": {
            "_dom_classes": [],
            "_model_module": "@jupyter-widgets/controls",
            "_model_module_version": "1.5.0",
            "_model_name": "HBoxModel",
            "_view_count": null,
            "_view_module": "@jupyter-widgets/controls",
            "_view_module_version": "1.5.0",
            "_view_name": "HBoxView",
            "box_style": "",
            "children": [
              "IPY_MODEL_64664ce61eb2428ea1eb9a82ed9f12a8",
              "IPY_MODEL_a08f538300fa4e009361562a2e8fd8a3",
              "IPY_MODEL_cd8a6c90eee0425387975819d54d01ca"
            ],
            "layout": "IPY_MODEL_01c7224f85ce4878882d8f772e13cf66"
          }
        },
        "64664ce61eb2428ea1eb9a82ed9f12a8": {
          "model_module": "@jupyter-widgets/controls",
          "model_name": "HTMLModel",
          "model_module_version": "1.5.0",
          "state": {
            "_dom_classes": [],
            "_model_module": "@jupyter-widgets/controls",
            "_model_module_version": "1.5.0",
            "_model_name": "HTMLModel",
            "_view_count": null,
            "_view_module": "@jupyter-widgets/controls",
            "_view_module_version": "1.5.0",
            "_view_name": "HTMLView",
            "description": "",
            "description_tooltip": null,
            "layout": "IPY_MODEL_08303b7964b64ddaa8f7378668932258",
            "placeholder": "​",
            "style": "IPY_MODEL_f1a3e68e5c054f0382557a004df33ca7",
            "value": "Iteration: 100%"
          }
        },
        "a08f538300fa4e009361562a2e8fd8a3": {
          "model_module": "@jupyter-widgets/controls",
          "model_name": "FloatProgressModel",
          "model_module_version": "1.5.0",
          "state": {
            "_dom_classes": [],
            "_model_module": "@jupyter-widgets/controls",
            "_model_module_version": "1.5.0",
            "_model_name": "FloatProgressModel",
            "_view_count": null,
            "_view_module": "@jupyter-widgets/controls",
            "_view_module_version": "1.5.0",
            "_view_name": "ProgressView",
            "bar_style": "success",
            "description": "",
            "description_tooltip": null,
            "layout": "IPY_MODEL_4acafd2a86ca4268bfab9172fd1faaf6",
            "max": 32,
            "min": 0,
            "orientation": "horizontal",
            "style": "IPY_MODEL_788b03a1234541b598e05f53d8221627",
            "value": 32
          }
        },
        "cd8a6c90eee0425387975819d54d01ca": {
          "model_module": "@jupyter-widgets/controls",
          "model_name": "HTMLModel",
          "model_module_version": "1.5.0",
          "state": {
            "_dom_classes": [],
            "_model_module": "@jupyter-widgets/controls",
            "_model_module_version": "1.5.0",
            "_model_name": "HTMLModel",
            "_view_count": null,
            "_view_module": "@jupyter-widgets/controls",
            "_view_module_version": "1.5.0",
            "_view_name": "HTMLView",
            "description": "",
            "description_tooltip": null,
            "layout": "IPY_MODEL_cc0bec9dad9a4ca29592291f8c16ae44",
            "placeholder": "​",
            "style": "IPY_MODEL_59dd2d9e39264c189e1725c74701fae5",
            "value": " 32/32 [00:46&lt;00:00,  1.37s/it]"
          }
        },
        "01c7224f85ce4878882d8f772e13cf66": {
          "model_module": "@jupyter-widgets/base",
          "model_name": "LayoutModel",
          "model_module_version": "1.2.0",
          "state": {
            "_model_module": "@jupyter-widgets/base",
            "_model_module_version": "1.2.0",
            "_model_name": "LayoutModel",
            "_view_count": null,
            "_view_module": "@jupyter-widgets/base",
            "_view_module_version": "1.2.0",
            "_view_name": "LayoutView",
            "align_content": null,
            "align_items": null,
            "align_self": null,
            "border": null,
            "bottom": null,
            "display": null,
            "flex": null,
            "flex_flow": null,
            "grid_area": null,
            "grid_auto_columns": null,
            "grid_auto_flow": null,
            "grid_auto_rows": null,
            "grid_column": null,
            "grid_gap": null,
            "grid_row": null,
            "grid_template_areas": null,
            "grid_template_columns": null,
            "grid_template_rows": null,
            "height": null,
            "justify_content": null,
            "justify_items": null,
            "left": null,
            "margin": null,
            "max_height": null,
            "max_width": null,
            "min_height": null,
            "min_width": null,
            "object_fit": null,
            "object_position": null,
            "order": null,
            "overflow": null,
            "overflow_x": null,
            "overflow_y": null,
            "padding": null,
            "right": null,
            "top": null,
            "visibility": null,
            "width": null
          }
        },
        "08303b7964b64ddaa8f7378668932258": {
          "model_module": "@jupyter-widgets/base",
          "model_name": "LayoutModel",
          "model_module_version": "1.2.0",
          "state": {
            "_model_module": "@jupyter-widgets/base",
            "_model_module_version": "1.2.0",
            "_model_name": "LayoutModel",
            "_view_count": null,
            "_view_module": "@jupyter-widgets/base",
            "_view_module_version": "1.2.0",
            "_view_name": "LayoutView",
            "align_content": null,
            "align_items": null,
            "align_self": null,
            "border": null,
            "bottom": null,
            "display": null,
            "flex": null,
            "flex_flow": null,
            "grid_area": null,
            "grid_auto_columns": null,
            "grid_auto_flow": null,
            "grid_auto_rows": null,
            "grid_column": null,
            "grid_gap": null,
            "grid_row": null,
            "grid_template_areas": null,
            "grid_template_columns": null,
            "grid_template_rows": null,
            "height": null,
            "justify_content": null,
            "justify_items": null,
            "left": null,
            "margin": null,
            "max_height": null,
            "max_width": null,
            "min_height": null,
            "min_width": null,
            "object_fit": null,
            "object_position": null,
            "order": null,
            "overflow": null,
            "overflow_x": null,
            "overflow_y": null,
            "padding": null,
            "right": null,
            "top": null,
            "visibility": null,
            "width": null
          }
        },
        "f1a3e68e5c054f0382557a004df33ca7": {
          "model_module": "@jupyter-widgets/controls",
          "model_name": "DescriptionStyleModel",
          "model_module_version": "1.5.0",
          "state": {
            "_model_module": "@jupyter-widgets/controls",
            "_model_module_version": "1.5.0",
            "_model_name": "DescriptionStyleModel",
            "_view_count": null,
            "_view_module": "@jupyter-widgets/base",
            "_view_module_version": "1.2.0",
            "_view_name": "StyleView",
            "description_width": ""
          }
        },
        "4acafd2a86ca4268bfab9172fd1faaf6": {
          "model_module": "@jupyter-widgets/base",
          "model_name": "LayoutModel",
          "model_module_version": "1.2.0",
          "state": {
            "_model_module": "@jupyter-widgets/base",
            "_model_module_version": "1.2.0",
            "_model_name": "LayoutModel",
            "_view_count": null,
            "_view_module": "@jupyter-widgets/base",
            "_view_module_version": "1.2.0",
            "_view_name": "LayoutView",
            "align_content": null,
            "align_items": null,
            "align_self": null,
            "border": null,
            "bottom": null,
            "display": null,
            "flex": null,
            "flex_flow": null,
            "grid_area": null,
            "grid_auto_columns": null,
            "grid_auto_flow": null,
            "grid_auto_rows": null,
            "grid_column": null,
            "grid_gap": null,
            "grid_row": null,
            "grid_template_areas": null,
            "grid_template_columns": null,
            "grid_template_rows": null,
            "height": null,
            "justify_content": null,
            "justify_items": null,
            "left": null,
            "margin": null,
            "max_height": null,
            "max_width": null,
            "min_height": null,
            "min_width": null,
            "object_fit": null,
            "object_position": null,
            "order": null,
            "overflow": null,
            "overflow_x": null,
            "overflow_y": null,
            "padding": null,
            "right": null,
            "top": null,
            "visibility": null,
            "width": null
          }
        },
        "788b03a1234541b598e05f53d8221627": {
          "model_module": "@jupyter-widgets/controls",
          "model_name": "ProgressStyleModel",
          "model_module_version": "1.5.0",
          "state": {
            "_model_module": "@jupyter-widgets/controls",
            "_model_module_version": "1.5.0",
            "_model_name": "ProgressStyleModel",
            "_view_count": null,
            "_view_module": "@jupyter-widgets/base",
            "_view_module_version": "1.2.0",
            "_view_name": "StyleView",
            "bar_color": null,
            "description_width": ""
          }
        },
        "cc0bec9dad9a4ca29592291f8c16ae44": {
          "model_module": "@jupyter-widgets/base",
          "model_name": "LayoutModel",
          "model_module_version": "1.2.0",
          "state": {
            "_model_module": "@jupyter-widgets/base",
            "_model_module_version": "1.2.0",
            "_model_name": "LayoutModel",
            "_view_count": null,
            "_view_module": "@jupyter-widgets/base",
            "_view_module_version": "1.2.0",
            "_view_name": "LayoutView",
            "align_content": null,
            "align_items": null,
            "align_self": null,
            "border": null,
            "bottom": null,
            "display": null,
            "flex": null,
            "flex_flow": null,
            "grid_area": null,
            "grid_auto_columns": null,
            "grid_auto_flow": null,
            "grid_auto_rows": null,
            "grid_column": null,
            "grid_gap": null,
            "grid_row": null,
            "grid_template_areas": null,
            "grid_template_columns": null,
            "grid_template_rows": null,
            "height": null,
            "justify_content": null,
            "justify_items": null,
            "left": null,
            "margin": null,
            "max_height": null,
            "max_width": null,
            "min_height": null,
            "min_width": null,
            "object_fit": null,
            "object_position": null,
            "order": null,
            "overflow": null,
            "overflow_x": null,
            "overflow_y": null,
            "padding": null,
            "right": null,
            "top": null,
            "visibility": null,
            "width": null
          }
        },
        "59dd2d9e39264c189e1725c74701fae5": {
          "model_module": "@jupyter-widgets/controls",
          "model_name": "DescriptionStyleModel",
          "model_module_version": "1.5.0",
          "state": {
            "_model_module": "@jupyter-widgets/controls",
            "_model_module_version": "1.5.0",
            "_model_name": "DescriptionStyleModel",
            "_view_count": null,
            "_view_module": "@jupyter-widgets/base",
            "_view_module_version": "1.2.0",
            "_view_name": "StyleView",
            "description_width": ""
          }
        }
      }
    }
  },
  "cells": [
    {
      "cell_type": "code",
      "execution_count": 1,
      "metadata": {
        "id": "6tzvdB4ekdQd"
      },
      "outputs": [],
      "source": [
        "#Imports\n",
        "import os\n",
        "import numpy as np\n",
        "import pandas as pd\n",
        "import sklearn\n",
        "from sklearn.model_selection import train_test_split\n",
        "from sklearn.metrics import classification_report,confusion_matrix\n",
        "from google.colab import drive"
      ]
    },
    {
      "cell_type": "code",
      "source": [
        "#Mount and access drive\n",
        "drive.mount('/content/drive',force_remount=True)\n",
        "os.chdir('/content/drive/My Drive/Few-Shot-Tamil')\n",
        "print(\"Change successful.\")"
      ],
      "metadata": {
        "colab": {
          "base_uri": "https://localhost:8080/"
        },
        "id": "iDM4FLtbmpMO",
        "outputId": "3f8b14b4-37f1-41e2-d32d-e3d622328b84"
      },
      "execution_count": 2,
      "outputs": [
        {
          "output_type": "stream",
          "name": "stdout",
          "text": [
            "Mounted at /content/drive\n",
            "Change successful.\n"
          ]
        }
      ]
    },
    {
      "cell_type": "code",
      "source": [
        "#Load the datasets\n",
        "one_shot_real = pd.read_csv('one-shot-real.csv',  sep='\\t')\n",
        "one_shot_fake = pd.read_csv('one-shot-fake.csv',  sep='\\t')\n",
        "three_shot_real = pd.read_csv('three-shot-real.csv',  sep='\\t')\n",
        "three_shot_fake = pd.read_csv('three-shot-fake.csv',  sep='\\t')\n",
        "five_shot_real = pd.read_csv('five-shot-real.csv',  sep='\\t')\n",
        "five_shot_fake = pd.read_csv('five-shot-fake.csv',  sep='\\t')"
      ],
      "metadata": {
        "id": "BNHdBsf7pJpp"
      },
      "execution_count": 3,
      "outputs": []
    },
    {
      "cell_type": "code",
      "source": [
        "#Combine the datasets\n",
        "one_shot = pd.concat([one_shot_real, one_shot_fake])\n",
        "three_shot = pd.concat([three_shot_real, three_shot_fake])\n",
        "five_shot = pd.concat([five_shot_real, five_shot_fake])"
      ],
      "metadata": {
        "id": "2y9Dlr1MpSPr"
      },
      "execution_count": 4,
      "outputs": []
    },
    {
      "cell_type": "code",
      "source": [
        "one_shot['Authenticity'] = [0, 0, 0, 0, 0, 1, 1, 1 ,1, 1]\n",
        "three_shot['Authenticity'] = [0, 0, 0, 0, 0, 0, 0, 0, 0, 0, 0, 0, 0, 0, 0, 1, 1, 1 ,1, 1, 1, 1, 1 ,1, 1, 1, 1, 1 ,1, 1]\n",
        "five_shot['Authenticity'] = [0, 0, 0, 0, 0, 0, 0, 0, 0, 0, 0, 0, 0, 0, 0, 0, 0, 0, 0, 0, 0, 0, 0, 0, 0, 1, 1, 1 ,1, 1, 1, 1, 1 ,1, 1, 1, 1, 1 ,1, 1, 1, 1, 1 ,1, 1, 1, 1, 1 ,1, 1]"
      ],
      "metadata": {
        "id": "keJNP-RhpUvH"
      },
      "execution_count": 5,
      "outputs": []
    },
    {
      "cell_type": "code",
      "source": [
        "#Take 10% of the original dataset for testing\n",
        "os.chdir('/content/drive/My Drive')\n",
        "news_df = pd.read_csv(filepath_or_buffer='news.csv')\n",
        "X = news_df['News']\n",
        "y = news_df['Authenticity']\n",
        "xtrain, xtest, ytrain, ytest = train_test_split(X, y, stratify=y, random_state=42, test_size=0.1,)"
      ],
      "metadata": {
        "id": "6EBUBhfErBDy"
      },
      "execution_count": 6,
      "outputs": []
    },
    {
      "cell_type": "code",
      "source": [
        "xtest.shape"
      ],
      "metadata": {
        "colab": {
          "base_uri": "https://localhost:8080/"
        },
        "id": "7gEp8c-krded",
        "outputId": "50511a4a-610e-4624-eba4-cd8a22bf7198"
      },
      "execution_count": 7,
      "outputs": [
        {
          "output_type": "execute_result",
          "data": {
            "text/plain": [
              "(523,)"
            ]
          },
          "metadata": {},
          "execution_count": 7
        }
      ]
    },
    {
      "cell_type": "code",
      "source": [
        "xtest.reset_index(inplace = True, drop = True)"
      ],
      "metadata": {
        "id": "xr1bNRrErWGg"
      },
      "execution_count": 8,
      "outputs": []
    },
    {
      "cell_type": "code",
      "source": [
        "xtest.shape"
      ],
      "metadata": {
        "colab": {
          "base_uri": "https://localhost:8080/"
        },
        "id": "zdVwVLSCremY",
        "outputId": "ac2fcf7d-347d-4fc9-de1c-dd3f9eaa117b"
      },
      "execution_count": 9,
      "outputs": [
        {
          "output_type": "execute_result",
          "data": {
            "text/plain": [
              "(523,)"
            ]
          },
          "metadata": {},
          "execution_count": 9
        }
      ]
    },
    {
      "cell_type": "code",
      "source": [
        "!pip install git+https://github.com/pmbaumgartner/setfit -q"
      ],
      "metadata": {
        "colab": {
          "base_uri": "https://localhost:8080/"
        },
        "id": "0M6REyKqpW6c",
        "outputId": "08c234f5-2f36-46a8-8544-c3c1776938dc"
      },
      "execution_count": 10,
      "outputs": [
        {
          "output_type": "stream",
          "name": "stdout",
          "text": [
            "  Installing build dependencies ... \u001b[?25l\u001b[?25hdone\n",
            "  Getting requirements to build wheel ... \u001b[?25l\u001b[?25hdone\n",
            "    Preparing wheel metadata ... \u001b[?25l\u001b[?25hdone\n"
          ]
        }
      ]
    },
    {
      "cell_type": "code",
      "source": [
        "from setfit import SetFitClassifier"
      ],
      "metadata": {
        "id": "uRG0wdpdpgcC"
      },
      "execution_count": 11,
      "outputs": []
    },
    {
      "cell_type": "markdown",
      "source": [
        "### One-Shot dataset\n"
      ],
      "metadata": {
        "id": "UiZQrZuwpq_a"
      }
    },
    {
      "cell_type": "code",
      "source": [
        "#Uses a sentence-transformer model\n",
        "clf_one = SetFitClassifier(\"paraphrase-MiniLM-L3-v2\")"
      ],
      "metadata": {
        "id": "l1kife-fplGo"
      },
      "execution_count": 12,
      "outputs": []
    },
    {
      "cell_type": "code",
      "source": [
        "one_shot.reset_index(inplace = True, drop = True)"
      ],
      "metadata": {
        "id": "92G_g9ytqtWN"
      },
      "execution_count": 13,
      "outputs": []
    },
    {
      "cell_type": "code",
      "source": [
        "headlines = one_shot['News']\n",
        "labels = one_shot['Authenticity']\n",
        "headlines"
      ],
      "metadata": {
        "colab": {
          "base_uri": "https://localhost:8080/"
        },
        "id": "yh9phalepoBX",
        "outputId": "de4154e1-0358-4b18-d7c7-ca23eab6368b"
      },
      "execution_count": 14,
      "outputs": [
        {
          "output_type": "execute_result",
          "data": {
            "text/plain": [
              "0                                 நடிகர் ஜெயம் ரவிக்கு\n",
              "1         ‘கடவுளின் கை’களைப் பற்றிய கால்பந்துக் கடவுள்\n",
              "2     பள்ளி பேருந்துகளில் கேமரா கட்டாயம்: தமிழக அரச...\n",
              "3     36-வது தேசிய விளையாட்டு | ஒரே நாளில் தமிழகத்த...\n",
              "4     நாய்ஸ்ஃபிட் கோர் 2 ஸ்மார்ட்வாட்ச் அறிமுகம்: 5...\n",
              "5    டேனியல் ராட்கிளிஃப் கொரோனா வைரஸால் பாதிக்கப்பட...\n",
              "6                    COVID-19 வைரஸ் \"இல்லை\" என்கிறார்.\n",
              "7    அமெரிக்க அதிபர் டொனால்ட் டிரம்ப், “இதுவரை இறக்...\n",
              "8    Kieron Pollard நல்லாதான் இருக்காரு: Viral ஆன ‘...\n",
              "9    PIB fact check: 5 ஜி கதிர்வீச்சுக்கும் COVID-1...\n",
              "Name: News, dtype: object"
            ]
          },
          "metadata": {},
          "execution_count": 14
        }
      ]
    },
    {
      "cell_type": "code",
      "source": [
        "clf_one.fit(headlines, labels) "
      ],
      "metadata": {
        "colab": {
          "base_uri": "https://localhost:8080/",
          "height": 81,
          "referenced_widgets": [
            "e9442afea5474dd89044b3de36c5d7c7",
            "0151ce62dc5744b1bddce02cf40329d9",
            "2188aa99a7e142b39062342afa43b42a",
            "dfacf679b1b841e5bfb53cc2ac017cd4",
            "9bc19a49cd954dd589d4bcbe5fcea87e",
            "985f500e9dee4af3b3b19e1e0a409abc",
            "8f9354a11f5a4a7bb48889bdc50f4f2d",
            "a97c86104ad84295941e73b7debdf1ba",
            "321cd12fab0943788ed253ede7235e93",
            "9dba50077a4d4914944d550b6f0a5c71",
            "d230f628912b465eb9bfaa080a98cacd",
            "689d172ccae64da38849384f73c02973",
            "0e65079b7df846f695c94766f7d9b5d5",
            "ff95fad482974cc5b9e483cec9931d5d",
            "1e2dc236c7134aaeb4a5dde5c3a5a558",
            "283fa8fbaff745789aa6b9fc5d80a003",
            "1d9d542b8321493197b60ccfbbd87b73",
            "5fc44cfd9c604b23a4d2becc79f388e0",
            "d6e6f6bf8aeb475abf3930a19daf7458",
            "cc493a4e018343daa0d588750bc111b3",
            "9531006c35fc4c608a4099600c69f30b",
            "1c54007f96584683a14b179346bc5dfd"
          ]
        },
        "id": "yaJry7rSqcLX",
        "outputId": "d464648d-a1e1-452f-a42c-725259eea4d3"
      },
      "execution_count": 15,
      "outputs": [
        {
          "output_type": "display_data",
          "data": {
            "text/plain": [
              "Epoch:   0%|          | 0/1 [00:00<?, ?it/s]"
            ],
            "application/vnd.jupyter.widget-view+json": {
              "version_major": 2,
              "version_minor": 0,
              "model_id": "e9442afea5474dd89044b3de36c5d7c7"
            }
          },
          "metadata": {}
        },
        {
          "output_type": "display_data",
          "data": {
            "text/plain": [
              "Iteration:   0%|          | 0/7 [00:00<?, ?it/s]"
            ],
            "application/vnd.jupyter.widget-view+json": {
              "version_major": 2,
              "version_minor": 0,
              "model_id": "689d172ccae64da38849384f73c02973"
            }
          },
          "metadata": {}
        }
      ]
    },
    {
      "cell_type": "code",
      "source": [
        "predictions = clf_one.predict(xtest)"
      ],
      "metadata": {
        "id": "76pDNlr9sa9R"
      },
      "execution_count": 16,
      "outputs": []
    },
    {
      "cell_type": "code",
      "source": [
        "accuracy = sklearn.metrics.accuracy_score(predictions,ytest)\n",
        "accuracy"
      ],
      "metadata": {
        "colab": {
          "base_uri": "https://localhost:8080/"
        },
        "id": "dKFwQuwvrrTE",
        "outputId": "b65b0a86-f4c7-42f1-ee74-b0a07651977e"
      },
      "execution_count": 17,
      "outputs": [
        {
          "output_type": "execute_result",
          "data": {
            "text/plain": [
              "0.5411089866156787"
            ]
          },
          "metadata": {},
          "execution_count": 17
        }
      ]
    },
    {
      "cell_type": "code",
      "source": [
        "print(classification_report(predictions, ytest))"
      ],
      "metadata": {
        "colab": {
          "base_uri": "https://localhost:8080/"
        },
        "id": "fp4gsQ8Arvep",
        "outputId": "8f03a5b3-8eb7-4cfd-dc76-eb9d2a4b95e0"
      },
      "execution_count": 18,
      "outputs": [
        {
          "output_type": "stream",
          "name": "stdout",
          "text": [
            "              precision    recall  f1-score   support\n",
            "\n",
            "           0       0.67      0.49      0.56       317\n",
            "           1       0.44      0.62      0.52       206\n",
            "\n",
            "    accuracy                           0.54       523\n",
            "   macro avg       0.55      0.56      0.54       523\n",
            "weighted avg       0.58      0.54      0.54       523\n",
            "\n"
          ]
        }
      ]
    },
    {
      "cell_type": "markdown",
      "source": [
        "### Three-Shot dataset"
      ],
      "metadata": {
        "id": "HBdfOawmr4M4"
      }
    },
    {
      "cell_type": "code",
      "source": [
        "#Uses a sentence-transformer model\n",
        "clf_three = SetFitClassifier(\"paraphrase-MiniLM-L3-v2\")"
      ],
      "metadata": {
        "id": "XnOdDqXcr5-x"
      },
      "execution_count": 19,
      "outputs": []
    },
    {
      "cell_type": "code",
      "source": [
        "three_shot.reset_index(inplace = True, drop = True)"
      ],
      "metadata": {
        "id": "Wd8CtLoAsIi_"
      },
      "execution_count": 20,
      "outputs": []
    },
    {
      "cell_type": "code",
      "source": [
        "headlines = three_shot['News']\n",
        "labels = three_shot['Authenticity']\n",
        "headlines"
      ],
      "metadata": {
        "colab": {
          "base_uri": "https://localhost:8080/"
        },
        "id": "W3s43PWLsKyN",
        "outputId": "68555ccc-44b8-4b46-f8bf-c606f6fc5c39"
      },
      "execution_count": 21,
      "outputs": [
        {
          "output_type": "execute_result",
          "data": {
            "text/plain": [
              "0                                  நடிகர் ஜெயம் ரவிக்கு\n",
              "1              படங்கள் தோல்வியால் வருந்தும் பூஜா ஹெக்டே\n",
              "2                             தீபாவளிக்கு வரும் படங்கள்\n",
              "3          ‘கடவுளின் கை’களைப் பற்றிய கால்பந்துக் கடவுள்\n",
              "4         இரண்டு குடம் தண்ணீரில் 200 கி.மீ. கார் பயணம்!\n",
              "5      2020 இணைய உலகம்: இந்தியர்கள் யாரைத் தேடினார்கள்?\n",
              "6      பள்ளி பேருந்துகளில் கேமரா கட்டாயம்: தமிழக அரச...\n",
              "7      மத்திய அரசு திட்ட பெயர்களை தமிழில் மொழிபெயர்க...\n",
              "8      இந்தியாவில் ‘ஏகே 203’ துப்பாக்கிகள் தயாரிப்பை...\n",
              "9      36-வது தேசிய விளையாட்டு | ஒரே நாளில் தமிழகத்த...\n",
              "10     டி20 உலகக் கோப்பை | பும்ரா இன்னும் வெளியேறவில...\n",
              "11     சூர்யகுமார் யாதவ் கரியருக்கு கேகேஆர் அணியில்த...\n",
              "12     நாய்ஸ்ஃபிட் கோர் 2 ஸ்மார்ட்வாட்ச் அறிமுகம்: 5...\n",
              "13     பிக்சல் போனில் 'ஆண்ட்ராய்டு 13' வெர்ஷனை வெளிய...\n",
              "14     புதிய பிரைவசி அம்சங்களை அறிமுகம் செய்த வாட்ஸ்...\n",
              "15    டேனியல் ராட்கிளிஃப் கொரோனா வைரஸால் பாதிக்கப்பட...\n",
              "16    கோபி பிரையன்ட்டின் மனைவி \"இன்று காலை மனச்சோர்வ...\n",
              "17    பில் காஸ்பி என்பிசியை வாங்குவதைத் தடுப்பதற்காக...\n",
              "18                    COVID-19 வைரஸ் \"இல்லை\" என்கிறார்.\n",
              "19    ஒரு மால் சாண்டா ஒரு குழந்தை துஷ்பிரயோகம் செய்ப...\n",
              "20    \"14,000 கைவிடப்பட்ட காற்றாலை விசையாழிகள் அமெரி...\n",
              "21    அமெரிக்க அதிபர் டொனால்ட் டிரம்ப், “இதுவரை இறக்...\n",
              "22    கென் குசினெல்லி மாநில அரசாங்கத்தை \"மூட முயற்சி...\n",
              "23    Obamacare \"அமெரிக்காவில் வசிப்பவர்கள் அல்லாத அ...\n",
              "24    Kieron Pollard நல்லாதான் இருக்காரு: Viral ஆன ‘...\n",
              "25                  ிரிக்கெட் வீரர் நடராஜனின் வீடா இது?\n",
              "26    \"உலகக் கோப்பை இறுதிப் போட்டியில் தங்கள் ஆண்கள்...\n",
              "27    PIB fact check: 5 ஜி கதிர்வீச்சுக்கும் COVID-1...\n",
              "28    \"புவி வெப்பமடைதலின் அளவை மிகைப்படுத்த 1998 ஆம்...\n",
              "29    \"சோலார் பேனல்கள் சூரியனின் ஆற்றலை வெளியேற்றுகி...\n",
              "Name: News, dtype: object"
            ]
          },
          "metadata": {},
          "execution_count": 21
        }
      ]
    },
    {
      "cell_type": "code",
      "source": [
        "clf_three.fit(headlines, labels) "
      ],
      "metadata": {
        "colab": {
          "base_uri": "https://localhost:8080/",
          "height": 81,
          "referenced_widgets": [
            "2698f24b38234f44a4be74173ecff0c0",
            "01bdc28af45849dfb928229a9fbee658",
            "2a115a427d0249f8a702c54146a14a15",
            "ad7a6ba04ea5440087567dbd52b2787d",
            "ef0c37d5c12045b29fa96d22c0972e4b",
            "67b0071d8fcc4ceb80b661b4dd8c20e9",
            "f9c8a0af83494d48ae2e010f0144a9c3",
            "6eb740c72eab4eb9890da08ce069849d",
            "45166166fed84300a0b7d1683e66a5ef",
            "36805af6b29144978bcd97c7a97fa7d6",
            "68ca4fc2a3fd4d6dbceeebc1a5dc7e10",
            "648a2761ddec438d9aef8a3aa9b28a1e",
            "f4ff795df5bb43ecbf7e4a49460bf997",
            "ef3023cd87724d9599f5eb5f0215fafc",
            "730db9bd5a494b8b8d5ad431304b6d5f",
            "9bac040442c84f688ca942871129a1f2",
            "0763f41dde8a4530b8409d97bab68407",
            "14c8946daed8447491a301ed284f573e",
            "d9e899e01a534129ac346146a950ff46",
            "84f77f89d34d4298bcb3dd4efe15aad8",
            "1794a26be233442d8bf2ed97ff2d1bb3",
            "b734b32aebb9465dab7d4200923c999c"
          ]
        },
        "id": "E6A9ihS1sOXU",
        "outputId": "bac9df86-0169-486c-ed21-6968743373aa"
      },
      "execution_count": 22,
      "outputs": [
        {
          "output_type": "display_data",
          "data": {
            "text/plain": [
              "Epoch:   0%|          | 0/1 [00:00<?, ?it/s]"
            ],
            "application/vnd.jupyter.widget-view+json": {
              "version_major": 2,
              "version_minor": 0,
              "model_id": "2698f24b38234f44a4be74173ecff0c0"
            }
          },
          "metadata": {}
        },
        {
          "output_type": "display_data",
          "data": {
            "text/plain": [
              "Iteration:   0%|          | 0/19 [00:00<?, ?it/s]"
            ],
            "application/vnd.jupyter.widget-view+json": {
              "version_major": 2,
              "version_minor": 0,
              "model_id": "648a2761ddec438d9aef8a3aa9b28a1e"
            }
          },
          "metadata": {}
        }
      ]
    },
    {
      "cell_type": "code",
      "source": [
        "predictions = clf_three.predict(xtest)"
      ],
      "metadata": {
        "id": "mqbiid0-sSJS"
      },
      "execution_count": 23,
      "outputs": []
    },
    {
      "cell_type": "code",
      "source": [
        "accuracy = sklearn.metrics.accuracy_score(predictions,ytest)\n",
        "accuracy"
      ],
      "metadata": {
        "colab": {
          "base_uri": "https://localhost:8080/"
        },
        "id": "Rd8mprFCslKE",
        "outputId": "82874fbc-f395-43aa-8a80-8db669499afd"
      },
      "execution_count": 24,
      "outputs": [
        {
          "output_type": "execute_result",
          "data": {
            "text/plain": [
              "0.7017208413001912"
            ]
          },
          "metadata": {},
          "execution_count": 24
        }
      ]
    },
    {
      "cell_type": "code",
      "source": [
        "print(classification_report(predictions, ytest))"
      ],
      "metadata": {
        "colab": {
          "base_uri": "https://localhost:8080/"
        },
        "id": "80UVGYDjsmRN",
        "outputId": "d4714498-df7d-4da7-93d5-b3d76b354002"
      },
      "execution_count": 25,
      "outputs": [
        {
          "output_type": "stream",
          "name": "stdout",
          "text": [
            "              precision    recall  f1-score   support\n",
            "\n",
            "           0       0.67      0.66      0.67       235\n",
            "           1       0.73      0.73      0.73       288\n",
            "\n",
            "    accuracy                           0.70       523\n",
            "   macro avg       0.70      0.70      0.70       523\n",
            "weighted avg       0.70      0.70      0.70       523\n",
            "\n"
          ]
        }
      ]
    },
    {
      "cell_type": "markdown",
      "source": [
        "### Five-Shot dataset"
      ],
      "metadata": {
        "id": "0PXXyJsl0G9q"
      }
    },
    {
      "cell_type": "code",
      "source": [
        "#Uses a sentence-transformer model\n",
        "clf_five = SetFitClassifier(\"paraphrase-MiniLM-L3-v2\")"
      ],
      "metadata": {
        "id": "3VLDpYostcKE"
      },
      "execution_count": 27,
      "outputs": []
    },
    {
      "cell_type": "code",
      "source": [
        "five_shot.reset_index(inplace = True, drop = True)"
      ],
      "metadata": {
        "id": "qJvZ4Mlc0Ly_"
      },
      "execution_count": 28,
      "outputs": []
    },
    {
      "cell_type": "code",
      "source": [
        "headlines = five_shot['News']\n",
        "labels = five_shot['Authenticity']\n",
        "headlines"
      ],
      "metadata": {
        "colab": {
          "base_uri": "https://localhost:8080/"
        },
        "id": "cnzztqRB0Omr",
        "outputId": "5c64e06c-e2a8-484a-bceb-3a323b2e5879"
      },
      "execution_count": 29,
      "outputs": [
        {
          "output_type": "execute_result",
          "data": {
            "text/plain": [
              "0                                  நடிகர் ஜெயம் ரவிக்கு\n",
              "1              படங்கள் தோல்வியால் வருந்தும் பூஜா ஹெக்டே\n",
              "2                             தீபாவளிக்கு வரும் படங்கள்\n",
              "3                    பாலிவுட்டில் அறிமுகமாகிறார் சிம்பு\n",
              "4               'பிரின்ஸ்' படத்தின் 3வது பாடல் வெளியீடு\n",
              "5          ‘கடவுளின் கை’களைப் பற்றிய கால்பந்துக் கடவுள்\n",
              "6         இரண்டு குடம் தண்ணீரில் 200 கி.மீ. கார் பயணம்!\n",
              "7      2020 இணைய உலகம்: இந்தியர்கள் யாரைத் தேடினார்கள்?\n",
              "8            சமூக ஊடகத்தில் அதிகம் புழங்குபவரா நீங்கள்?\n",
              "9                   வைரல் உலா: பிளாஸ்டிக்கில் கோட்சூட்!\n",
              "10     பள்ளி பேருந்துகளில் கேமரா கட்டாயம்: தமிழக அரச...\n",
              "11     மத்திய அரசு திட்ட பெயர்களை தமிழில் மொழிபெயர்க...\n",
              "12     இந்தியாவில் ‘ஏகே 203’ துப்பாக்கிகள் தயாரிப்பை...\n",
              "13     தொழிலதிபரை கடத்தி சொத்துகளை எழுதி வாங்கியதாக ...\n",
              "14     இந்தி திணிப்புக்கு எதிராக மிகப்பெரிய போராட்ட...\n",
              "15     36-வது தேசிய விளையாட்டு | ஒரே நாளில் தமிழகத்த...\n",
              "16     டி20 உலகக் கோப்பை | பும்ரா இன்னும் வெளியேறவில...\n",
              "17     சூர்யகுமார் யாதவ் கரியருக்கு கேகேஆர் அணியில்த...\n",
              "18     IND vs  PAK | அரை சதம் விளாசிய கோலி: பாகிஸ்தா...\n",
              "19     இந்திய விளையாட்டுத் துறையின் ஏற்றத்துக்கு ஊக்...\n",
              "20     நாய்ஸ்ஃபிட் கோர் 2 ஸ்மார்ட்வாட்ச் அறிமுகம்: 5...\n",
              "21     பிக்சல் போனில் 'ஆண்ட்ராய்டு 13' வெர்ஷனை வெளிய...\n",
              "22     புதிய பிரைவசி அம்சங்களை அறிமுகம் செய்த வாட்ஸ்...\n",
              "23     ஸ்ரீபெரும்புதூரில் ‘ஐபோன் 13’ உற்பத்தியை தொடங...\n",
              "24     ஓட்டுநர்கள் கண்ணயர்ந்தால் எச்சரிக்கும் கருவி:...\n",
              "25    டேனியல் ராட்கிளிஃப் கொரோனா வைரஸால் பாதிக்கப்பட...\n",
              "26    கோபி பிரையன்ட்டின் மனைவி \"இன்று காலை மனச்சோர்வ...\n",
              "27    பில் காஸ்பி என்பிசியை வாங்குவதைத் தடுப்பதற்காக...\n",
              "28    தலை துண்டிக்கப்பட்ட ஐந்து மனிதத் தலைகளுக்கு மு...\n",
              "29    \"ஒரு ஆண் பூனை ஐந்து ஆண்டுகளில் 420,000 பூனைக்க...\n",
              "30                    COVID-19 வைரஸ் \"இல்லை\" என்கிறார்.\n",
              "31    ஒரு மால் சாண்டா ஒரு குழந்தை துஷ்பிரயோகம் செய்ப...\n",
              "32    \"14,000 கைவிடப்பட்ட காற்றாலை விசையாழிகள் அமெரி...\n",
              "33    \"பராக் ஹுசைன் ஒபாமா ... வாடகை குழந்தைகளை வாங்க...\n",
              "34    \"PB&J சாண்ட்விச்களை இனவெறியாகக் கருத போர்ட்லேண...\n",
              "35    அமெரிக்க அதிபர் டொனால்ட் டிரம்ப், “இதுவரை இறக்...\n",
              "36    கென் குசினெல்லி மாநில அரசாங்கத்தை \"மூட முயற்சி...\n",
              "37    Obamacare \"அமெரிக்காவில் வசிப்பவர்கள் அல்லாத அ...\n",
              "38    பால் ரியானின் பட்ஜெட் திட்டம் \"மருத்துவக் காப்...\n",
              "39    அவர்கள் குடியரசுக் கட்சியின் லெப்டினன்ட் கவர்ன...\n",
              "40    Kieron Pollard நல்லாதான் இருக்காரு: Viral ஆன ‘...\n",
              "41                  ிரிக்கெட் வீரர் நடராஜனின் வீடா இது?\n",
              "42    \"உலகக் கோப்பை இறுதிப் போட்டியில் தங்கள் ஆண்கள்...\n",
              "43    PIB fact check: 5 ஜி கதிர்வீச்சுக்கும் COVID-1...\n",
              "44    \"கொலராடோ ராக்கீஸ் பேஸ்பால் குழு மரிஜுவானா பிரவ...\n",
              "45    ரஷ்யா-பின்லாந்து ஹாக்கி விளையாட்டின் புகைப்படம...\n",
              "46    \"புவி வெப்பமடைதலின் அளவை மிகைப்படுத்த 1998 ஆம்...\n",
              "47    \"சோலார் பேனல்கள் சூரியனின் ஆற்றலை வெளியேற்றுகி...\n",
              "48                              \"பூமி வெப்பமடையவில்லை.\"\n",
              "49    அவரது \"அல்ட்ராசவுண்டில் காப்புரிமை நவீன மருத்த...\n",
              "Name: News, dtype: object"
            ]
          },
          "metadata": {},
          "execution_count": 29
        }
      ]
    },
    {
      "cell_type": "code",
      "source": [
        "clf_five.fit(headlines, labels) "
      ],
      "metadata": {
        "colab": {
          "base_uri": "https://localhost:8080/",
          "height": 81,
          "referenced_widgets": [
            "82bfd96a81684d83b2590c6905e68b5c",
            "d3c29e25515f457b8611b9dd76334072",
            "39263b573c204a94ae766a98b45e3aeb",
            "1745223e545e489eb6a504d5a6064761",
            "fde63457e60e45749147af077b885583",
            "0a43a34ccb27465bb02d45b43932f7bb",
            "e002adbccdaf462faa3d4f41e9c3c949",
            "706a2b3cb87247a58ae06d5a60f09045",
            "489560b78be84838aacda762b0f1a0e9",
            "08172f51015246fab1b63fda7f662bbe",
            "8d84a06b6157413b86802ea0f5c6ed2b",
            "60f8375698cf4d0490720dc73df2b3d6",
            "64664ce61eb2428ea1eb9a82ed9f12a8",
            "a08f538300fa4e009361562a2e8fd8a3",
            "cd8a6c90eee0425387975819d54d01ca",
            "01c7224f85ce4878882d8f772e13cf66",
            "08303b7964b64ddaa8f7378668932258",
            "f1a3e68e5c054f0382557a004df33ca7",
            "4acafd2a86ca4268bfab9172fd1faaf6",
            "788b03a1234541b598e05f53d8221627",
            "cc0bec9dad9a4ca29592291f8c16ae44",
            "59dd2d9e39264c189e1725c74701fae5"
          ]
        },
        "id": "zSKkwVfA0VYY",
        "outputId": "b4980560-b00c-4b5f-ebe3-c508d109df9d"
      },
      "execution_count": 30,
      "outputs": [
        {
          "output_type": "display_data",
          "data": {
            "text/plain": [
              "Epoch:   0%|          | 0/1 [00:00<?, ?it/s]"
            ],
            "application/vnd.jupyter.widget-view+json": {
              "version_major": 2,
              "version_minor": 0,
              "model_id": "82bfd96a81684d83b2590c6905e68b5c"
            }
          },
          "metadata": {}
        },
        {
          "output_type": "display_data",
          "data": {
            "text/plain": [
              "Iteration:   0%|          | 0/32 [00:00<?, ?it/s]"
            ],
            "application/vnd.jupyter.widget-view+json": {
              "version_major": 2,
              "version_minor": 0,
              "model_id": "60f8375698cf4d0490720dc73df2b3d6"
            }
          },
          "metadata": {}
        }
      ]
    },
    {
      "cell_type": "code",
      "source": [
        "predictions = clf_five.predict(xtest)"
      ],
      "metadata": {
        "id": "Zu2NxLv20WkR"
      },
      "execution_count": 31,
      "outputs": []
    },
    {
      "cell_type": "code",
      "source": [
        "accuracy = sklearn.metrics.accuracy_score(predictions,ytest)\n",
        "accuracy"
      ],
      "metadata": {
        "colab": {
          "base_uri": "https://localhost:8080/"
        },
        "id": "zlLT4fAH0XFM",
        "outputId": "0d821a27-6ee4-4101-a7fa-2e9ade7e7a76"
      },
      "execution_count": 32,
      "outputs": [
        {
          "output_type": "execute_result",
          "data": {
            "text/plain": [
              "0.8240917782026769"
            ]
          },
          "metadata": {},
          "execution_count": 32
        }
      ]
    },
    {
      "cell_type": "code",
      "source": [
        "print(classification_report(predictions, ytest))"
      ],
      "metadata": {
        "colab": {
          "base_uri": "https://localhost:8080/"
        },
        "id": "uqT1oJ4t0XUM",
        "outputId": "737bcbf3-abdc-4f1c-967f-0ed9945448a7"
      },
      "execution_count": 33,
      "outputs": [
        {
          "output_type": "stream",
          "name": "stdout",
          "text": [
            "              precision    recall  f1-score   support\n",
            "\n",
            "           0       0.79      0.81      0.80       227\n",
            "           1       0.85      0.83      0.84       296\n",
            "\n",
            "    accuracy                           0.82       523\n",
            "   macro avg       0.82      0.82      0.82       523\n",
            "weighted avg       0.82      0.82      0.82       523\n",
            "\n"
          ]
        }
      ]
    }
  ]
}