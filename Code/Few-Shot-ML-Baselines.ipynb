{
  "nbformat": 4,
  "nbformat_minor": 0,
  "metadata": {
    "colab": {
      "provenance": []
    },
    "kernelspec": {
      "name": "python3",
      "display_name": "Python 3"
    },
    "language_info": {
      "name": "python"
    }
  },
  "cells": [
    {
      "cell_type": "code",
      "execution_count": 19,
      "metadata": {
        "id": "RDEbgDp7Y0dY"
      },
      "outputs": [],
      "source": [
        "#Imports\n",
        "import os\n",
        "import re\n",
        "import pandas as pd\n",
        "import numpy as np\n",
        "import nltk\n",
        "from nltk.corpus import stopwords\n",
        "import sklearn\n",
        "from sklearn.feature_extraction.text import CountVectorizer, TfidfVectorizer\n",
        "from sklearn.model_selection import train_test_split\n",
        "from sklearn.linear_model import LogisticRegression\n",
        "from sklearn.naive_bayes import MultinomialNB\n",
        "import xgboost as xgb\n",
        "from sklearn.svm import SVC\n",
        "from sklearn.metrics import classification_report,confusion_matrix\n",
        "import seaborn as sns\n",
        "import matplotlib.pyplot as plt\n",
        "import tensorflow as tf\n",
        "from google.colab import drive"
      ]
    },
    {
      "cell_type": "code",
      "source": [
        "#Mount and access drive\n",
        "drive.mount('/content/drive',force_remount=True)\n",
        "os.chdir('/content/drive/My Drive/Few-Shot-Tamil')\n",
        "print(\"Change successful.\")"
      ],
      "metadata": {
        "colab": {
          "base_uri": "https://localhost:8080/"
        },
        "id": "ZXPCMUROY6Db",
        "outputId": "bafd2a75-16bf-44e9-a009-d5cfc1ca2ac0"
      },
      "execution_count": 2,
      "outputs": [
        {
          "output_type": "stream",
          "name": "stdout",
          "text": [
            "Mounted at /content/drive\n",
            "Change successful.\n"
          ]
        }
      ]
    },
    {
      "cell_type": "code",
      "source": [
        "def tokenize(data):\n",
        "  generated_token = list(data.split())\n",
        "  return generated_token"
      ],
      "metadata": {
        "id": "azVq43IIZQbu"
      },
      "execution_count": 3,
      "outputs": []
    },
    {
      "cell_type": "code",
      "source": [
        "def tamil_preprocessing(dataframe):\n",
        "  #Remove punctuation symbols\n",
        "  dataframe['non_punc'] = dataframe['News'].apply(lambda x: re.sub(r'[\\'\\\"\\.?!‘]+', '', x.lower()))\n",
        "\n",
        "  #Tokenize the sentences\n",
        "  dataframe['tamil_tokenized_text'] = dataframe['non_punc'].apply(lambda x: tokenize(x))"
      ],
      "metadata": {
        "id": "Z4Iv6aGOY7rL"
      },
      "execution_count": 4,
      "outputs": []
    },
    {
      "cell_type": "code",
      "source": [
        "#Apply TF-IDF\n",
        "def tfidf(data):\n",
        "    tfidf_vectorizer = TfidfVectorizer()\n",
        "    train = tfidf_vectorizer.fit_transform(data)\n",
        "    return train, tfidf_vectorizer"
      ],
      "metadata": {
        "id": "36-7Zn6lZJhF"
      },
      "execution_count": 5,
      "outputs": []
    },
    {
      "cell_type": "code",
      "source": [
        "#Load the datasets\n",
        "one_shot_real = pd.read_csv('one-shot-real.csv',  sep='\\t')\n",
        "one_shot_fake = pd.read_csv('one-shot-fake.csv',  sep='\\t')\n",
        "three_shot_real = pd.read_csv('three-shot-real.csv',  sep='\\t')\n",
        "three_shot_fake = pd.read_csv('three-shot-fake.csv',  sep='\\t')\n",
        "five_shot_real = pd.read_csv('five-shot-real.csv',  sep='\\t')\n",
        "five_shot_fake = pd.read_csv('five-shot-fake.csv',  sep='\\t')"
      ],
      "metadata": {
        "id": "m5bi8gODZMpD"
      },
      "execution_count": 6,
      "outputs": []
    },
    {
      "cell_type": "code",
      "source": [
        "#Combine the datasets\n",
        "one_shot = pd.concat([one_shot_real, one_shot_fake])\n",
        "three_shot = pd.concat([three_shot_real, three_shot_fake])\n",
        "five_shot = pd.concat([five_shot_real, five_shot_fake])"
      ],
      "metadata": {
        "id": "um5vFyn8ZizD"
      },
      "execution_count": 7,
      "outputs": []
    },
    {
      "cell_type": "code",
      "source": [
        "one_shot['Authenticity'] = [0, 0, 0, 0, 0, 1, 1, 1 ,1, 1]\n",
        "three_shot['Authenticity'] = [0, 0, 0, 0, 0, 0, 0, 0, 0, 0, 0, 0, 0, 0, 0, 1, 1, 1 ,1, 1, 1, 1, 1 ,1, 1, 1, 1, 1 ,1, 1]\n",
        "five_shot['Authenticity'] = [0, 0, 0, 0, 0, 0, 0, 0, 0, 0, 0, 0, 0, 0, 0, 0, 0, 0, 0, 0, 0, 0, 0, 0, 0, 1, 1, 1 ,1, 1, 1, 1, 1 ,1, 1, 1, 1, 1 ,1, 1, 1, 1, 1 ,1, 1, 1, 1, 1 ,1, 1]"
      ],
      "metadata": {
        "id": "U505zsuUerc2"
      },
      "execution_count": 8,
      "outputs": []
    },
    {
      "cell_type": "code",
      "source": [
        "#Change the label names\n",
        "one_shot['Label'] = one_shot['Label'].apply(lambda x: re.sub('[^a-zA-Z]+', '', str(x)))\n",
        "one_shot['Label'].unique()"
      ],
      "metadata": {
        "colab": {
          "base_uri": "https://localhost:8080/"
        },
        "id": "etCEw6YMZ1Tv",
        "outputId": "eb12d0ff-07fc-4890-cbc2-0e23f6018254"
      },
      "execution_count": 9,
      "outputs": [
        {
          "output_type": "execute_result",
          "data": {
            "text/plain": [
              "array(['entertainment', 'miscellaneous', 'politics', 'sport', 'tech'],\n",
              "      dtype=object)"
            ]
          },
          "metadata": {},
          "execution_count": 9
        }
      ]
    },
    {
      "cell_type": "code",
      "source": [
        "#Change the label names\n",
        "three_shot['Label'] = three_shot['Label'].apply(lambda x: re.sub('[^a-zA-Z]+', '', str(x)))\n",
        "three_shot['Label'].unique()"
      ],
      "metadata": {
        "colab": {
          "base_uri": "https://localhost:8080/"
        },
        "id": "TA_aOA_edxMK",
        "outputId": "4ba155bd-ade9-48be-a154-d546de70e8bc"
      },
      "execution_count": 10,
      "outputs": [
        {
          "output_type": "execute_result",
          "data": {
            "text/plain": [
              "array(['entertainment', 'miscellaneous', 'politics', 'sport', 'tech'],\n",
              "      dtype=object)"
            ]
          },
          "metadata": {},
          "execution_count": 10
        }
      ]
    },
    {
      "cell_type": "code",
      "source": [
        "#Change the label names\n",
        "five_shot['Label'] = five_shot['Label'].apply(lambda x: re.sub('[^a-zA-Z]+', '', str(x)))\n",
        "five_shot['Label'].unique()"
      ],
      "metadata": {
        "colab": {
          "base_uri": "https://localhost:8080/"
        },
        "id": "h30DQmcjdyin",
        "outputId": "1d9979e6-1cb3-429d-a021-fd22d4590029"
      },
      "execution_count": 11,
      "outputs": [
        {
          "output_type": "execute_result",
          "data": {
            "text/plain": [
              "array(['entertainment', 'miscellaneous', 'politics', 'sport', 'tech'],\n",
              "      dtype=object)"
            ]
          },
          "metadata": {},
          "execution_count": 11
        }
      ]
    },
    {
      "cell_type": "code",
      "source": [
        "#Take 10% of the original dataset for testing\n",
        "os.chdir('/content/drive/My Drive')\n",
        "news_df = pd.read_csv(filepath_or_buffer='news.csv')\n",
        "X = news_df['News']\n",
        "y = news_df['Authenticity']\n",
        "xtrain, xtest, ytrain, ytest = train_test_split(X, y, stratify=y, random_state=42, test_size=0.1,)"
      ],
      "metadata": {
        "id": "Oqp405DAd33G"
      },
      "execution_count": 12,
      "outputs": []
    },
    {
      "cell_type": "code",
      "source": [
        "ytest"
      ],
      "metadata": {
        "colab": {
          "base_uri": "https://localhost:8080/"
        },
        "id": "bROhrJ8xeOFh",
        "outputId": "1d72b4c4-862e-4e46-fb5a-e8aa6b6bc30c"
      },
      "execution_count": 13,
      "outputs": [
        {
          "output_type": "execute_result",
          "data": {
            "text/plain": [
              "2451    1\n",
              "870     0\n",
              "455     0\n",
              "5158    1\n",
              "1257    0\n",
              "       ..\n",
              "3884    1\n",
              "2411    1\n",
              "775     0\n",
              "4607    1\n",
              "1863    0\n",
              "Name: Authenticity, Length: 523, dtype: int64"
            ]
          },
          "metadata": {},
          "execution_count": 13
        }
      ]
    },
    {
      "cell_type": "code",
      "source": [
        "ytest.shape"
      ],
      "metadata": {
        "colab": {
          "base_uri": "https://localhost:8080/"
        },
        "id": "-dG4riPCeRkA",
        "outputId": "4ef5b30f-fb55-4526-e196-79ce2363b4f8"
      },
      "execution_count": 14,
      "outputs": [
        {
          "output_type": "execute_result",
          "data": {
            "text/plain": [
              "(523,)"
            ]
          },
          "metadata": {},
          "execution_count": 14
        }
      ]
    },
    {
      "cell_type": "code",
      "source": [
        "#Apply TF-IDF to the dataset\n",
        "tamil_preprocessing(one_shot)\n",
        "one_shot.head()"
      ],
      "metadata": {
        "colab": {
          "base_uri": "https://localhost:8080/",
          "height": 493
        },
        "id": "TLce5dCmeUp_",
        "outputId": "fcbf614b-6a80-4001-80ee-27dd87f26b30"
      },
      "execution_count": 15,
      "outputs": [
        {
          "output_type": "execute_result",
          "data": {
            "text/plain": [
              "                                     English version          Label  \\\n",
              "0                        Actor Jayam Ravi has Corona  entertainment   \n",
              "1            A football god about the 'hands of God'  miscellaneous   \n",
              "2  Cameras mandatory in school buses: Tamil Nadu ...       politics   \n",
              "3  36th National Games | 4 gold medals for Tamil ...          sport   \n",
              "4  Introducing NoiseFit Core 2 Smartwatch: Amazin...           tech   \n",
              "\n",
              "                                                News          Author  \\\n",
              "0                               நடிகர் ஜெயம் ரவிக்கு      தினத்தந்தி   \n",
              "1       ‘கடவுளின் கை’களைப் பற்றிய கால்பந்துக் கடவுள்             ஆதி   \n",
              "2   பள்ளி பேருந்துகளில் கேமரா கட்டாயம்: தமிழக அரச...  செய்திப்பிரிவு   \n",
              "3   36-வது தேசிய விளையாட்டு | ஒரே நாளில் தமிழகத்த...  செய்திப்பிரிவு   \n",
              "4   நாய்ஸ்ஃபிட் கோர் 2 ஸ்மார்ட்வாட்ச் அறிமுகம்: 5...  செய்திப்பிரிவு   \n",
              "\n",
              "               Date                                                URL  \\\n",
              "0  22-10-2022 02:53  https://www.dailythanthi.com/Cinema/CinemaNews...   \n",
              "1         01-Dec-20  https://www.hindutamil.in/news/supplements/ila...   \n",
              "2         21-Oct-22  https://www.hindutamil.in/news/tamilnadu/88576...   \n",
              "3         02-Oct-22  https://www.hindutamil.in/news/sports/877427-3...   \n",
              "4         22-Aug-22  https://www.hindutamil.in/news/technology/8467...   \n",
              "\n",
              "   Authenticity                                           non_punc  \\\n",
              "0             0                               நடிகர் ஜெயம் ரவிக்கு   \n",
              "1             0        கடவுளின் கை’களைப் பற்றிய கால்பந்துக் கடவுள்   \n",
              "2             0   பள்ளி பேருந்துகளில் கேமரா கட்டாயம்: தமிழக அரச...   \n",
              "3             0   36-வது தேசிய விளையாட்டு | ஒரே நாளில் தமிழகத்த...   \n",
              "4             0   நாய்ஸ்ஃபிட் கோர் 2 ஸ்மார்ட்வாட்ச் அறிமுகம்: 5...   \n",
              "\n",
              "                                tamil_tokenized_text  \n",
              "0                           [நடிகர், ஜெயம், ரவிக்கு]  \n",
              "1  [கடவுளின், கை’களைப், பற்றிய, கால்பந்துக், கடவுள்]  \n",
              "2  [பள்ளி, பேருந்துகளில், கேமரா, கட்டாயம்:, தமிழக...  \n",
              "3  [36-வது, தேசிய, விளையாட்டு, |, ஒரே, நாளில், தம...  \n",
              "4  [நாய்ஸ்ஃபிட், கோர், 2, ஸ்மார்ட்வாட்ச், அறிமுகம...  "
            ],
            "text/html": [
              "\n",
              "  <div id=\"df-6564a898-65b7-4bc2-9949-af052c7bc3d3\">\n",
              "    <div class=\"colab-df-container\">\n",
              "      <div>\n",
              "<style scoped>\n",
              "    .dataframe tbody tr th:only-of-type {\n",
              "        vertical-align: middle;\n",
              "    }\n",
              "\n",
              "    .dataframe tbody tr th {\n",
              "        vertical-align: top;\n",
              "    }\n",
              "\n",
              "    .dataframe thead th {\n",
              "        text-align: right;\n",
              "    }\n",
              "</style>\n",
              "<table border=\"1\" class=\"dataframe\">\n",
              "  <thead>\n",
              "    <tr style=\"text-align: right;\">\n",
              "      <th></th>\n",
              "      <th>English version</th>\n",
              "      <th>Label</th>\n",
              "      <th>News</th>\n",
              "      <th>Author</th>\n",
              "      <th>Date</th>\n",
              "      <th>URL</th>\n",
              "      <th>Authenticity</th>\n",
              "      <th>non_punc</th>\n",
              "      <th>tamil_tokenized_text</th>\n",
              "    </tr>\n",
              "  </thead>\n",
              "  <tbody>\n",
              "    <tr>\n",
              "      <th>0</th>\n",
              "      <td>Actor Jayam Ravi has Corona</td>\n",
              "      <td>entertainment</td>\n",
              "      <td>நடிகர் ஜெயம் ரவிக்கு</td>\n",
              "      <td>தினத்தந்தி</td>\n",
              "      <td>22-10-2022 02:53</td>\n",
              "      <td>https://www.dailythanthi.com/Cinema/CinemaNews...</td>\n",
              "      <td>0</td>\n",
              "      <td>நடிகர் ஜெயம் ரவிக்கு</td>\n",
              "      <td>[நடிகர், ஜெயம், ரவிக்கு]</td>\n",
              "    </tr>\n",
              "    <tr>\n",
              "      <th>1</th>\n",
              "      <td>A football god about the 'hands of God'</td>\n",
              "      <td>miscellaneous</td>\n",
              "      <td>‘கடவுளின் கை’களைப் பற்றிய கால்பந்துக் கடவுள்</td>\n",
              "      <td>ஆதி</td>\n",
              "      <td>01-Dec-20</td>\n",
              "      <td>https://www.hindutamil.in/news/supplements/ila...</td>\n",
              "      <td>0</td>\n",
              "      <td>கடவுளின் கை’களைப் பற்றிய கால்பந்துக் கடவுள்</td>\n",
              "      <td>[கடவுளின், கை’களைப், பற்றிய, கால்பந்துக், கடவுள்]</td>\n",
              "    </tr>\n",
              "    <tr>\n",
              "      <th>2</th>\n",
              "      <td>Cameras mandatory in school buses: Tamil Nadu ...</td>\n",
              "      <td>politics</td>\n",
              "      <td>பள்ளி பேருந்துகளில் கேமரா கட்டாயம்: தமிழக அரச...</td>\n",
              "      <td>செய்திப்பிரிவு</td>\n",
              "      <td>21-Oct-22</td>\n",
              "      <td>https://www.hindutamil.in/news/tamilnadu/88576...</td>\n",
              "      <td>0</td>\n",
              "      <td>பள்ளி பேருந்துகளில் கேமரா கட்டாயம்: தமிழக அரச...</td>\n",
              "      <td>[பள்ளி, பேருந்துகளில், கேமரா, கட்டாயம்:, தமிழக...</td>\n",
              "    </tr>\n",
              "    <tr>\n",
              "      <th>3</th>\n",
              "      <td>36th National Games | 4 gold medals for Tamil ...</td>\n",
              "      <td>sport</td>\n",
              "      <td>36-வது தேசிய விளையாட்டு | ஒரே நாளில் தமிழகத்த...</td>\n",
              "      <td>செய்திப்பிரிவு</td>\n",
              "      <td>02-Oct-22</td>\n",
              "      <td>https://www.hindutamil.in/news/sports/877427-3...</td>\n",
              "      <td>0</td>\n",
              "      <td>36-வது தேசிய விளையாட்டு | ஒரே நாளில் தமிழகத்த...</td>\n",
              "      <td>[36-வது, தேசிய, விளையாட்டு, |, ஒரே, நாளில், தம...</td>\n",
              "    </tr>\n",
              "    <tr>\n",
              "      <th>4</th>\n",
              "      <td>Introducing NoiseFit Core 2 Smartwatch: Amazin...</td>\n",
              "      <td>tech</td>\n",
              "      <td>நாய்ஸ்ஃபிட் கோர் 2 ஸ்மார்ட்வாட்ச் அறிமுகம்: 5...</td>\n",
              "      <td>செய்திப்பிரிவு</td>\n",
              "      <td>22-Aug-22</td>\n",
              "      <td>https://www.hindutamil.in/news/technology/8467...</td>\n",
              "      <td>0</td>\n",
              "      <td>நாய்ஸ்ஃபிட் கோர் 2 ஸ்மார்ட்வாட்ச் அறிமுகம்: 5...</td>\n",
              "      <td>[நாய்ஸ்ஃபிட், கோர், 2, ஸ்மார்ட்வாட்ச், அறிமுகம...</td>\n",
              "    </tr>\n",
              "  </tbody>\n",
              "</table>\n",
              "</div>\n",
              "      <button class=\"colab-df-convert\" onclick=\"convertToInteractive('df-6564a898-65b7-4bc2-9949-af052c7bc3d3')\"\n",
              "              title=\"Convert this dataframe to an interactive table.\"\n",
              "              style=\"display:none;\">\n",
              "        \n",
              "  <svg xmlns=\"http://www.w3.org/2000/svg\" height=\"24px\"viewBox=\"0 0 24 24\"\n",
              "       width=\"24px\">\n",
              "    <path d=\"M0 0h24v24H0V0z\" fill=\"none\"/>\n",
              "    <path d=\"M18.56 5.44l.94 2.06.94-2.06 2.06-.94-2.06-.94-.94-2.06-.94 2.06-2.06.94zm-11 1L8.5 8.5l.94-2.06 2.06-.94-2.06-.94L8.5 2.5l-.94 2.06-2.06.94zm10 10l.94 2.06.94-2.06 2.06-.94-2.06-.94-.94-2.06-.94 2.06-2.06.94z\"/><path d=\"M17.41 7.96l-1.37-1.37c-.4-.4-.92-.59-1.43-.59-.52 0-1.04.2-1.43.59L10.3 9.45l-7.72 7.72c-.78.78-.78 2.05 0 2.83L4 21.41c.39.39.9.59 1.41.59.51 0 1.02-.2 1.41-.59l7.78-7.78 2.81-2.81c.8-.78.8-2.07 0-2.86zM5.41 20L4 18.59l7.72-7.72 1.47 1.35L5.41 20z\"/>\n",
              "  </svg>\n",
              "      </button>\n",
              "      \n",
              "  <style>\n",
              "    .colab-df-container {\n",
              "      display:flex;\n",
              "      flex-wrap:wrap;\n",
              "      gap: 12px;\n",
              "    }\n",
              "\n",
              "    .colab-df-convert {\n",
              "      background-color: #E8F0FE;\n",
              "      border: none;\n",
              "      border-radius: 50%;\n",
              "      cursor: pointer;\n",
              "      display: none;\n",
              "      fill: #1967D2;\n",
              "      height: 32px;\n",
              "      padding: 0 0 0 0;\n",
              "      width: 32px;\n",
              "    }\n",
              "\n",
              "    .colab-df-convert:hover {\n",
              "      background-color: #E2EBFA;\n",
              "      box-shadow: 0px 1px 2px rgba(60, 64, 67, 0.3), 0px 1px 3px 1px rgba(60, 64, 67, 0.15);\n",
              "      fill: #174EA6;\n",
              "    }\n",
              "\n",
              "    [theme=dark] .colab-df-convert {\n",
              "      background-color: #3B4455;\n",
              "      fill: #D2E3FC;\n",
              "    }\n",
              "\n",
              "    [theme=dark] .colab-df-convert:hover {\n",
              "      background-color: #434B5C;\n",
              "      box-shadow: 0px 1px 3px 1px rgba(0, 0, 0, 0.15);\n",
              "      filter: drop-shadow(0px 1px 2px rgba(0, 0, 0, 0.3));\n",
              "      fill: #FFFFFF;\n",
              "    }\n",
              "  </style>\n",
              "\n",
              "      <script>\n",
              "        const buttonEl =\n",
              "          document.querySelector('#df-6564a898-65b7-4bc2-9949-af052c7bc3d3 button.colab-df-convert');\n",
              "        buttonEl.style.display =\n",
              "          google.colab.kernel.accessAllowed ? 'block' : 'none';\n",
              "\n",
              "        async function convertToInteractive(key) {\n",
              "          const element = document.querySelector('#df-6564a898-65b7-4bc2-9949-af052c7bc3d3');\n",
              "          const dataTable =\n",
              "            await google.colab.kernel.invokeFunction('convertToInteractive',\n",
              "                                                     [key], {});\n",
              "          if (!dataTable) return;\n",
              "\n",
              "          const docLinkHtml = 'Like what you see? Visit the ' +\n",
              "            '<a target=\"_blank\" href=https://colab.research.google.com/notebooks/data_table.ipynb>data table notebook</a>'\n",
              "            + ' to learn more about interactive tables.';\n",
              "          element.innerHTML = '';\n",
              "          dataTable['output_type'] = 'display_data';\n",
              "          await google.colab.output.renderOutput(dataTable, element);\n",
              "          const docLink = document.createElement('div');\n",
              "          docLink.innerHTML = docLinkHtml;\n",
              "          element.appendChild(docLink);\n",
              "        }\n",
              "      </script>\n",
              "    </div>\n",
              "  </div>\n",
              "  "
            ]
          },
          "metadata": {},
          "execution_count": 15
        }
      ]
    },
    {
      "cell_type": "markdown",
      "source": [
        "### One-Shot dataset"
      ],
      "metadata": {
        "id": "eoE-GztLhC9b"
      }
    },
    {
      "cell_type": "code",
      "source": [
        "one_shot['clean'] = one_shot['tamil_tokenized_text'].apply(lambda x: ' '.join(x))"
      ],
      "metadata": {
        "id": "oYLdVwFnhVR3"
      },
      "execution_count": 23,
      "outputs": []
    },
    {
      "cell_type": "code",
      "source": [
        "one_shot_x, tfidf_vectorizer = tfidf(one_shot['clean'])\n",
        "one_shot_test = tfidf_vectorizer.transform(xtest)"
      ],
      "metadata": {
        "id": "d7AO8vdFeg3E"
      },
      "execution_count": 24,
      "outputs": []
    },
    {
      "cell_type": "code",
      "source": [
        "#Run the machine learning models for one-shot\n",
        "#Logistic Regression with TF-IDF\n",
        "clf = LogisticRegression(C=1.0)\n",
        "clf.fit(one_shot_x, one_shot['Authenticity'])\n",
        "predictions = clf.predict_proba(one_shot_test)\n",
        "predictions = [np.argmax(predictions[i]) for i in range(len(predictions))]\n",
        "\n",
        "accuracy = sklearn.metrics.accuracy_score(predictions,ytest)\n",
        "accuracy"
      ],
      "metadata": {
        "colab": {
          "base_uri": "https://localhost:8080/"
        },
        "id": "c7GjNQF4gezF",
        "outputId": "1c8f602a-8d3a-4dd7-dd0d-c466dc0e8bbd"
      },
      "execution_count": 26,
      "outputs": [
        {
          "output_type": "execute_result",
          "data": {
            "text/plain": [
              "0.6328871892925431"
            ]
          },
          "metadata": {},
          "execution_count": 26
        }
      ]
    },
    {
      "cell_type": "code",
      "source": [
        "print(classification_report(predictions, ytest))"
      ],
      "metadata": {
        "colab": {
          "base_uri": "https://localhost:8080/"
        },
        "id": "Zqk0lB1sgW-S",
        "outputId": "0755def6-700f-4c8a-c4cd-31ca0533a9d3"
      },
      "execution_count": 27,
      "outputs": [
        {
          "output_type": "stream",
          "name": "stdout",
          "text": [
            "              precision    recall  f1-score   support\n",
            "\n",
            "           0       0.79      0.56      0.66       329\n",
            "           1       0.50      0.75      0.60       194\n",
            "\n",
            "    accuracy                           0.63       523\n",
            "   macro avg       0.65      0.66      0.63       523\n",
            "weighted avg       0.69      0.63      0.64       523\n",
            "\n"
          ]
        }
      ]
    },
    {
      "cell_type": "code",
      "source": [
        "#Naive Bayes\n",
        "clf = MultinomialNB(alpha=1.0)\n",
        "clf.fit(one_shot_x, one_shot['Authenticity'])\n",
        "predictions = clf.predict_proba(one_shot_test)\n",
        "predictions = [np.argmax(predictions[i]) for i in range(len(predictions))]\n",
        "\n",
        "accuracy = sklearn.metrics.accuracy_score(predictions,ytest)\n",
        "accuracy"
      ],
      "metadata": {
        "colab": {
          "base_uri": "https://localhost:8080/"
        },
        "id": "lXa3bNfeh-Np",
        "outputId": "96149024-0e29-47a4-bd19-07e78e93f0a8"
      },
      "execution_count": 30,
      "outputs": [
        {
          "output_type": "execute_result",
          "data": {
            "text/plain": [
              "0.6309751434034416"
            ]
          },
          "metadata": {},
          "execution_count": 30
        }
      ]
    },
    {
      "cell_type": "code",
      "source": [
        "print(classification_report(predictions, ytest))"
      ],
      "metadata": {
        "colab": {
          "base_uri": "https://localhost:8080/"
        },
        "id": "Rb6ZGIhQiITS",
        "outputId": "f43d84b8-9437-4552-a432-b05239906e22"
      },
      "execution_count": 31,
      "outputs": [
        {
          "output_type": "stream",
          "name": "stdout",
          "text": [
            "              precision    recall  f1-score   support\n",
            "\n",
            "           0       0.76      0.56      0.65       316\n",
            "           1       0.52      0.73      0.61       207\n",
            "\n",
            "    accuracy                           0.63       523\n",
            "   macro avg       0.64      0.65      0.63       523\n",
            "weighted avg       0.67      0.63      0.63       523\n",
            "\n"
          ]
        }
      ]
    },
    {
      "cell_type": "code",
      "source": [
        "#Support Vector Machine\n",
        "clf = SVC(C=1.0, probability=True) # since we need probabilities\n",
        "clf.fit(one_shot_x, one_shot['Authenticity'])\n",
        "predictions = clf.predict_proba(one_shot_test)\n",
        "predictions = [np.argmax(predictions[i]) for i in range(len(predictions))]\n",
        "\n",
        "accuracy = sklearn.metrics.accuracy_score(predictions,ytest)\n",
        "accuracy"
      ],
      "metadata": {
        "colab": {
          "base_uri": "https://localhost:8080/"
        },
        "id": "Q1uPOG_FiKP-",
        "outputId": "751ec9af-d637-474b-f871-03e5573c9c5d"
      },
      "execution_count": 32,
      "outputs": [
        {
          "output_type": "execute_result",
          "data": {
            "text/plain": [
              "0.367112810707457"
            ]
          },
          "metadata": {},
          "execution_count": 32
        }
      ]
    },
    {
      "cell_type": "code",
      "source": [
        "print(classification_report(predictions, ytest))"
      ],
      "metadata": {
        "colab": {
          "base_uri": "https://localhost:8080/"
        },
        "id": "GMU6ko1ZiWxy",
        "outputId": "76e60469-36eb-4992-b17a-af0dad92651f"
      },
      "execution_count": 33,
      "outputs": [
        {
          "output_type": "stream",
          "name": "stdout",
          "text": [
            "              precision    recall  f1-score   support\n",
            "\n",
            "           0       0.22      0.26      0.24       202\n",
            "           1       0.48      0.44      0.46       321\n",
            "\n",
            "    accuracy                           0.37       523\n",
            "   macro avg       0.35      0.35      0.35       523\n",
            "weighted avg       0.38      0.37      0.37       523\n",
            "\n"
          ]
        }
      ]
    },
    {
      "cell_type": "code",
      "source": [
        "#XG-Boost classifier\n",
        "clf = xgb.XGBClassifier(max_depth=7, n_estimators=200, colsample_bytree=0.8, subsample=0.8, nthread=10, learning_rate=0.1)\n",
        "clf.fit(one_shot_x, one_shot['Authenticity'])\n",
        "predictions = clf.predict_proba(one_shot_test)\n",
        "predictions = [np.argmax(predictions[i]) for i in range(len(predictions))]\n",
        "\n",
        "accuracy = sklearn.metrics.accuracy_score(predictions,ytest)\n",
        "accuracy\n"
      ],
      "metadata": {
        "colab": {
          "base_uri": "https://localhost:8080/"
        },
        "id": "xAA5xPX5iYnA",
        "outputId": "5bc7ce70-41ca-4af2-aa93-f3b456b3f5af"
      },
      "execution_count": 34,
      "outputs": [
        {
          "output_type": "execute_result",
          "data": {
            "text/plain": [
              "0.44550669216061184"
            ]
          },
          "metadata": {},
          "execution_count": 34
        }
      ]
    },
    {
      "cell_type": "code",
      "source": [
        "print(classification_report(predictions, ytest))"
      ],
      "metadata": {
        "colab": {
          "base_uri": "https://localhost:8080/"
        },
        "id": "A8M8AwYmigCx",
        "outputId": "c4ed59e3-f685-4554-c96d-05dcf1b697c9"
      },
      "execution_count": 35,
      "outputs": [
        {
          "output_type": "stream",
          "name": "stdout",
          "text": [
            "              precision    recall  f1-score   support\n",
            "\n",
            "           0       1.00      0.45      0.62       523\n",
            "           1       0.00      0.00      0.00         0\n",
            "\n",
            "    accuracy                           0.45       523\n",
            "   macro avg       0.50      0.22      0.31       523\n",
            "weighted avg       1.00      0.45      0.62       523\n",
            "\n"
          ]
        },
        {
          "output_type": "stream",
          "name": "stderr",
          "text": [
            "/usr/local/lib/python3.7/dist-packages/sklearn/metrics/_classification.py:1318: UndefinedMetricWarning: Recall and F-score are ill-defined and being set to 0.0 in labels with no true samples. Use `zero_division` parameter to control this behavior.\n",
            "  _warn_prf(average, modifier, msg_start, len(result))\n",
            "/usr/local/lib/python3.7/dist-packages/sklearn/metrics/_classification.py:1318: UndefinedMetricWarning: Recall and F-score are ill-defined and being set to 0.0 in labels with no true samples. Use `zero_division` parameter to control this behavior.\n",
            "  _warn_prf(average, modifier, msg_start, len(result))\n",
            "/usr/local/lib/python3.7/dist-packages/sklearn/metrics/_classification.py:1318: UndefinedMetricWarning: Recall and F-score are ill-defined and being set to 0.0 in labels with no true samples. Use `zero_division` parameter to control this behavior.\n",
            "  _warn_prf(average, modifier, msg_start, len(result))\n"
          ]
        }
      ]
    },
    {
      "cell_type": "markdown",
      "source": [
        "### Three-Shot dataset"
      ],
      "metadata": {
        "id": "FgJaxXI1ih4S"
      }
    },
    {
      "cell_type": "code",
      "source": [
        "#Apply TF-IDF to the dataset\n",
        "tamil_preprocessing(three_shot)\n",
        "three_shot.head()"
      ],
      "metadata": {
        "colab": {
          "base_uri": "https://localhost:8080/",
          "height": 580
        },
        "id": "wUt3fz3Vits-",
        "outputId": "0545013d-ea18-4980-f0e6-eabd9ff2b779"
      },
      "execution_count": 37,
      "outputs": [
        {
          "output_type": "execute_result",
          "data": {
            "text/plain": [
              "                                     English version          Label  \\\n",
              "0                        Actor Jayam Ravi has Corona  entertainment   \n",
              "1            A football god about the 'hands of God'  miscellaneous   \n",
              "2  Cameras mandatory in school buses: Tamil Nadu ...       politics   \n",
              "3  36th National Games | 4 gold medals for Tamil ...          sport   \n",
              "4  Introducing NoiseFit Core 2 Smartwatch: Amazin...           tech   \n",
              "\n",
              "                                                News          Author  \\\n",
              "0                               நடிகர் ஜெயம் ரவிக்கு      தினத்தந்தி   \n",
              "1       ‘கடவுளின் கை’களைப் பற்றிய கால்பந்துக் கடவுள்             ஆதி   \n",
              "2   பள்ளி பேருந்துகளில் கேமரா கட்டாயம்: தமிழக அரச...  செய்திப்பிரிவு   \n",
              "3   36-வது தேசிய விளையாட்டு | ஒரே நாளில் தமிழகத்த...  செய்திப்பிரிவு   \n",
              "4   நாய்ஸ்ஃபிட் கோர் 2 ஸ்மார்ட்வாட்ச் அறிமுகம்: 5...  செய்திப்பிரிவு   \n",
              "\n",
              "               Date                                                URL  \\\n",
              "0  22-10-2022 02:53  https://www.dailythanthi.com/Cinema/CinemaNews...   \n",
              "1         01-Dec-20  https://www.hindutamil.in/news/supplements/ila...   \n",
              "2         21-Oct-22  https://www.hindutamil.in/news/tamilnadu/88576...   \n",
              "3         02-Oct-22  https://www.hindutamil.in/news/sports/877427-3...   \n",
              "4         22-Aug-22  https://www.hindutamil.in/news/technology/8467...   \n",
              "\n",
              "   Authenticity                                           non_punc  \\\n",
              "0             0                               நடிகர் ஜெயம் ரவிக்கு   \n",
              "1             0        கடவுளின் கை’களைப் பற்றிய கால்பந்துக் கடவுள்   \n",
              "2             0   பள்ளி பேருந்துகளில் கேமரா கட்டாயம்: தமிழக அரச...   \n",
              "3             0   36-வது தேசிய விளையாட்டு | ஒரே நாளில் தமிழகத்த...   \n",
              "4             0   நாய்ஸ்ஃபிட் கோர் 2 ஸ்மார்ட்வாட்ச் அறிமுகம்: 5...   \n",
              "\n",
              "                                tamil_tokenized_text  \\\n",
              "0                           [நடிகர், ஜெயம், ரவிக்கு]   \n",
              "1  [கடவுளின், கை’களைப், பற்றிய, கால்பந்துக், கடவுள்]   \n",
              "2  [பள்ளி, பேருந்துகளில், கேமரா, கட்டாயம்:, தமிழக...   \n",
              "3  [36-வது, தேசிய, விளையாட்டு, |, ஒரே, நாளில், தம...   \n",
              "4  [நாய்ஸ்ஃபிட், கோர், 2, ஸ்மார்ட்வாட்ச், அறிமுகம...   \n",
              "\n",
              "                                               clean  \n",
              "0                               நடிகர் ஜெயம் ரவிக்கு  \n",
              "1        கடவுளின் கை’களைப் பற்றிய கால்பந்துக் கடவுள்  \n",
              "2  பள்ளி பேருந்துகளில் கேமரா கட்டாயம்: தமிழக அரசு...  \n",
              "3  36-வது தேசிய விளையாட்டு | ஒரே நாளில் தமிழகத்து...  \n",
              "4  நாய்ஸ்ஃபிட் கோர் 2 ஸ்மார்ட்வாட்ச் அறிமுகம்: 50...  "
            ],
            "text/html": [
              "\n",
              "  <div id=\"df-53631375-53de-4933-a98e-02518e7685b6\">\n",
              "    <div class=\"colab-df-container\">\n",
              "      <div>\n",
              "<style scoped>\n",
              "    .dataframe tbody tr th:only-of-type {\n",
              "        vertical-align: middle;\n",
              "    }\n",
              "\n",
              "    .dataframe tbody tr th {\n",
              "        vertical-align: top;\n",
              "    }\n",
              "\n",
              "    .dataframe thead th {\n",
              "        text-align: right;\n",
              "    }\n",
              "</style>\n",
              "<table border=\"1\" class=\"dataframe\">\n",
              "  <thead>\n",
              "    <tr style=\"text-align: right;\">\n",
              "      <th></th>\n",
              "      <th>English version</th>\n",
              "      <th>Label</th>\n",
              "      <th>News</th>\n",
              "      <th>Author</th>\n",
              "      <th>Date</th>\n",
              "      <th>URL</th>\n",
              "      <th>Authenticity</th>\n",
              "      <th>non_punc</th>\n",
              "      <th>tamil_tokenized_text</th>\n",
              "      <th>clean</th>\n",
              "    </tr>\n",
              "  </thead>\n",
              "  <tbody>\n",
              "    <tr>\n",
              "      <th>0</th>\n",
              "      <td>Actor Jayam Ravi has Corona</td>\n",
              "      <td>entertainment</td>\n",
              "      <td>நடிகர் ஜெயம் ரவிக்கு</td>\n",
              "      <td>தினத்தந்தி</td>\n",
              "      <td>22-10-2022 02:53</td>\n",
              "      <td>https://www.dailythanthi.com/Cinema/CinemaNews...</td>\n",
              "      <td>0</td>\n",
              "      <td>நடிகர் ஜெயம் ரவிக்கு</td>\n",
              "      <td>[நடிகர், ஜெயம், ரவிக்கு]</td>\n",
              "      <td>நடிகர் ஜெயம் ரவிக்கு</td>\n",
              "    </tr>\n",
              "    <tr>\n",
              "      <th>1</th>\n",
              "      <td>A football god about the 'hands of God'</td>\n",
              "      <td>miscellaneous</td>\n",
              "      <td>‘கடவுளின் கை’களைப் பற்றிய கால்பந்துக் கடவுள்</td>\n",
              "      <td>ஆதி</td>\n",
              "      <td>01-Dec-20</td>\n",
              "      <td>https://www.hindutamil.in/news/supplements/ila...</td>\n",
              "      <td>0</td>\n",
              "      <td>கடவுளின் கை’களைப் பற்றிய கால்பந்துக் கடவுள்</td>\n",
              "      <td>[கடவுளின், கை’களைப், பற்றிய, கால்பந்துக், கடவுள்]</td>\n",
              "      <td>கடவுளின் கை’களைப் பற்றிய கால்பந்துக் கடவுள்</td>\n",
              "    </tr>\n",
              "    <tr>\n",
              "      <th>2</th>\n",
              "      <td>Cameras mandatory in school buses: Tamil Nadu ...</td>\n",
              "      <td>politics</td>\n",
              "      <td>பள்ளி பேருந்துகளில் கேமரா கட்டாயம்: தமிழக அரச...</td>\n",
              "      <td>செய்திப்பிரிவு</td>\n",
              "      <td>21-Oct-22</td>\n",
              "      <td>https://www.hindutamil.in/news/tamilnadu/88576...</td>\n",
              "      <td>0</td>\n",
              "      <td>பள்ளி பேருந்துகளில் கேமரா கட்டாயம்: தமிழக அரச...</td>\n",
              "      <td>[பள்ளி, பேருந்துகளில், கேமரா, கட்டாயம்:, தமிழக...</td>\n",
              "      <td>பள்ளி பேருந்துகளில் கேமரா கட்டாயம்: தமிழக அரசு...</td>\n",
              "    </tr>\n",
              "    <tr>\n",
              "      <th>3</th>\n",
              "      <td>36th National Games | 4 gold medals for Tamil ...</td>\n",
              "      <td>sport</td>\n",
              "      <td>36-வது தேசிய விளையாட்டு | ஒரே நாளில் தமிழகத்த...</td>\n",
              "      <td>செய்திப்பிரிவு</td>\n",
              "      <td>02-Oct-22</td>\n",
              "      <td>https://www.hindutamil.in/news/sports/877427-3...</td>\n",
              "      <td>0</td>\n",
              "      <td>36-வது தேசிய விளையாட்டு | ஒரே நாளில் தமிழகத்த...</td>\n",
              "      <td>[36-வது, தேசிய, விளையாட்டு, |, ஒரே, நாளில், தம...</td>\n",
              "      <td>36-வது தேசிய விளையாட்டு | ஒரே நாளில் தமிழகத்து...</td>\n",
              "    </tr>\n",
              "    <tr>\n",
              "      <th>4</th>\n",
              "      <td>Introducing NoiseFit Core 2 Smartwatch: Amazin...</td>\n",
              "      <td>tech</td>\n",
              "      <td>நாய்ஸ்ஃபிட் கோர் 2 ஸ்மார்ட்வாட்ச் அறிமுகம்: 5...</td>\n",
              "      <td>செய்திப்பிரிவு</td>\n",
              "      <td>22-Aug-22</td>\n",
              "      <td>https://www.hindutamil.in/news/technology/8467...</td>\n",
              "      <td>0</td>\n",
              "      <td>நாய்ஸ்ஃபிட் கோர் 2 ஸ்மார்ட்வாட்ச் அறிமுகம்: 5...</td>\n",
              "      <td>[நாய்ஸ்ஃபிட், கோர், 2, ஸ்மார்ட்வாட்ச், அறிமுகம...</td>\n",
              "      <td>நாய்ஸ்ஃபிட் கோர் 2 ஸ்மார்ட்வாட்ச் அறிமுகம்: 50...</td>\n",
              "    </tr>\n",
              "  </tbody>\n",
              "</table>\n",
              "</div>\n",
              "      <button class=\"colab-df-convert\" onclick=\"convertToInteractive('df-53631375-53de-4933-a98e-02518e7685b6')\"\n",
              "              title=\"Convert this dataframe to an interactive table.\"\n",
              "              style=\"display:none;\">\n",
              "        \n",
              "  <svg xmlns=\"http://www.w3.org/2000/svg\" height=\"24px\"viewBox=\"0 0 24 24\"\n",
              "       width=\"24px\">\n",
              "    <path d=\"M0 0h24v24H0V0z\" fill=\"none\"/>\n",
              "    <path d=\"M18.56 5.44l.94 2.06.94-2.06 2.06-.94-2.06-.94-.94-2.06-.94 2.06-2.06.94zm-11 1L8.5 8.5l.94-2.06 2.06-.94-2.06-.94L8.5 2.5l-.94 2.06-2.06.94zm10 10l.94 2.06.94-2.06 2.06-.94-2.06-.94-.94-2.06-.94 2.06-2.06.94z\"/><path d=\"M17.41 7.96l-1.37-1.37c-.4-.4-.92-.59-1.43-.59-.52 0-1.04.2-1.43.59L10.3 9.45l-7.72 7.72c-.78.78-.78 2.05 0 2.83L4 21.41c.39.39.9.59 1.41.59.51 0 1.02-.2 1.41-.59l7.78-7.78 2.81-2.81c.8-.78.8-2.07 0-2.86zM5.41 20L4 18.59l7.72-7.72 1.47 1.35L5.41 20z\"/>\n",
              "  </svg>\n",
              "      </button>\n",
              "      \n",
              "  <style>\n",
              "    .colab-df-container {\n",
              "      display:flex;\n",
              "      flex-wrap:wrap;\n",
              "      gap: 12px;\n",
              "    }\n",
              "\n",
              "    .colab-df-convert {\n",
              "      background-color: #E8F0FE;\n",
              "      border: none;\n",
              "      border-radius: 50%;\n",
              "      cursor: pointer;\n",
              "      display: none;\n",
              "      fill: #1967D2;\n",
              "      height: 32px;\n",
              "      padding: 0 0 0 0;\n",
              "      width: 32px;\n",
              "    }\n",
              "\n",
              "    .colab-df-convert:hover {\n",
              "      background-color: #E2EBFA;\n",
              "      box-shadow: 0px 1px 2px rgba(60, 64, 67, 0.3), 0px 1px 3px 1px rgba(60, 64, 67, 0.15);\n",
              "      fill: #174EA6;\n",
              "    }\n",
              "\n",
              "    [theme=dark] .colab-df-convert {\n",
              "      background-color: #3B4455;\n",
              "      fill: #D2E3FC;\n",
              "    }\n",
              "\n",
              "    [theme=dark] .colab-df-convert:hover {\n",
              "      background-color: #434B5C;\n",
              "      box-shadow: 0px 1px 3px 1px rgba(0, 0, 0, 0.15);\n",
              "      filter: drop-shadow(0px 1px 2px rgba(0, 0, 0, 0.3));\n",
              "      fill: #FFFFFF;\n",
              "    }\n",
              "  </style>\n",
              "\n",
              "      <script>\n",
              "        const buttonEl =\n",
              "          document.querySelector('#df-53631375-53de-4933-a98e-02518e7685b6 button.colab-df-convert');\n",
              "        buttonEl.style.display =\n",
              "          google.colab.kernel.accessAllowed ? 'block' : 'none';\n",
              "\n",
              "        async function convertToInteractive(key) {\n",
              "          const element = document.querySelector('#df-53631375-53de-4933-a98e-02518e7685b6');\n",
              "          const dataTable =\n",
              "            await google.colab.kernel.invokeFunction('convertToInteractive',\n",
              "                                                     [key], {});\n",
              "          if (!dataTable) return;\n",
              "\n",
              "          const docLinkHtml = 'Like what you see? Visit the ' +\n",
              "            '<a target=\"_blank\" href=https://colab.research.google.com/notebooks/data_table.ipynb>data table notebook</a>'\n",
              "            + ' to learn more about interactive tables.';\n",
              "          element.innerHTML = '';\n",
              "          dataTable['output_type'] = 'display_data';\n",
              "          await google.colab.output.renderOutput(dataTable, element);\n",
              "          const docLink = document.createElement('div');\n",
              "          docLink.innerHTML = docLinkHtml;\n",
              "          element.appendChild(docLink);\n",
              "        }\n",
              "      </script>\n",
              "    </div>\n",
              "  </div>\n",
              "  "
            ]
          },
          "metadata": {},
          "execution_count": 37
        }
      ]
    },
    {
      "cell_type": "code",
      "source": [
        "three_shot['clean'] = three_shot['tamil_tokenized_text'].apply(lambda x: ' '.join(x))"
      ],
      "metadata": {
        "id": "fmkceDopijem"
      },
      "execution_count": 38,
      "outputs": []
    },
    {
      "cell_type": "code",
      "source": [
        "three_shot_x, tfidf_vectorizer = tfidf(three_shot['clean'])\n",
        "three_shot_test = tfidf_vectorizer.transform(xtest)"
      ],
      "metadata": {
        "id": "74iU3hA8iwHA"
      },
      "execution_count": 39,
      "outputs": []
    },
    {
      "cell_type": "code",
      "source": [
        "#Run the machine learning models for one-shot\n",
        "#Logistic Regression with TF-IDF\n",
        "clf = LogisticRegression(C=1.0)\n",
        "clf.fit(three_shot_x, three_shot['Authenticity'])\n",
        "predictions = clf.predict_proba(three_shot_test)\n",
        "predictions = [np.argmax(predictions[i]) for i in range(len(predictions))]\n",
        "\n",
        "accuracy = sklearn.metrics.accuracy_score(predictions,ytest)\n",
        "accuracy"
      ],
      "metadata": {
        "colab": {
          "base_uri": "https://localhost:8080/"
        },
        "id": "kiIjy8iti2DK",
        "outputId": "dab56725-8f23-45e3-bd4d-be06b6c3a032"
      },
      "execution_count": 42,
      "outputs": [
        {
          "output_type": "execute_result",
          "data": {
            "text/plain": [
              "0.7208413001912046"
            ]
          },
          "metadata": {},
          "execution_count": 42
        }
      ]
    },
    {
      "cell_type": "code",
      "source": [
        "print(classification_report(predictions, ytest))"
      ],
      "metadata": {
        "colab": {
          "base_uri": "https://localhost:8080/"
        },
        "id": "ui17wmZvi4-V",
        "outputId": "5989d510-b07c-44dd-faba-ea7c3da0b517"
      },
      "execution_count": 43,
      "outputs": [
        {
          "output_type": "stream",
          "name": "stdout",
          "text": [
            "              precision    recall  f1-score   support\n",
            "\n",
            "           0       0.63      0.71      0.67       207\n",
            "           1       0.79      0.73      0.76       316\n",
            "\n",
            "    accuracy                           0.72       523\n",
            "   macro avg       0.71      0.72      0.71       523\n",
            "weighted avg       0.73      0.72      0.72       523\n",
            "\n"
          ]
        }
      ]
    },
    {
      "cell_type": "code",
      "source": [
        "#Naive Bayes\n",
        "clf = MultinomialNB(alpha=1.0)\n",
        "clf.fit(three_shot_x, three_shot['Authenticity'])\n",
        "predictions = clf.predict_proba(three_shot_test)\n",
        "predictions = [np.argmax(predictions[i]) for i in range(len(predictions))]\n",
        "\n",
        "accuracy = sklearn.metrics.accuracy_score(predictions,ytest)\n",
        "accuracy"
      ],
      "metadata": {
        "colab": {
          "base_uri": "https://localhost:8080/"
        },
        "id": "l3CrgNOFi7Mf",
        "outputId": "3ba331a2-66d2-48f2-fb77-9acf3cc4cd5d"
      },
      "execution_count": 44,
      "outputs": [
        {
          "output_type": "execute_result",
          "data": {
            "text/plain": [
              "0.7093690248565966"
            ]
          },
          "metadata": {},
          "execution_count": 44
        }
      ]
    },
    {
      "cell_type": "code",
      "source": [
        "print(classification_report(predictions, ytest))"
      ],
      "metadata": {
        "colab": {
          "base_uri": "https://localhost:8080/"
        },
        "id": "SPxdmlxgjEzo",
        "outputId": "e2226e0a-6419-4489-d0fd-c8e9b46da374"
      },
      "execution_count": 45,
      "outputs": [
        {
          "output_type": "stream",
          "name": "stdout",
          "text": [
            "              precision    recall  f1-score   support\n",
            "\n",
            "           0       0.65      0.68      0.67       223\n",
            "           1       0.76      0.73      0.74       300\n",
            "\n",
            "    accuracy                           0.71       523\n",
            "   macro avg       0.70      0.71      0.70       523\n",
            "weighted avg       0.71      0.71      0.71       523\n",
            "\n"
          ]
        }
      ]
    },
    {
      "cell_type": "code",
      "source": [
        "#Support Vector Machine\n",
        "clf = SVC(C=1.0, probability=True) # since we need probabilities\n",
        "clf.fit(three_shot_x, three_shot['Authenticity'])\n",
        "predictions = clf.predict_proba(three_shot_test)\n",
        "predictions = [np.argmax(predictions[i]) for i in range(len(predictions))]\n",
        "\n",
        "accuracy = sklearn.metrics.accuracy_score(predictions,ytest)\n",
        "accuracy"
      ],
      "metadata": {
        "colab": {
          "base_uri": "https://localhost:8080/"
        },
        "id": "pI0R588zjHWH",
        "outputId": "329fff24-98c3-450d-e89d-4b7fc0efd2a6"
      },
      "execution_count": 46,
      "outputs": [
        {
          "output_type": "execute_result",
          "data": {
            "text/plain": [
              "0.6883365200764818"
            ]
          },
          "metadata": {},
          "execution_count": 46
        }
      ]
    },
    {
      "cell_type": "code",
      "source": [
        "print(classification_report(predictions, ytest))"
      ],
      "metadata": {
        "colab": {
          "base_uri": "https://localhost:8080/"
        },
        "id": "kkaXHsFnjMIB",
        "outputId": "60156be1-cbb0-4fd9-c3cf-72760e14411a"
      },
      "execution_count": 47,
      "outputs": [
        {
          "output_type": "stream",
          "name": "stdout",
          "text": [
            "              precision    recall  f1-score   support\n",
            "\n",
            "           0       0.52      0.71      0.60       170\n",
            "           1       0.83      0.68      0.75       353\n",
            "\n",
            "    accuracy                           0.69       523\n",
            "   macro avg       0.67      0.69      0.67       523\n",
            "weighted avg       0.73      0.69      0.70       523\n",
            "\n"
          ]
        }
      ]
    },
    {
      "cell_type": "code",
      "source": [
        "#XG-Boost classifier\n",
        "clf = xgb.XGBClassifier(max_depth=7, n_estimators=200, colsample_bytree=0.8, subsample=0.8, nthread=10, learning_rate=0.1)\n",
        "clf.fit(three_shot_x, three_shot['Authenticity'])\n",
        "predictions = clf.predict_proba(three_shot_test)\n",
        "predictions = [np.argmax(predictions[i]) for i in range(len(predictions))]\n",
        "\n",
        "accuracy = sklearn.metrics.accuracy_score(predictions,ytest)\n",
        "accuracy\n"
      ],
      "metadata": {
        "colab": {
          "base_uri": "https://localhost:8080/"
        },
        "id": "BIMN1btHjPCQ",
        "outputId": "0e659439-1e91-4c6d-c9e7-a04d93582f3d"
      },
      "execution_count": 48,
      "outputs": [
        {
          "output_type": "execute_result",
          "data": {
            "text/plain": [
              "0.5066921606118547"
            ]
          },
          "metadata": {},
          "execution_count": 48
        }
      ]
    },
    {
      "cell_type": "code",
      "source": [
        "print(classification_report(predictions, ytest))"
      ],
      "metadata": {
        "colab": {
          "base_uri": "https://localhost:8080/"
        },
        "id": "DgpFxSpVjU6V",
        "outputId": "116f5316-24ab-4cb4-d76d-e4c2fa80a0f1"
      },
      "execution_count": 49,
      "outputs": [
        {
          "output_type": "stream",
          "name": "stdout",
          "text": [
            "              precision    recall  f1-score   support\n",
            "\n",
            "           0       0.12      0.35      0.18        81\n",
            "           1       0.82      0.54      0.65       442\n",
            "\n",
            "    accuracy                           0.51       523\n",
            "   macro avg       0.47      0.44      0.41       523\n",
            "weighted avg       0.71      0.51      0.57       523\n",
            "\n"
          ]
        }
      ]
    },
    {
      "cell_type": "markdown",
      "source": [
        "### Five-Shot dataset"
      ],
      "metadata": {
        "id": "5QIITs-FjYCm"
      }
    },
    {
      "cell_type": "code",
      "source": [
        "#Apply TF-IDF to the dataset\n",
        "tamil_preprocessing(five_shot)\n",
        "five_shot.head()"
      ],
      "metadata": {
        "colab": {
          "base_uri": "https://localhost:8080/",
          "height": 441
        },
        "id": "zeyj9hJDjbcY",
        "outputId": "d4e2b2a5-7c43-42f4-8abd-c55e19e0d60e"
      },
      "execution_count": 50,
      "outputs": [
        {
          "output_type": "execute_result",
          "data": {
            "text/plain": [
              "                          English version          Label  \\\n",
              "0             Actor Jayam Ravi has Corona  entertainment   \n",
              "1  Pooja Hegde regrets the film's failure  entertainment   \n",
              "2                       Images for Diwali  entertainment   \n",
              "3               Simbu debuts in Bollywood  entertainment   \n",
              "4          3rd song release from 'Prince'  entertainment   \n",
              "\n",
              "                                       News      Author              Date  \\\n",
              "0                      நடிகர் ஜெயம் ரவிக்கு  தினத்தந்தி  22-10-2022 02:53   \n",
              "1  படங்கள் தோல்வியால் வருந்தும் பூஜா ஹெக்டே  தினத்தந்தி  22-10-2022 02:50   \n",
              "2                 தீபாவளிக்கு வரும் படங்கள்  தினத்தந்தி  17-10-2022 10:20   \n",
              "3        பாலிவுட்டில் அறிமுகமாகிறார் சிம்பு  தினத்தந்தி  16-10-2022 03:49   \n",
              "4   'பிரின்ஸ்' படத்தின் 3வது பாடல் வெளியீடு  தினத்தந்தி  14-10-2022 16:31   \n",
              "\n",
              "                                                 URL  Authenticity  \\\n",
              "0  https://www.dailythanthi.com/Cinema/CinemaNews...             0   \n",
              "1  https://www.dailythanthi.com/Cinema/CinemaNews...             0   \n",
              "2  https://www.dailythanthi.com/Cinema/CinemaNews...             0   \n",
              "3  https://www.dailythanthi.com/Cinema/CinemaNews...             0   \n",
              "4  https://www.dailythanthi.com/Cinema/CinemaNews...             0   \n",
              "\n",
              "                                   non_punc  \\\n",
              "0                      நடிகர் ஜெயம் ரவிக்கு   \n",
              "1  படங்கள் தோல்வியால் வருந்தும் பூஜா ஹெக்டே   \n",
              "2                 தீபாவளிக்கு வரும் படங்கள்   \n",
              "3        பாலிவுட்டில் அறிமுகமாகிறார் சிம்பு   \n",
              "4     பிரின்ஸ் படத்தின் 3வது பாடல் வெளியீடு   \n",
              "\n",
              "                             tamil_tokenized_text  \n",
              "0                        [நடிகர், ஜெயம், ரவிக்கு]  \n",
              "1  [படங்கள், தோல்வியால், வருந்தும், பூஜா, ஹெக்டே]  \n",
              "2                   [தீபாவளிக்கு, வரும், படங்கள்]  \n",
              "3          [பாலிவுட்டில், அறிமுகமாகிறார், சிம்பு]  \n",
              "4     [பிரின்ஸ், படத்தின், 3வது, பாடல், வெளியீடு]  "
            ],
            "text/html": [
              "\n",
              "  <div id=\"df-5052a746-a379-49af-93d9-cf1f36758246\">\n",
              "    <div class=\"colab-df-container\">\n",
              "      <div>\n",
              "<style scoped>\n",
              "    .dataframe tbody tr th:only-of-type {\n",
              "        vertical-align: middle;\n",
              "    }\n",
              "\n",
              "    .dataframe tbody tr th {\n",
              "        vertical-align: top;\n",
              "    }\n",
              "\n",
              "    .dataframe thead th {\n",
              "        text-align: right;\n",
              "    }\n",
              "</style>\n",
              "<table border=\"1\" class=\"dataframe\">\n",
              "  <thead>\n",
              "    <tr style=\"text-align: right;\">\n",
              "      <th></th>\n",
              "      <th>English version</th>\n",
              "      <th>Label</th>\n",
              "      <th>News</th>\n",
              "      <th>Author</th>\n",
              "      <th>Date</th>\n",
              "      <th>URL</th>\n",
              "      <th>Authenticity</th>\n",
              "      <th>non_punc</th>\n",
              "      <th>tamil_tokenized_text</th>\n",
              "    </tr>\n",
              "  </thead>\n",
              "  <tbody>\n",
              "    <tr>\n",
              "      <th>0</th>\n",
              "      <td>Actor Jayam Ravi has Corona</td>\n",
              "      <td>entertainment</td>\n",
              "      <td>நடிகர் ஜெயம் ரவிக்கு</td>\n",
              "      <td>தினத்தந்தி</td>\n",
              "      <td>22-10-2022 02:53</td>\n",
              "      <td>https://www.dailythanthi.com/Cinema/CinemaNews...</td>\n",
              "      <td>0</td>\n",
              "      <td>நடிகர் ஜெயம் ரவிக்கு</td>\n",
              "      <td>[நடிகர், ஜெயம், ரவிக்கு]</td>\n",
              "    </tr>\n",
              "    <tr>\n",
              "      <th>1</th>\n",
              "      <td>Pooja Hegde regrets the film's failure</td>\n",
              "      <td>entertainment</td>\n",
              "      <td>படங்கள் தோல்வியால் வருந்தும் பூஜா ஹெக்டே</td>\n",
              "      <td>தினத்தந்தி</td>\n",
              "      <td>22-10-2022 02:50</td>\n",
              "      <td>https://www.dailythanthi.com/Cinema/CinemaNews...</td>\n",
              "      <td>0</td>\n",
              "      <td>படங்கள் தோல்வியால் வருந்தும் பூஜா ஹெக்டே</td>\n",
              "      <td>[படங்கள், தோல்வியால், வருந்தும், பூஜா, ஹெக்டே]</td>\n",
              "    </tr>\n",
              "    <tr>\n",
              "      <th>2</th>\n",
              "      <td>Images for Diwali</td>\n",
              "      <td>entertainment</td>\n",
              "      <td>தீபாவளிக்கு வரும் படங்கள்</td>\n",
              "      <td>தினத்தந்தி</td>\n",
              "      <td>17-10-2022 10:20</td>\n",
              "      <td>https://www.dailythanthi.com/Cinema/CinemaNews...</td>\n",
              "      <td>0</td>\n",
              "      <td>தீபாவளிக்கு வரும் படங்கள்</td>\n",
              "      <td>[தீபாவளிக்கு, வரும், படங்கள்]</td>\n",
              "    </tr>\n",
              "    <tr>\n",
              "      <th>3</th>\n",
              "      <td>Simbu debuts in Bollywood</td>\n",
              "      <td>entertainment</td>\n",
              "      <td>பாலிவுட்டில் அறிமுகமாகிறார் சிம்பு</td>\n",
              "      <td>தினத்தந்தி</td>\n",
              "      <td>16-10-2022 03:49</td>\n",
              "      <td>https://www.dailythanthi.com/Cinema/CinemaNews...</td>\n",
              "      <td>0</td>\n",
              "      <td>பாலிவுட்டில் அறிமுகமாகிறார் சிம்பு</td>\n",
              "      <td>[பாலிவுட்டில், அறிமுகமாகிறார், சிம்பு]</td>\n",
              "    </tr>\n",
              "    <tr>\n",
              "      <th>4</th>\n",
              "      <td>3rd song release from 'Prince'</td>\n",
              "      <td>entertainment</td>\n",
              "      <td>'பிரின்ஸ்' படத்தின் 3வது பாடல் வெளியீடு</td>\n",
              "      <td>தினத்தந்தி</td>\n",
              "      <td>14-10-2022 16:31</td>\n",
              "      <td>https://www.dailythanthi.com/Cinema/CinemaNews...</td>\n",
              "      <td>0</td>\n",
              "      <td>பிரின்ஸ் படத்தின் 3வது பாடல் வெளியீடு</td>\n",
              "      <td>[பிரின்ஸ், படத்தின், 3வது, பாடல், வெளியீடு]</td>\n",
              "    </tr>\n",
              "  </tbody>\n",
              "</table>\n",
              "</div>\n",
              "      <button class=\"colab-df-convert\" onclick=\"convertToInteractive('df-5052a746-a379-49af-93d9-cf1f36758246')\"\n",
              "              title=\"Convert this dataframe to an interactive table.\"\n",
              "              style=\"display:none;\">\n",
              "        \n",
              "  <svg xmlns=\"http://www.w3.org/2000/svg\" height=\"24px\"viewBox=\"0 0 24 24\"\n",
              "       width=\"24px\">\n",
              "    <path d=\"M0 0h24v24H0V0z\" fill=\"none\"/>\n",
              "    <path d=\"M18.56 5.44l.94 2.06.94-2.06 2.06-.94-2.06-.94-.94-2.06-.94 2.06-2.06.94zm-11 1L8.5 8.5l.94-2.06 2.06-.94-2.06-.94L8.5 2.5l-.94 2.06-2.06.94zm10 10l.94 2.06.94-2.06 2.06-.94-2.06-.94-.94-2.06-.94 2.06-2.06.94z\"/><path d=\"M17.41 7.96l-1.37-1.37c-.4-.4-.92-.59-1.43-.59-.52 0-1.04.2-1.43.59L10.3 9.45l-7.72 7.72c-.78.78-.78 2.05 0 2.83L4 21.41c.39.39.9.59 1.41.59.51 0 1.02-.2 1.41-.59l7.78-7.78 2.81-2.81c.8-.78.8-2.07 0-2.86zM5.41 20L4 18.59l7.72-7.72 1.47 1.35L5.41 20z\"/>\n",
              "  </svg>\n",
              "      </button>\n",
              "      \n",
              "  <style>\n",
              "    .colab-df-container {\n",
              "      display:flex;\n",
              "      flex-wrap:wrap;\n",
              "      gap: 12px;\n",
              "    }\n",
              "\n",
              "    .colab-df-convert {\n",
              "      background-color: #E8F0FE;\n",
              "      border: none;\n",
              "      border-radius: 50%;\n",
              "      cursor: pointer;\n",
              "      display: none;\n",
              "      fill: #1967D2;\n",
              "      height: 32px;\n",
              "      padding: 0 0 0 0;\n",
              "      width: 32px;\n",
              "    }\n",
              "\n",
              "    .colab-df-convert:hover {\n",
              "      background-color: #E2EBFA;\n",
              "      box-shadow: 0px 1px 2px rgba(60, 64, 67, 0.3), 0px 1px 3px 1px rgba(60, 64, 67, 0.15);\n",
              "      fill: #174EA6;\n",
              "    }\n",
              "\n",
              "    [theme=dark] .colab-df-convert {\n",
              "      background-color: #3B4455;\n",
              "      fill: #D2E3FC;\n",
              "    }\n",
              "\n",
              "    [theme=dark] .colab-df-convert:hover {\n",
              "      background-color: #434B5C;\n",
              "      box-shadow: 0px 1px 3px 1px rgba(0, 0, 0, 0.15);\n",
              "      filter: drop-shadow(0px 1px 2px rgba(0, 0, 0, 0.3));\n",
              "      fill: #FFFFFF;\n",
              "    }\n",
              "  </style>\n",
              "\n",
              "      <script>\n",
              "        const buttonEl =\n",
              "          document.querySelector('#df-5052a746-a379-49af-93d9-cf1f36758246 button.colab-df-convert');\n",
              "        buttonEl.style.display =\n",
              "          google.colab.kernel.accessAllowed ? 'block' : 'none';\n",
              "\n",
              "        async function convertToInteractive(key) {\n",
              "          const element = document.querySelector('#df-5052a746-a379-49af-93d9-cf1f36758246');\n",
              "          const dataTable =\n",
              "            await google.colab.kernel.invokeFunction('convertToInteractive',\n",
              "                                                     [key], {});\n",
              "          if (!dataTable) return;\n",
              "\n",
              "          const docLinkHtml = 'Like what you see? Visit the ' +\n",
              "            '<a target=\"_blank\" href=https://colab.research.google.com/notebooks/data_table.ipynb>data table notebook</a>'\n",
              "            + ' to learn more about interactive tables.';\n",
              "          element.innerHTML = '';\n",
              "          dataTable['output_type'] = 'display_data';\n",
              "          await google.colab.output.renderOutput(dataTable, element);\n",
              "          const docLink = document.createElement('div');\n",
              "          docLink.innerHTML = docLinkHtml;\n",
              "          element.appendChild(docLink);\n",
              "        }\n",
              "      </script>\n",
              "    </div>\n",
              "  </div>\n",
              "  "
            ]
          },
          "metadata": {},
          "execution_count": 50
        }
      ]
    },
    {
      "cell_type": "code",
      "source": [
        "five_shot['clean'] = five_shot['tamil_tokenized_text'].apply(lambda x: ' '.join(x))"
      ],
      "metadata": {
        "id": "-63sd4S3jvnm"
      },
      "execution_count": 51,
      "outputs": []
    },
    {
      "cell_type": "code",
      "source": [
        "five_shot_x, tfidf_vectorizer = tfidf(five_shot['clean'])\n",
        "five_shot_test = tfidf_vectorizer.transform(xtest)"
      ],
      "metadata": {
        "id": "_77IA9Bmjzzd"
      },
      "execution_count": 52,
      "outputs": []
    },
    {
      "cell_type": "code",
      "source": [
        "#Run the machine learning models for one-shot\n",
        "#Logistic Regression with TF-IDF\n",
        "clf = LogisticRegression(C=1.0)\n",
        "clf.fit(five_shot_x, five_shot['Authenticity'])\n",
        "predictions = clf.predict_proba(five_shot_test)\n",
        "predictions = [np.argmax(predictions[i]) for i in range(len(predictions))]\n",
        "\n",
        "accuracy = sklearn.metrics.accuracy_score(predictions,ytest)\n",
        "accuracy"
      ],
      "metadata": {
        "colab": {
          "base_uri": "https://localhost:8080/"
        },
        "id": "qEYohg8Nj5RH",
        "outputId": "28e15e87-af56-405a-dbda-672e3566b94f"
      },
      "execution_count": 53,
      "outputs": [
        {
          "output_type": "execute_result",
          "data": {
            "text/plain": [
              "0.768642447418738"
            ]
          },
          "metadata": {},
          "execution_count": 53
        }
      ]
    },
    {
      "cell_type": "code",
      "source": [
        "print(classification_report(predictions, ytest))"
      ],
      "metadata": {
        "colab": {
          "base_uri": "https://localhost:8080/"
        },
        "id": "_62kRRb1j-fo",
        "outputId": "6b1f09a4-d3c4-40c7-c29e-169478ab2dfe"
      },
      "execution_count": 54,
      "outputs": [
        {
          "output_type": "stream",
          "name": "stdout",
          "text": [
            "              precision    recall  f1-score   support\n",
            "\n",
            "           0       0.67      0.78      0.72       200\n",
            "           1       0.85      0.76      0.80       323\n",
            "\n",
            "    accuracy                           0.77       523\n",
            "   macro avg       0.76      0.77      0.76       523\n",
            "weighted avg       0.78      0.77      0.77       523\n",
            "\n"
          ]
        }
      ]
    },
    {
      "cell_type": "code",
      "source": [
        "#Naive Bayes\n",
        "clf = MultinomialNB(alpha=1.0)\n",
        "clf.fit(five_shot_x, five_shot['Authenticity'])\n",
        "predictions = clf.predict_proba(five_shot_test)\n",
        "predictions = [np.argmax(predictions[i]) for i in range(len(predictions))]\n",
        "\n",
        "accuracy = sklearn.metrics.accuracy_score(predictions,ytest)\n",
        "accuracy"
      ],
      "metadata": {
        "colab": {
          "base_uri": "https://localhost:8080/"
        },
        "id": "CpBiBJLekBc9",
        "outputId": "e72317fe-880a-4208-b551-3583b42af5d2"
      },
      "execution_count": 55,
      "outputs": [
        {
          "output_type": "execute_result",
          "data": {
            "text/plain": [
              "0.7380497131931166"
            ]
          },
          "metadata": {},
          "execution_count": 55
        }
      ]
    },
    {
      "cell_type": "code",
      "source": [
        "print(classification_report(predictions, ytest))"
      ],
      "metadata": {
        "colab": {
          "base_uri": "https://localhost:8080/"
        },
        "id": "Q-WCD8CfkHBu",
        "outputId": "39978fb3-ac1e-4eed-bcf4-aa0bcad51ba6"
      },
      "execution_count": 56,
      "outputs": [
        {
          "output_type": "stream",
          "name": "stdout",
          "text": [
            "              precision    recall  f1-score   support\n",
            "\n",
            "           0       0.60      0.76      0.67       184\n",
            "           1       0.85      0.73      0.78       339\n",
            "\n",
            "    accuracy                           0.74       523\n",
            "   macro avg       0.72      0.74      0.73       523\n",
            "weighted avg       0.76      0.74      0.74       523\n",
            "\n"
          ]
        }
      ]
    },
    {
      "cell_type": "code",
      "source": [
        "#Support Vector Machine\n",
        "clf = SVC(C=1.0, probability=True) # since we need probabilities\n",
        "clf.fit(five_shot_x, five_shot['Authenticity'])\n",
        "predictions = clf.predict_proba(five_shot_test)\n",
        "predictions = [np.argmax(predictions[i]) for i in range(len(predictions))]\n",
        "\n",
        "accuracy = sklearn.metrics.accuracy_score(predictions,ytest)\n",
        "accuracy"
      ],
      "metadata": {
        "colab": {
          "base_uri": "https://localhost:8080/"
        },
        "id": "hmwp_vdLkJUV",
        "outputId": "5645c32a-33e7-4173-a74c-2e95306952b7"
      },
      "execution_count": 57,
      "outputs": [
        {
          "output_type": "execute_result",
          "data": {
            "text/plain": [
              "0.762906309751434"
            ]
          },
          "metadata": {},
          "execution_count": 57
        }
      ]
    },
    {
      "cell_type": "code",
      "source": [
        "print(classification_report(predictions, ytest))"
      ],
      "metadata": {
        "colab": {
          "base_uri": "https://localhost:8080/"
        },
        "id": "Cq2bPc4lkOGD",
        "outputId": "7e2614bf-6f8f-4ad1-c176-ec91d9b268f6"
      },
      "execution_count": 58,
      "outputs": [
        {
          "output_type": "stream",
          "name": "stdout",
          "text": [
            "              precision    recall  f1-score   support\n",
            "\n",
            "           0       0.66      0.77      0.71       199\n",
            "           1       0.84      0.76      0.80       324\n",
            "\n",
            "    accuracy                           0.76       523\n",
            "   macro avg       0.75      0.77      0.76       523\n",
            "weighted avg       0.77      0.76      0.77       523\n",
            "\n"
          ]
        }
      ]
    },
    {
      "cell_type": "code",
      "source": [
        "#XG-Boost classifier\n",
        "clf = xgb.XGBClassifier(max_depth=7, n_estimators=200, colsample_bytree=0.8, subsample=0.8, nthread=10, learning_rate=0.1)\n",
        "clf.fit(five_shot_x, five_shot['Authenticity'])\n",
        "predictions = clf.predict_proba(five_shot_test)\n",
        "predictions = [np.argmax(predictions[i]) for i in range(len(predictions))]\n",
        "\n",
        "accuracy = sklearn.metrics.accuracy_score(predictions,ytest)\n",
        "accuracy\n"
      ],
      "metadata": {
        "colab": {
          "base_uri": "https://localhost:8080/"
        },
        "id": "lkrNM9ffkRWx",
        "outputId": "f95464f1-0930-4479-82b5-7f9d3d3bfae7"
      },
      "execution_count": 59,
      "outputs": [
        {
          "output_type": "execute_result",
          "data": {
            "text/plain": [
              "0.6328871892925431"
            ]
          },
          "metadata": {},
          "execution_count": 59
        }
      ]
    },
    {
      "cell_type": "code",
      "source": [
        "print(classification_report(predictions, ytest))"
      ],
      "metadata": {
        "id": "RDe8xLp9kWJ3",
        "outputId": "91d49625-7586-4306-b2ea-c39e230c03b5",
        "colab": {
          "base_uri": "https://localhost:8080/"
        }
      },
      "execution_count": 60,
      "outputs": [
        {
          "output_type": "stream",
          "name": "stdout",
          "text": [
            "              precision    recall  f1-score   support\n",
            "\n",
            "           0       0.67      0.58      0.62       273\n",
            "           1       0.60      0.70      0.64       250\n",
            "\n",
            "    accuracy                           0.63       523\n",
            "   macro avg       0.64      0.64      0.63       523\n",
            "weighted avg       0.64      0.63      0.63       523\n",
            "\n"
          ]
        }
      ]
    }
  ]
}